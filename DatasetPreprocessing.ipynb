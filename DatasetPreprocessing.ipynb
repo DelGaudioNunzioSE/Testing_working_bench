{
 "cells": [
  {
   "cell_type": "code",
   "execution_count": 15,
   "id": "b79dadc0",
   "metadata": {},
   "outputs": [],
   "source": [
    "from datasets import load_dataset, concatenate_datasets"
   ]
  },
  {
   "cell_type": "code",
   "execution_count": 16,
   "id": "8e721cbd",
   "metadata": {},
   "outputs": [],
   "source": [
    "from Code_preprocessing.code_cleaner import comment_remover"
   ]
  },
  {
   "cell_type": "markdown",
   "id": "bea30772",
   "metadata": {},
   "source": [
    "**CodeMirage:** is the test to evaluate:\n",
    "- Language generalization\n",
    "- LLMs Generalization\n",
    "- pharafrazed\n",
    "\n",
    "**AIGCodeSet:** is the test to evaluate:\n",
    "- competitive code evaluation\n",
    "- correct code vs wrong code evaluation\n",
    "\n",
    "**Sun et al:** is the test to evaluate:\n",
    "- competitive code evaluation\n",
    "- correct code vs wrong code evaluation"
   ]
  },
  {
   "cell_type": "markdown",
   "id": "7c52016c",
   "metadata": {},
   "source": [
    "# CodeMirage"
   ]
  },
  {
   "cell_type": "code",
   "execution_count": 17,
   "id": "c324f626",
   "metadata": {},
   "outputs": [
    {
     "name": "stdout",
     "output_type": "stream",
     "text": [
      "Dataset({\n",
      "    features: ['code', 'language', 'source', 'variant'],\n",
      "    num_rows: 209988\n",
      "})\n"
     ]
    }
   ],
   "source": [
    "codemirage_split = load_dataset(\"HanxiGuo/CodeMirage\")\n",
    "\n",
    "\n",
    "codemirage = concatenate_datasets([codemirage_split[\"train\"],codemirage_split[\"test\"]])\n",
    "print(codemirage)\n",
    "\n",
    "      \n",
    "assert (len(codemirage_split[\"train\"])+len(codemirage_split[\"test\"])) == len (codemirage)\n",
    "\n",
    "codemirage = codemirage.shuffle(seed = 30)\n",
    "\n",
    "#codemirage = codemirage.select(range(1000))\n",
    "#print(codemirage)"
   ]
  },
  {
   "cell_type": "code",
   "execution_count": 18,
   "id": "ac7afaed",
   "metadata": {},
   "outputs": [
    {
     "name": "stdout",
     "output_type": "stream",
     "text": [
      "Dataset({\n",
      "    features: ['code', 'language', 'source', 'variant'],\n",
      "    num_rows: 10000\n",
      "})\n",
      "Dataset({\n",
      "    features: ['code', 'language', 'source', 'variant'],\n",
      "    num_rows: 199988\n",
      "})\n"
     ]
    }
   ],
   "source": [
    "human = codemirage.filter(lambda x: x[\"source\"] == \"Human\" )\n",
    "not_human = codemirage.filter(lambda x: x[\"source\"] != \"Human\" )\n",
    "\n",
    "print(human)\n",
    "print(not_human)\n"
   ]
  },
  {
   "cell_type": "code",
   "execution_count": 19,
   "id": "8b3ff8d4",
   "metadata": {},
   "outputs": [],
   "source": [
    "from datasets import Dataset\n",
    "from collections import defaultdict\n",
    "import random\n",
    "\n",
    "def balanced_sample_multi_cols(\n",
    "    ds: Dataset,\n",
    "    cols=(\"language\", \"source\", \"variant\"),\n",
    "    desired_n: int = 1000,\n",
    "    seed: int = 30,\n",
    "):\n",
    "    \"\"\"\n",
    "    Restituisce un sotto-dataset bilanciato su TUTTE le combinazioni presenti di `cols`,\n",
    "    con lo stesso numero di esempi per ciascuna tripletta. Se 1000 non è raggiungibile\n",
    "    mantenendo l’eguaglianza perfetta, restituisce il massimo bilanciato <= desired_n.\n",
    "\n",
    "    Nota: si considerano solo le combinazioni EFFETTIVAMENTE presenti nel dataset.\n",
    "    \"\"\"\n",
    "    rng = random.Random(seed)\n",
    "\n",
    "    # 1) indicizza gli indici per gruppo (tripletta)\n",
    "    idx_by_group = defaultdict(list)\n",
    "    for i, ex in enumerate(ds):\n",
    "        key = tuple(ex[c] for c in cols)\n",
    "        idx_by_group[key].append(i)\n",
    "\n",
    "    groups = list(idx_by_group.keys())\n",
    "    G = len(groups)\n",
    "    if G == 0:\n",
    "        raise ValueError(\"Nessun gruppo trovato: controlla i nomi delle colonne.\")\n",
    "\n",
    "    # 2) quanti per gruppo possiamo prendere mantenendo l’uguaglianza?\n",
    "    #    (a) il target teorico è floor(desired_n / G)\n",
    "    #    (b) non possiamo superare il minimo disponibile tra i gruppi\n",
    "    target_per_group = desired_n // G\n",
    "    cap_min = min(len(idxs) for idxs in idx_by_group.values())\n",
    "    take = min(target_per_group, cap_min)\n",
    "\n",
    "    if take == 0:\n",
    "        raise ValueError(\n",
    "            f\"Impossibile estrarre campione bilanciato: desired_n={desired_n} < numero gruppi={G} \"\n",
    "            f\"oppure alcuni gruppi hanno 0 elementi. Aumenta desired_n o riduci i gruppi.\"\n",
    "        )\n",
    "\n",
    "    # 3) campiona esattamente 'take' per ogni gruppo\n",
    "    chosen = []\n",
    "    for g in groups:\n",
    "        idxs = idx_by_group[g]\n",
    "        chosen.extend(rng.sample(idxs, k=take))\n",
    "\n",
    "    chosen.sort()\n",
    "    sub = ds.select(chosen)\n",
    "\n",
    "    return sub\n"
   ]
  },
  {
   "cell_type": "code",
   "execution_count": 20,
   "id": "afe1ffbb",
   "metadata": {},
   "outputs": [],
   "source": [
    "from collections import Counter"
   ]
  },
  {
   "cell_type": "code",
   "execution_count": 21,
   "id": "687eb440",
   "metadata": {},
   "outputs": [
    {
     "name": "stdout",
     "output_type": "stream",
     "text": [
      "Len subset: 400\n",
      "Counter({('Python', 'qwen2.5-coder', 'Normal'): 2, ('HTML', 'deepseek-v3', 'Normal'): 2, ('Ruby', 'gpt-4o-mini', 'Paraphrased'): 2, ('C', 'qwen2.5-coder', 'Normal'): 2, ('JavaScript', 'claude-3.5-haiku', 'Normal'): 2, ('JavaScript', 'gemini-2.0-flash-thinking-exp', 'Paraphrased'): 2, ('JavaScript', 'gemini-2.0-flash', 'Paraphrased'): 2, ('Ruby', 'llama3.3-70b', 'Normal'): 2, ('JavaScript', 'deepseek-r1', 'Normal'): 2, ('Python', 'deepseek-v3', 'Paraphrased'): 2, ('Python', 'o3-mini', 'Paraphrased'): 2, ('Ruby', 'deepseek-r1', 'Normal'): 2, ('CSharp', 'gemini-2.0-pro-exp', 'Paraphrased'): 2, ('JavaScript', 'gpt-4o-mini', 'Paraphrased'): 2, ('CPP', 'gemini-2.0-flash', 'Paraphrased'): 2, ('HTML', 'claude-3.5-haiku', 'Paraphrased'): 2, ('HTML', 'deepseek-r1', 'Paraphrased'): 2, ('HTML', 'gemini-2.0-flash', 'Normal'): 2, ('CPP', 'claude-3.5-haiku', 'Paraphrased'): 2, ('Ruby', 'o3-mini', 'Normal'): 2, ('C', 'gemini-2.0-flash-thinking-exp', 'Normal'): 2, ('Go', 'deepseek-v3', 'Normal'): 2, ('Ruby', 'gemini-2.0-flash-thinking-exp', 'Normal'): 2, ('PHP', 'deepseek-v3', 'Paraphrased'): 2, ('CPP', 'gpt-4o-mini', 'Paraphrased'): 2, ('JavaScript', 'deepseek-v3', 'Paraphrased'): 2, ('Ruby', 'qwen2.5-coder', 'Paraphrased'): 2, ('Ruby', 'deepseek-v3', 'Normal'): 2, ('Java', 'deepseek-r1', 'Paraphrased'): 2, ('PHP', 'qwen2.5-coder', 'Paraphrased'): 2, ('C', 'deepseek-r1', 'Normal'): 2, ('PHP', 'gemini-2.0-flash', 'Normal'): 2, ('PHP', 'gemini-2.0-pro-exp', 'Paraphrased'): 2, ('CPP', 'llama3.3-70b', 'Normal'): 2, ('Java', 'gpt-4o-mini', 'Normal'): 2, ('Python', 'deepseek-r1', 'Normal'): 2, ('PHP', 'claude-3.5-haiku', 'Normal'): 2, ('Java', 'qwen2.5-coder', 'Paraphrased'): 2, ('Go', 'gemini-2.0-flash-thinking-exp', 'Paraphrased'): 2, ('CSharp', 'deepseek-v3', 'Paraphrased'): 2, ('C', 'gemini-2.0-flash-thinking-exp', 'Paraphrased'): 2, ('CPP', 'qwen2.5-coder', 'Paraphrased'): 2, ('Ruby', 'deepseek-r1', 'Paraphrased'): 2, ('C', 'claude-3.5-haiku', 'Paraphrased'): 2, ('C', 'qwen2.5-coder', 'Paraphrased'): 2, ('HTML', 'deepseek-r1', 'Normal'): 2, ('JavaScript', 'claude-3.5-haiku', 'Paraphrased'): 2, ('C', 'llama3.3-70b', 'Paraphrased'): 2, ('Java', 'gemini-2.0-flash-thinking-exp', 'Paraphrased'): 2, ('CPP', 'deepseek-v3', 'Paraphrased'): 2, ('JavaScript', 'llama3.3-70b', 'Paraphrased'): 2, ('JavaScript', 'o3-mini', 'Paraphrased'): 2, ('PHP', 'gpt-4o-mini', 'Normal'): 2, ('PHP', 'qwen2.5-coder', 'Normal'): 2, ('CPP', 'gemini-2.0-pro-exp', 'Normal'): 2, ('Java', 'deepseek-v3', 'Paraphrased'): 2, ('Java', 'gemini-2.0-pro-exp', 'Paraphrased'): 2, ('Go', 'o3-mini', 'Normal'): 2, ('PHP', 'deepseek-r1', 'Normal'): 2, ('CPP', 'llama3.3-70b', 'Paraphrased'): 2, ('Go', 'gpt-4o-mini', 'Paraphrased'): 2, ('JavaScript', 'llama3.3-70b', 'Normal'): 2, ('PHP', 'gemini-2.0-flash', 'Paraphrased'): 2, ('Java', 'llama3.3-70b', 'Normal'): 2, ('Go', 'deepseek-r1', 'Paraphrased'): 2, ('HTML', 'gemini-2.0-pro-exp', 'Paraphrased'): 2, ('CSharp', 'claude-3.5-haiku', 'Paraphrased'): 2, ('Python', 'qwen2.5-coder', 'Paraphrased'): 2, ('Java', 'gpt-4o-mini', 'Paraphrased'): 2, ('Go', 'o3-mini', 'Paraphrased'): 2, ('Python', 'claude-3.5-haiku', 'Paraphrased'): 2, ('Java', 'deepseek-v3', 'Normal'): 2, ('Python', 'deepseek-r1', 'Paraphrased'): 2, ('C', 'o3-mini', 'Paraphrased'): 2, ('C', 'gemini-2.0-pro-exp', 'Paraphrased'): 2, ('HTML', 'qwen2.5-coder', 'Normal'): 2, ('Python', 'gemini-2.0-pro-exp', 'Paraphrased'): 2, ('CSharp', 'deepseek-v3', 'Normal'): 2, ('JavaScript', 'gpt-4o-mini', 'Normal'): 2, ('CSharp', 'gemini-2.0-flash', 'Paraphrased'): 2, ('JavaScript', 'deepseek-v3', 'Normal'): 2, ('Ruby', 'gemini-2.0-flash-thinking-exp', 'Paraphrased'): 2, ('Python', 'gemini-2.0-flash', 'Paraphrased'): 2, ('PHP', 'o3-mini', 'Normal'): 2, ('Ruby', 'deepseek-v3', 'Paraphrased'): 2, ('Go', 'qwen2.5-coder', 'Paraphrased'): 2, ('HTML', 'llama3.3-70b', 'Paraphrased'): 2, ('HTML', 'o3-mini', 'Paraphrased'): 2, ('Python', 'gemini-2.0-flash-thinking-exp', 'Normal'): 2, ('C', 'gemini-2.0-flash', 'Paraphrased'): 2, ('CSharp', 'llama3.3-70b', 'Paraphrased'): 2, ('Go', 'qwen2.5-coder', 'Normal'): 2, ('PHP', 'gemini-2.0-pro-exp', 'Normal'): 2, ('Go', 'gemini-2.0-flash-thinking-exp', 'Normal'): 2, ('CPP', 'claude-3.5-haiku', 'Normal'): 2, ('C', 'deepseek-v3', 'Normal'): 2, ('CSharp', 'qwen2.5-coder', 'Paraphrased'): 2, ('C', 'gemini-2.0-flash', 'Normal'): 2, ('HTML', 'qwen2.5-coder', 'Paraphrased'): 2, ('CPP', 'deepseek-r1', 'Normal'): 2, ('Python', 'o3-mini', 'Normal'): 2, ('HTML', 'llama3.3-70b', 'Normal'): 2, ('Go', 'gemini-2.0-pro-exp', 'Paraphrased'): 2, ('CPP', 'deepseek-v3', 'Normal'): 2, ('Go', 'deepseek-v3', 'Paraphrased'): 2, ('CSharp', 'deepseek-r1', 'Normal'): 2, ('Go', 'gemini-2.0-flash', 'Normal'): 2, ('PHP', 'claude-3.5-haiku', 'Paraphrased'): 2, ('Python', 'gpt-4o-mini', 'Normal'): 2, ('CPP', 'gemini-2.0-pro-exp', 'Paraphrased'): 2, ('JavaScript', 'qwen2.5-coder', 'Normal'): 2, ('CPP', 'deepseek-r1', 'Paraphrased'): 2, ('Ruby', 'o3-mini', 'Paraphrased'): 2, ('JavaScript', 'deepseek-r1', 'Paraphrased'): 2, ('Go', 'claude-3.5-haiku', 'Normal'): 2, ('Java', 'gemini-2.0-flash-thinking-exp', 'Normal'): 2, ('C', 'llama3.3-70b', 'Normal'): 2, ('HTML', 'gemini-2.0-pro-exp', 'Normal'): 2, ('PHP', 'deepseek-r1', 'Paraphrased'): 2, ('Python', 'gemini-2.0-flash', 'Normal'): 2, ('Go', 'gpt-4o-mini', 'Normal'): 2, ('Ruby', 'qwen2.5-coder', 'Normal'): 2, ('Go', 'claude-3.5-haiku', 'Paraphrased'): 2, ('Python', 'gemini-2.0-pro-exp', 'Normal'): 2, ('JavaScript', 'qwen2.5-coder', 'Paraphrased'): 2, ('Java', 'claude-3.5-haiku', 'Paraphrased'): 2, ('Java', 'claude-3.5-haiku', 'Normal'): 2, ('Java', 'o3-mini', 'Normal'): 2, ('Ruby', 'claude-3.5-haiku', 'Normal'): 2, ('Python', 'llama3.3-70b', 'Paraphrased'): 2, ('Go', 'gemini-2.0-pro-exp', 'Normal'): 2, ('Ruby', 'gemini-2.0-pro-exp', 'Normal'): 2, ('Python', 'llama3.3-70b', 'Normal'): 2, ('C', 'claude-3.5-haiku', 'Normal'): 2, ('CSharp', 'gpt-4o-mini', 'Paraphrased'): 2, ('HTML', 'gemini-2.0-flash', 'Paraphrased'): 2, ('CSharp', 'llama3.3-70b', 'Normal'): 2, ('PHP', 'llama3.3-70b', 'Paraphrased'): 2, ('Ruby', 'gemini-2.0-flash', 'Normal'): 2, ('HTML', 'gemini-2.0-flash-thinking-exp', 'Paraphrased'): 2, ('Ruby', 'gemini-2.0-flash', 'Paraphrased'): 2, ('PHP', 'llama3.3-70b', 'Normal'): 2, ('CPP', 'gemini-2.0-flash', 'Normal'): 2, ('CSharp', 'qwen2.5-coder', 'Normal'): 2, ('C', 'gemini-2.0-pro-exp', 'Normal'): 2, ('CSharp', 'deepseek-r1', 'Paraphrased'): 2, ('Java', 'qwen2.5-coder', 'Normal'): 2, ('CSharp', 'gemini-2.0-flash-thinking-exp', 'Paraphrased'): 2, ('Java', 'o3-mini', 'Paraphrased'): 2, ('Python', 'gemini-2.0-flash-thinking-exp', 'Paraphrased'): 2, ('Python', 'claude-3.5-haiku', 'Normal'): 2, ('HTML', 'claude-3.5-haiku', 'Normal'): 2, ('C', 'deepseek-r1', 'Paraphrased'): 2, ('CPP', 'gpt-4o-mini', 'Normal'): 2, ('Ruby', 'llama3.3-70b', 'Paraphrased'): 2, ('HTML', 'deepseek-v3', 'Paraphrased'): 2, ('Java', 'gemini-2.0-pro-exp', 'Normal'): 2, ('HTML', 'o3-mini', 'Normal'): 2, ('HTML', 'gemini-2.0-flash-thinking-exp', 'Normal'): 2, ('PHP', 'deepseek-v3', 'Normal'): 2, ('CSharp', 'gemini-2.0-flash-thinking-exp', 'Normal'): 2, ('JavaScript', 'o3-mini', 'Normal'): 2, ('PHP', 'gemini-2.0-flash-thinking-exp', 'Normal'): 2, ('PHP', 'o3-mini', 'Paraphrased'): 2, ('CSharp', 'o3-mini', 'Normal'): 2, ('PHP', 'gpt-4o-mini', 'Paraphrased'): 2, ('Go', 'deepseek-r1', 'Normal'): 2, ('JavaScript', 'gemini-2.0-pro-exp', 'Normal'): 2, ('CSharp', 'gemini-2.0-pro-exp', 'Normal'): 2, ('CSharp', 'o3-mini', 'Paraphrased'): 2, ('CPP', 'o3-mini', 'Normal'): 2, ('C', 'o3-mini', 'Normal'): 2, ('Go', 'gemini-2.0-flash', 'Paraphrased'): 2, ('JavaScript', 'gemini-2.0-pro-exp', 'Paraphrased'): 2, ('JavaScript', 'gemini-2.0-flash-thinking-exp', 'Normal'): 2, ('Java', 'deepseek-r1', 'Normal'): 2, ('CSharp', 'claude-3.5-haiku', 'Normal'): 2, ('Java', 'llama3.3-70b', 'Paraphrased'): 2, ('Python', 'gpt-4o-mini', 'Paraphrased'): 2, ('CPP', 'o3-mini', 'Paraphrased'): 2, ('Java', 'gemini-2.0-flash', 'Normal'): 2, ('Ruby', 'claude-3.5-haiku', 'Paraphrased'): 2, ('Ruby', 'gpt-4o-mini', 'Normal'): 2, ('Go', 'llama3.3-70b', 'Normal'): 2, ('Java', 'gemini-2.0-flash', 'Paraphrased'): 2, ('C', 'gpt-4o-mini', 'Paraphrased'): 2, ('Ruby', 'gemini-2.0-pro-exp', 'Paraphrased'): 2, ('CSharp', 'gemini-2.0-flash', 'Normal'): 2, ('CPP', 'qwen2.5-coder', 'Normal'): 2, ('PHP', 'gemini-2.0-flash-thinking-exp', 'Paraphrased'): 2, ('C', 'deepseek-v3', 'Paraphrased'): 2, ('C', 'gpt-4o-mini', 'Normal'): 2, ('CPP', 'gemini-2.0-flash-thinking-exp', 'Paraphrased'): 2, ('HTML', 'gpt-4o-mini', 'Paraphrased'): 2, ('CSharp', 'gpt-4o-mini', 'Normal'): 2, ('Go', 'llama3.3-70b', 'Paraphrased'): 2, ('Python', 'deepseek-v3', 'Normal'): 2, ('CPP', 'gemini-2.0-flash-thinking-exp', 'Normal'): 2, ('JavaScript', 'gemini-2.0-flash', 'Normal'): 2, ('HTML', 'gpt-4o-mini', 'Normal'): 2})\n"
     ]
    }
   ],
   "source": [
    "sub_not_human = balanced_sample_multi_cols(not_human,\n",
    "                                cols=(\"language\",\"source\",\"variant\"),\n",
    "                                desired_n=500,\n",
    "                                seed=30)\n",
    "\n",
    "\n",
    "print(\"Len subset:\", len(sub_not_human))   # sarà take * num_groups\n",
    "\n",
    "# Verify balance\n",
    "cnt = Counter((ex[\"language\"], ex[\"source\"], ex[\"variant\"]) for ex in sub_not_human)\n",
    "print(cnt)"
   ]
  },
  {
   "cell_type": "code",
   "execution_count": 22,
   "id": "261288d8",
   "metadata": {},
   "outputs": [
    {
     "name": "stdout",
     "output_type": "stream",
     "text": [
      "Counter({'Java': 40, 'Ruby': 40, 'C': 40, 'Go': 40, 'HTML': 40, 'PHP': 40, 'JavaScript': 40, 'CSharp': 40, 'CPP': 40, 'Python': 40})\n"
     ]
    }
   ],
   "source": [
    "sub_human = balanced_sample_multi_cols(human,\n",
    "                                cols=(\"language\",),\n",
    "                                desired_n=len(sub_not_human),\n",
    "                                seed=30)\n",
    "\n",
    "\n",
    "assert len(sub_human) == len(sub_not_human)\n",
    "\n",
    "# Verify balance\n",
    "cnt = Counter((ex[\"language\"]) for ex in sub_human)\n",
    "print(cnt)"
   ]
  },
  {
   "cell_type": "code",
   "execution_count": 23,
   "id": "191f9e2d",
   "metadata": {},
   "outputs": [],
   "source": [
    "codemirage = concatenate_datasets([sub_human, sub_not_human])\n",
    "codemirage = codemirage.shuffle(seed=30)"
   ]
  },
  {
   "cell_type": "code",
   "execution_count": 24,
   "id": "54d186aa",
   "metadata": {},
   "outputs": [
    {
     "name": "stdout",
     "output_type": "stream",
     "text": [
      "Dataset({\n",
      "    features: ['code', 'language', 'source', 'variant', 'cleared_code'],\n",
      "    num_rows: 800\n",
      "})\n"
     ]
    }
   ],
   "source": [
    "all_codes = [comment_remover(x, language) for x, language in zip(codemirage[\"code\"], codemirage[\"language\"])]\n",
    "newCodeMirage = codemirage.add_column(\"cleared_code\", all_codes)\n",
    "print(newCodeMirage)"
   ]
  },
  {
   "cell_type": "code",
   "execution_count": 25,
   "id": "91a5f818",
   "metadata": {},
   "outputs": [
    {
     "name": "stdout",
     "output_type": "stream",
     "text": [
      "Dataset({\n",
      "    features: ['code', 'language', 'source', 'variant', 'cleared_code'],\n",
      "    num_rows: 800\n",
      "})\n"
     ]
    }
   ],
   "source": [
    "newCodeMirage_notNone = newCodeMirage.filter(lambda x: x[\"code\"] is not None and len(x[\"code\"]) >= 10)\n",
    "print(newCodeMirage_notNone)"
   ]
  },
  {
   "cell_type": "code",
   "execution_count": 26,
   "id": "9425d0d4",
   "metadata": {},
   "outputs": [
    {
     "data": {
      "application/vnd.jupyter.widget-view+json": {
       "model_id": "7f2cce364a124097ac0ff3629253d6c8",
       "version_major": 2,
       "version_minor": 0
      },
      "text/plain": [
       "Creating CSV from Arrow format:   0%|          | 0/1 [00:00<?, ?ba/s]"
      ]
     },
     "metadata": {},
     "output_type": "display_data"
    },
    {
     "data": {
      "text/plain": [
       "4651019"
      ]
     },
     "execution_count": 26,
     "metadata": {},
     "output_type": "execute_result"
    }
   ],
   "source": [
    "ds_with_idx = newCodeMirage_notNone.map(lambda example, idx: {\"idx\": idx}, with_indices=True)\n",
    "ds_with_idx.to_csv(\"./Dataset/CodeMirage.csv\")"
   ]
  },
  {
   "cell_type": "code",
   "execution_count": 29,
   "id": "275ab29c",
   "metadata": {},
   "outputs": [
    {
     "data": {
      "application/vnd.jupyter.widget-view+json": {
       "model_id": "86438dc7ecf9464f93a55c905ba0a76e",
       "version_major": 2,
       "version_minor": 0
      },
      "text/plain": [
       "Saving the dataset (0/1 shards):   0%|          | 0/800 [00:00<?, ? examples/s]"
      ]
     },
     "metadata": {},
     "output_type": "display_data"
    }
   ],
   "source": [
    "# saving in a local path\n",
    "newCodeMirage_notNone.save_to_disk(\"./Dataset/CodeMirage\")\n",
    "\n",
    "# To upload: #\n",
    "# from datasets import load_from_disk\n",
    "# ds2 = load_from_disk(\"/path/to/my_dataset\")\n"
   ]
  },
  {
   "cell_type": "markdown",
   "id": "6441e015",
   "metadata": {},
   "source": [
    "# AIGCodeSet"
   ]
  },
  {
   "cell_type": "code",
   "execution_count": 30,
   "id": "3ca333fb",
   "metadata": {},
   "outputs": [
    {
     "name": "stdout",
     "output_type": "stream",
     "text": [
      "Dataset({\n",
      "    features: ['problem_id', 'submission_id', 'status_in_folder', 'LLM', 'code', 'ada_embedding', 'label', 'lines', 'code_lines', 'comments', 'functions', 'blank_lines'],\n",
      "    num_rows: 15166\n",
      "})\n"
     ]
    }
   ],
   "source": [
    "AIGCodeSet_split = load_dataset(\"basakdemirok/AIGCodeSet\")\n",
    "\n",
    "\n",
    "AIGCodeSet = concatenate_datasets([AIGCodeSet_split[\"train\"],AIGCodeSet_split[\"test\"]])\n",
    "print(AIGCodeSet)\n",
    "\n",
    "assert (len(AIGCodeSet_split[\"train\"])+len(AIGCodeSet_split[\"test\"])) == len (AIGCodeSet)\n",
    "\n",
    "AIGCodeSet = AIGCodeSet.shuffle(seed = 30)"
   ]
  },
  {
   "cell_type": "code",
   "execution_count": 31,
   "id": "f70f4003",
   "metadata": {},
   "outputs": [
    {
     "name": "stdout",
     "output_type": "stream",
     "text": [
      "Len subset: 996\n",
      "Counter({('LLAMA', 'Generate', 1): 83, ('CODESTRAL', 'Wrong', 1): 83, ('Human', 'Accepted', 0): 83, ('Human', 'Runtime', 0): 83, ('LLAMA', 'Runtime', 1): 83, ('GEMINI', 'Wrong', 1): 83, ('GEMINI', 'Generate', 1): 83, ('LLAMA', 'Wrong', 1): 83, ('CODESTRAL', 'Generate', 1): 83, ('Human', 'Wrong', 0): 83, ('CODESTRAL', 'Runtime', 1): 83, ('GEMINI', 'Runtime', 1): 83})\n"
     ]
    }
   ],
   "source": [
    "AIGCodeSet_sub = balanced_sample_multi_cols(AIGCodeSet,\n",
    "                                cols=(\"LLM\",\"status_in_folder\",\"label\"),\n",
    "                                desired_n=1000,\n",
    "                                seed=30)\n",
    "\n",
    "\n",
    "print(\"Len subset:\", len(AIGCodeSet_sub))   # sarà take * num_groups\n",
    "\n",
    "# Verify balance\n",
    "cnt = Counter((ex[\"LLM\"], ex[\"status_in_folder\"], ex[\"label\"]) for ex in AIGCodeSet_sub)\n",
    "print(cnt)"
   ]
  },
  {
   "cell_type": "code",
   "execution_count": 32,
   "id": "23dd1fb2",
   "metadata": {},
   "outputs": [
    {
     "name": "stdout",
     "output_type": "stream",
     "text": [
      "Dataset({\n",
      "    features: ['problem_id', 'submission_id', 'status_in_folder', 'LLM', 'code', 'ada_embedding', 'label', 'lines', 'code_lines', 'comments', 'functions', 'blank_lines', 'cleared_code'],\n",
      "    num_rows: 996\n",
      "})\n"
     ]
    }
   ],
   "source": [
    "all_codes = [comment_remover(x, \"Python\") for x in AIGCodeSet_sub[\"code\"]]\n",
    "newAIGCodeSet = AIGCodeSet_sub.add_column(\"cleared_code\", all_codes)\n",
    "print(newAIGCodeSet)"
   ]
  },
  {
   "cell_type": "code",
   "execution_count": 33,
   "id": "ffd4ca9f",
   "metadata": {},
   "outputs": [
    {
     "name": "stdout",
     "output_type": "stream",
     "text": [
      "Dataset({\n",
      "    features: ['problem_id', 'submission_id', 'status_in_folder', 'LLM', 'code', 'ada_embedding', 'label', 'lines', 'code_lines', 'comments', 'functions', 'blank_lines', 'cleared_code'],\n",
      "    num_rows: 996\n",
      "})\n"
     ]
    }
   ],
   "source": [
    "newAIGCodeSet_notNone = newAIGCodeSet.filter(lambda x: x[\"code\"] is not None and len(x[\"code\"]) >= 10)\n",
    "print(newAIGCodeSet_notNone)"
   ]
  },
  {
   "cell_type": "code",
   "execution_count": 47,
   "id": "be46f63b",
   "metadata": {},
   "outputs": [
    {
     "name": "stdout",
     "output_type": "stream",
     "text": [
      "1\n"
     ]
    },
    {
     "data": {
      "application/vnd.jupyter.widget-view+json": {
       "model_id": "757af9880bae448b98e38b8300ff8261",
       "version_major": 2,
       "version_minor": 0
      },
      "text/plain": [
       "Map:   0%|          | 0/996 [00:00<?, ? examples/s]"
      ]
     },
     "metadata": {},
     "output_type": "display_data"
    },
    {
     "data": {
      "application/vnd.jupyter.widget-view+json": {
       "model_id": "8fa8f22215234a3b821173daa7bf9ba5",
       "version_major": 2,
       "version_minor": 0
      },
      "text/plain": [
       "Creating CSV from Arrow format:   0%|          | 0/1 [00:00<?, ?ba/s]"
      ]
     },
     "metadata": {},
     "output_type": "display_data"
    },
    {
     "data": {
      "text/plain": [
       "35198267"
      ]
     },
     "execution_count": 47,
     "metadata": {},
     "output_type": "execute_result"
    }
   ],
   "source": [
    "print(newAIGCodeSet_notNone[0][\"label\"])\n",
    "AIGC_with_idx = newAIGCodeSet_notNone.map(lambda example, idx: {\"idx\": idx}, with_indices=True)\n",
    "AIGC_with_idx.to_csv(\"./Dataset/AIGCodeSet.csv\")"
   ]
  },
  {
   "cell_type": "code",
   "execution_count": 48,
   "id": "d3fb93cc",
   "metadata": {},
   "outputs": [
    {
     "data": {
      "application/vnd.jupyter.widget-view+json": {
       "model_id": "8fdc1fd9e2cd40cab756b366dfab1287",
       "version_major": 2,
       "version_minor": 0
      },
      "text/plain": [
       "Filter:   0%|          | 0/996 [00:00<?, ? examples/s]"
      ]
     },
     "metadata": {},
     "output_type": "display_data"
    },
    {
     "data": {
      "application/vnd.jupyter.widget-view+json": {
       "model_id": "79a2d44eb7814ebfad74fc75aa60904e",
       "version_major": 2,
       "version_minor": 0
      },
      "text/plain": [
       "Filter:   0%|          | 0/996 [00:00<?, ? examples/s]"
      ]
     },
     "metadata": {},
     "output_type": "display_data"
    }
   ],
   "source": [
    "from datasets import DatasetDict\n",
    "\n",
    "newAIGCodeSet_notNone_wrongcode = AIGC_with_idx.filter(lambda x: x[\"status_in_folder\"] == \"Runtime\" or x[\"status_in_folder\"] == \"Wrong\")\n",
    "newAIGCodeSet_notNone_rightcode = AIGC_with_idx.filter(lambda x: x[\"status_in_folder\"] == \"Generate\")\n",
    "\n",
    "\n",
    "\n",
    "AIGCodeSet_Dict = DatasetDict({\n",
    "    \"wrongcode\": newAIGCodeSet_notNone_wrongcode,\n",
    "    \"rightcode\": newAIGCodeSet_notNone_rightcode,\n",
    "})"
   ]
  },
  {
   "cell_type": "code",
   "execution_count": 50,
   "id": "b609e9d3",
   "metadata": {},
   "outputs": [
    {
     "data": {
      "application/vnd.jupyter.widget-view+json": {
       "model_id": "ec7ab17c08d144559a994ae0590d5048",
       "version_major": 2,
       "version_minor": 0
      },
      "text/plain": [
       "Saving the dataset (0/1 shards):   0%|          | 0/664 [00:00<?, ? examples/s]"
      ]
     },
     "metadata": {},
     "output_type": "display_data"
    },
    {
     "data": {
      "application/vnd.jupyter.widget-view+json": {
       "model_id": "804b1003e2f24688a7fa0234897c634d",
       "version_major": 2,
       "version_minor": 0
      },
      "text/plain": [
       "Saving the dataset (0/1 shards):   0%|          | 0/249 [00:00<?, ? examples/s]"
      ]
     },
     "metadata": {},
     "output_type": "display_data"
    }
   ],
   "source": [
    "AIGCodeSet_Dict.save_to_disk(\"./Dataset/AIGCodeSet\")"
   ]
  },
  {
   "cell_type": "markdown",
   "id": "ffcd452c",
   "metadata": {},
   "source": [
    "# Sun et al"
   ]
  },
  {
   "cell_type": "code",
   "execution_count": 39,
   "id": "0d566ed7",
   "metadata": {},
   "outputs": [
    {
     "name": "stdout",
     "output_type": "stream",
     "text": [
      "Dataset({\n",
      "    features: ['Source Name', 'code', 'instruction', 'test_result.passed'],\n",
      "    num_rows: 272\n",
      "})\n"
     ]
    }
   ],
   "source": [
    "Sun_et_al = load_dataset('json', data_files=\"./Dataset/SunEtAl/SunEtAl.jsonl\")\n",
    "\n",
    "\n",
    "Sun_et_al = Sun_et_al[\"train\"]\n",
    "\n",
    "Sun_et_al = Sun_et_al.flatten()\n",
    "Sun_et_al = Sun_et_al.remove_columns([\"metadata.index\", \"metadata.local index\", \"metadata.variant\",\n",
    "                                      \"test_code\",\"file_source\", \"test_result.test_reliability\",\n",
    "                                      \"test_result.errors\", \"solution_code\",\n",
    "                                      'test_result.failed'])\n",
    "\n",
    "Sun_et_al = Sun_et_al.rename_column(\"metadata.GPT Answer\", \"code\")\n",
    "Sun_et_al = Sun_et_al.rename_column(\"metadata.Source Name\", \"Source Name\")\n",
    "\n",
    "print(Sun_et_al)\n",
    "\n",
    "Sun_et_al = Sun_et_al.shuffle(seed = 30)"
   ]
  },
  {
   "cell_type": "code",
   "execution_count": 40,
   "id": "f39731b8",
   "metadata": {},
   "outputs": [
    {
     "name": "stdout",
     "output_type": "stream",
     "text": [
      "Dataset({\n",
      "    features: ['Source Name', 'code', 'instruction', 'test_result.passed', 'cleared_code'],\n",
      "    num_rows: 272\n",
      "})\n"
     ]
    }
   ],
   "source": [
    "all_codes = [comment_remover(x, \"Python\") for x in Sun_et_al[\"code\"]]\n",
    "newSun_et_al = Sun_et_al.add_column(\"cleared_code\", all_codes)\n",
    "print(newSun_et_al)"
   ]
  },
  {
   "cell_type": "code",
   "execution_count": 41,
   "id": "6cc17e37",
   "metadata": {},
   "outputs": [
    {
     "name": "stdout",
     "output_type": "stream",
     "text": [
      "Dataset({\n",
      "    features: ['Source Name', 'code', 'instruction', 'test_result.passed', 'cleared_code'],\n",
      "    num_rows: 272\n",
      "})\n"
     ]
    }
   ],
   "source": [
    "newSun_et_al_notNone = newSun_et_al.filter(lambda x: x[\"code\"] is not None and len(x[\"code\"]) >= 10)\n",
    "print(newSun_et_al_notNone)"
   ]
  },
  {
   "cell_type": "code",
   "execution_count": 42,
   "id": "a27961b0",
   "metadata": {},
   "outputs": [
    {
     "data": {
      "application/vnd.jupyter.widget-view+json": {
       "model_id": "f60083b4829b4ce2ae417d0a835c0c6b",
       "version_major": 2,
       "version_minor": 0
      },
      "text/plain": [
       "Creating CSV from Arrow format:   0%|          | 0/1 [00:00<?, ?ba/s]"
      ]
     },
     "metadata": {},
     "output_type": "display_data"
    },
    {
     "data": {
      "text/plain": [
       "311055"
      ]
     },
     "execution_count": 42,
     "metadata": {},
     "output_type": "execute_result"
    }
   ],
   "source": [
    "ds_with_idx = newSun_et_al_notNone.map(lambda example, idx: {\"idx\": idx}, with_indices=True)\n",
    "ds_with_idx.to_csv(\"./Dataset/SunEtAl.csv\")"
   ]
  },
  {
   "cell_type": "code",
   "execution_count": 43,
   "id": "0c1c24bd",
   "metadata": {},
   "outputs": [
    {
     "name": "stdout",
     "output_type": "stream",
     "text": [
      "\n"
     ]
    }
   ],
   "source": [
    "print()"
   ]
  },
  {
   "cell_type": "code",
   "execution_count": 44,
   "id": "0d02a88a",
   "metadata": {},
   "outputs": [
    {
     "name": "stdout",
     "output_type": "stream",
     "text": [
      "Dataset({\n",
      "    features: ['Source Name', 'code', 'instruction', 'test_result.passed', 'cleared_code'],\n",
      "    num_rows: 166\n",
      "})\n",
      "Dataset({\n",
      "    features: ['Source Name', 'code', 'instruction', 'test_result.passed', 'cleared_code'],\n",
      "    num_rows: 106\n",
      "})\n"
     ]
    }
   ],
   "source": [
    "from datasets import DatasetDict\n",
    "\n",
    "newSun_et_al_notNone_wrongcode = newSun_et_al_notNone.filter(lambda x: x[\"test_result.passed\"] > 0 )\n",
    "newSun_et_al_notNone_rightcode = newSun_et_al_notNone.filter(lambda x: x[\"test_result.passed\"] == 0 )\n",
    "\n",
    "print(newSun_et_al_notNone_wrongcode)\n",
    "print(newSun_et_al_notNone_rightcode)\n",
    "\n",
    "newSun_et_al_notNone_Dict = DatasetDict({\n",
    "    \"wrongcode\": newSun_et_al_notNone_wrongcode,\n",
    "    \"rightcode\": newSun_et_al_notNone_rightcode,\n",
    "})"
   ]
  },
  {
   "cell_type": "code",
   "execution_count": 46,
   "id": "aa76c27b",
   "metadata": {},
   "outputs": [
    {
     "data": {
      "application/vnd.jupyter.widget-view+json": {
       "model_id": "96b75983f1f24b95b986962182377324",
       "version_major": 2,
       "version_minor": 0
      },
      "text/plain": [
       "Saving the dataset (0/1 shards):   0%|          | 0/166 [00:00<?, ? examples/s]"
      ]
     },
     "metadata": {},
     "output_type": "display_data"
    },
    {
     "data": {
      "application/vnd.jupyter.widget-view+json": {
       "model_id": "0c92bdbc88a040258f86213e84e5a8db",
       "version_major": 2,
       "version_minor": 0
      },
      "text/plain": [
       "Saving the dataset (0/1 shards):   0%|          | 0/106 [00:00<?, ? examples/s]"
      ]
     },
     "metadata": {},
     "output_type": "display_data"
    }
   ],
   "source": [
    "newSun_et_al_notNone_Dict.save_to_disk(\"./Dataset/SunEtAl/SunEtAlNew\")"
   ]
  }
 ],
 "metadata": {
  "kernelspec": {
   "display_name": "Python 3",
   "language": "python",
   "name": "python3"
  },
  "language_info": {
   "codemirror_mode": {
    "name": "ipython",
    "version": 3
   },
   "file_extension": ".py",
   "mimetype": "text/x-python",
   "name": "python",
   "nbconvert_exporter": "python",
   "pygments_lexer": "ipython3",
   "version": "3.12.6"
  }
 },
 "nbformat": 4,
 "nbformat_minor": 5
}
