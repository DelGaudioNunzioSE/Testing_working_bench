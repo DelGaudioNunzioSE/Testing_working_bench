{
 "cells": [
  {
   "cell_type": "markdown",
   "id": "4d92dfc8",
   "metadata": {},
   "source": [
    "# Dataset Preprocessing"
   ]
  },
  {
   "cell_type": "code",
   "execution_count": 19,
   "id": "5cac1c62",
   "metadata": {},
   "outputs": [],
   "source": [
    "AIG_rewrites_path = \"./Methods/UncoveringLLM/rewrites/AIGCodeSet\"\n",
    "CodeMirage_rewrites_path = \"./Methods/UncoveringLLM/rewrites/CodeMirage\"\n",
    "SunEtAl_rewrites_path = \"./Methods/UncoveringLLM/rewrites/SunEtAl\"\n",
    "AIG_Dataset_path = \"./Dataset/AIGCodeSet/\"\n",
    "CodeMirage_path = \"./Dataset/CodeMirage/\"\n",
    "SunEtAl_path = \"./Dataset/SunEtAl/SunEtAlNew\""
   ]
  },
  {
   "cell_type": "code",
   "execution_count": 57,
   "id": "b0d9ae87",
   "metadata": {},
   "outputs": [],
   "source": [
    "from datasets import load_from_disk\n",
    "\n",
    "AIG = load_from_disk(AIG_Dataset_path)\n",
    "CodeMirage = load_from_disk(CodeMirage_path)\n",
    "SunEtAl = load_from_disk(SunEtAl_path)\\\n",
    "\n",
    "AIG_R= AIG[\"rightcode\"]\n",
    "AIG_W= AIG[\"wrongcode\"]"
   ]
  },
  {
   "cell_type": "code",
   "execution_count": 58,
   "id": "0707c88a",
   "metadata": {},
   "outputs": [],
   "source": [
    "from datasets import load_dataset\n",
    "\n",
    "\n",
    "\n",
    "def extract_assistant_content(example):\n",
    "    for m in example[\"messages\"]:\n",
    "        if m.get(\"role\") == \"assistant\":\n",
    "            return {\"assistant_content\": m.get(\"content\")}\n",
    "    return {\"assistant_content\": None}\n",
    "\n",
    "\n",
    "\n",
    "def adding_rewriting(ds, rewrites_path, idx=\"idx\", i=0):\n",
    "    \"\"\"\n",
    "    Returns: {datasets.Dataset}\n",
    "        The original dataset with additional columns `rewritedCode_0`, `rewritedCode_1`, etc.,\n",
    "        one for each rewrite file provided.\n",
    "    \"\"\"\n",
    "\n",
    "\n",
    "    # Sanity checks for required columns\n",
    "    if idx not in ds.column_names:\n",
    "        print(f\"{idx} is not inside ds\")\n",
    "\n",
    "\n",
    "    # Mapping function to add a single rewrite column to each row\n",
    "    def add_column(row, ds_map, i, idx):\n",
    "        rewrited = ds_map.get(row[idx])  # use .get() to avoid KeyError\n",
    "        return {f\"rewritedCode_{i}\": rewrited}\n",
    "\n",
    "    # Process each rewrite file\n",
    "    # Load rewrite JSONL as Dataset\n",
    "    ds_jsonl = load_dataset(\"json\", data_files=rewrites_path)[\"train\"]\n",
    "\n",
    "    # Flatten nested structures (e.g., metadata.index → top-level)\n",
    "    ds_jsonl = ds_jsonl.flatten()\n",
    "\n",
    "    ds_jsonl = ds_jsonl.map(extract_assistant_content)\n",
    "\n",
    "\n",
    "\n",
    "     # Select only the needed columns\n",
    "    ds_jsonl = ds_jsonl.select_columns([f\"metadata.{idx}\", \"assistant_content\"])\n",
    "\n",
    "    # Rename columns to match our convention\n",
    "    ds_jsonl = ds_jsonl.rename_column(f\"metadata.{idx}\", idx)\n",
    "    ds_jsonl = ds_jsonl.rename_column(\"assistant_content\", \"content\")\n",
    "\n",
    "    # Convert rewrite dataset to dict: index → content\n",
    "    ds_map = {row[idx]: row[\"content\"] for row in ds_jsonl}\n",
    "\n",
    "    # Add the rewrite column to the main dataset\n",
    "    ds = ds.map(add_column, fn_kwargs={\"ds_map\": ds_map, \"i\": i, \"idx\": idx})\n",
    "\n",
    "    return ds\n"
   ]
  },
  {
   "cell_type": "code",
   "execution_count": 59,
   "id": "c6390b35",
   "metadata": {},
   "outputs": [
    {
     "name": "stdout",
     "output_type": "stream",
     "text": [
      "Dataset({\n",
      "    features: ['problem_id', 'submission_id', 'status_in_folder', 'LLM', 'code', 'ada_embedding', 'label', 'lines', 'code_lines', 'comments', 'functions', 'blank_lines', 'cleared_code', 'idx', 'rewritedCode_0', 'rewritedCode_1', 'rewritedCode_2', 'rewritedCode_3'],\n",
      "    num_rows: 249\n",
      "})\n"
     ]
    }
   ],
   "source": [
    "for i in range(4):\n",
    "    AIG_R=adding_rewriting(AIG_R, \"./Methods/UncoveringLLM/rewrites/\" + str(i) + \"AIGCodeSet\" + \".jsonl\", i=i)\n",
    "print(AIG_R)"
   ]
  },
  {
   "cell_type": "code",
   "execution_count": 60,
   "id": "a931ac24",
   "metadata": {},
   "outputs": [
    {
     "data": {
      "application/vnd.jupyter.widget-view+json": {
       "model_id": "5e48642ca8214d0c918d4def070dadce",
       "version_major": 2,
       "version_minor": 0
      },
      "text/plain": [
       "Map:   0%|          | 0/664 [00:00<?, ? examples/s]"
      ]
     },
     "metadata": {},
     "output_type": "display_data"
    },
    {
     "data": {
      "application/vnd.jupyter.widget-view+json": {
       "model_id": "24663f3d6b004b1daaa03580fe15ab66",
       "version_major": 2,
       "version_minor": 0
      },
      "text/plain": [
       "Map:   0%|          | 0/664 [00:00<?, ? examples/s]"
      ]
     },
     "metadata": {},
     "output_type": "display_data"
    },
    {
     "data": {
      "application/vnd.jupyter.widget-view+json": {
       "model_id": "ed314d0e282543e6b3a8d504b1c35756",
       "version_major": 2,
       "version_minor": 0
      },
      "text/plain": [
       "Map:   0%|          | 0/664 [00:00<?, ? examples/s]"
      ]
     },
     "metadata": {},
     "output_type": "display_data"
    },
    {
     "data": {
      "application/vnd.jupyter.widget-view+json": {
       "model_id": "9b59acbed7154645a7b78c0b792440c4",
       "version_major": 2,
       "version_minor": 0
      },
      "text/plain": [
       "Map:   0%|          | 0/664 [00:00<?, ? examples/s]"
      ]
     },
     "metadata": {},
     "output_type": "display_data"
    },
    {
     "name": "stdout",
     "output_type": "stream",
     "text": [
      "Dataset({\n",
      "    features: ['problem_id', 'submission_id', 'status_in_folder', 'LLM', 'code', 'ada_embedding', 'label', 'lines', 'code_lines', 'comments', 'functions', 'blank_lines', 'cleared_code', 'idx', 'rewritedCode_0', 'rewritedCode_1', 'rewritedCode_2', 'rewritedCode_3'],\n",
      "    num_rows: 664\n",
      "})\n"
     ]
    }
   ],
   "source": [
    "for i in range(4):\n",
    "    AIG_W=adding_rewriting(AIG_W, \"./Methods/UncoveringLLM/rewrites/\" + str(i) + \"AIGCodeSet\" + \".jsonl\", i=i)\n",
    "print(AIG_W)"
   ]
  },
  {
   "cell_type": "code",
   "execution_count": null,
   "id": "a80c9395",
   "metadata": {},
   "outputs": [],
   "source": [
    "#@TODO\n",
    "for i in range(4):\n",
    "    CodeMirage=adding_rewriting(CodeMirage, \"./Methods/UncoveringLLM/rewrites/\" + str(i) + \"CodeMirage\" + \".jsonl\", i=i)\n",
    "print(CodeMirage)"
   ]
  },
  {
   "cell_type": "code",
   "execution_count": null,
   "id": "96e1abdc",
   "metadata": {},
   "outputs": [],
   "source": [
    "#@TODO\n",
    "for i in range(4):\n",
    "    SunEtAl=adding_rewriting(CodeMirage, CodeMirage_path + i + \".jsonl\")"
   ]
  },
  {
   "cell_type": "code",
   "execution_count": null,
   "id": "0cd57ada",
   "metadata": {},
   "outputs": [],
   "source": [
    "#@TODO\n",
    "for i in range(4):\n",
    "    SunEtAl=adding_rewriting(SunEtAl, SunEtAl_path + i + \".jsonl\")"
   ]
  },
  {
   "cell_type": "markdown",
   "id": "b2688d25",
   "metadata": {},
   "source": [
    "# Testing"
   ]
  },
  {
   "cell_type": "markdown",
   "id": "6f4119f1",
   "metadata": {},
   "source": [
    "Model preparation"
   ]
  },
  {
   "cell_type": "code",
   "execution_count": 63,
   "id": "9408c296",
   "metadata": {},
   "outputs": [
    {
     "name": "stderr",
     "output_type": "stream",
     "text": [
      "Some weights of RobertaModel were not initialized from the model checkpoint at Methods\\UncoveringLLM\\model and are newly initialized: ['pooler.dense.bias', 'pooler.dense.weight']\n",
      "You should probably TRAIN this model on a down-stream task to be able to use it for predictions and inference.\n"
     ]
    }
   ],
   "source": [
    "import os\n",
    "from pathlib import Path\n",
    "import torch, torch.nn.functional as F\n",
    "from transformers import AutoTokenizer, AutoModel, AutoConfig\n",
    "\n",
    "\n",
    "DEVICE = \"cuda\" if torch.cuda.is_available() else \"cpu\"\n",
    "\n",
    "\n",
    "GC_Tokenizer = \"microsoft/graphcodebert-base\"  # same training backbone (GraphCodeBert) tokenizer\n",
    "GC_FineTuned =  Path(\"./Methods/UncoveringLLM/model/\") # trained model\n",
    "\n",
    "\n",
    "\n",
    "tokenizer = AutoTokenizer.from_pretrained(GC_Tokenizer)\n",
    "encoder   = AutoModel.from_pretrained(GC_FineTuned).to(DEVICE).eval() \n"
   ]
  },
  {
   "cell_type": "code",
   "execution_count": null,
   "id": "8cdfb171",
   "metadata": {},
   "outputs": [],
   "source": [
    "\n",
    "#TODO: ultimi blocchi semantici per rientrare in lunghezza \n",
    "\n",
    "def encode_codes(original_code: str, rewrites: list[str], max_len: int = 512):\n",
    "    texts = [original_code] + list(rewrites)          # List[str]\n",
    "    enc = tokenizer(\n",
    "        texts,\n",
    "        padding=True,\n",
    "        truncation=True,\n",
    "        max_length=max_len,\n",
    "        return_tensors=\"pt\",\n",
    "    )\n",
    "\n",
    "    if len(enc) > max_len:\n",
    "        enc = enc[-max_len:] ## !! We use only the last tokens !! ##\n",
    "        print(\"!! We use only the last tokens !!\")\n",
    "\n",
    "    enc = {k: v.to(DEVICE) for k, v in enc.items()}\n",
    "\n",
    "    with torch.no_grad():\n",
    "        out = encoder(**enc).last_hidden_state        # [B, L, H]\n",
    "        cls = out[:, 0, :]                            # [B, H]  (embedding del primo token)\n",
    "        cls = F.normalize(cls, p=2, dim=-1)           # SimCSE: L2 normalization\n",
    "\n",
    "    orig_emb = cls[0]          # [H]\n",
    "    rewrite_embs = cls[1:]     # [R, H]  (R = len(rewrites))\n",
    "    return orig_emb, rewrite_embs\n",
    "\n",
    "\n",
    "\n",
    "# best number of rewrites is 4\n",
    "def detect(original_code: str, rewrites: list[str]):\n",
    "    if len(rewrites) != 4:\n",
    "        print(f\"Number of rewrites is not 4 but: {len(rewrites)}\")\n",
    "\n",
    "    e0, eR = encode_codes(original_code, rewrites)  # e0: [H], eR: [R, H]\n",
    "    sims = F.cosine_similarity(eR, e0.unsqueeze(0).expand_as(eR), dim=-1).numpy()\n",
    "    score = float(sims.mean()) if len(sims) else float(\"nan\")\n",
    "    return score"
   ]
  },
  {
   "cell_type": "markdown",
   "id": "7faf9819",
   "metadata": {},
   "source": [
    "# Start testing"
   ]
  },
  {
   "cell_type": "code",
   "execution_count": 70,
   "id": "91a7c17c",
   "metadata": {},
   "outputs": [
    {
     "data": {
      "application/vnd.jupyter.widget-view+json": {
       "model_id": "f096ac9f274f436aa559ed47bab3e8bf",
       "version_major": 2,
       "version_minor": 0
      },
      "text/plain": [
       "Map:   0%|          | 0/249 [00:00<?, ? examples/s]"
      ]
     },
     "metadata": {},
     "output_type": "display_data"
    },
    {
     "ename": "AttributeError",
     "evalue": "'tuple' object has no attribute 'expand_as'",
     "output_type": "error",
     "traceback": [
      "\u001b[1;31m---------------------------------------------------------------------------\u001b[0m",
      "\u001b[1;31mAttributeError\u001b[0m                            Traceback (most recent call last)",
      "Cell \u001b[1;32mIn[70], line 13\u001b[0m\n\u001b[0;32m      6\u001b[0m     score \u001b[38;5;241m=\u001b[39m detect(\n\u001b[0;32m      7\u001b[0m         row[\u001b[38;5;124m\"\u001b[39m\u001b[38;5;124mcode\u001b[39m\u001b[38;5;124m\"\u001b[39m], \n\u001b[0;32m      8\u001b[0m         [row[\u001b[38;5;124m\"\u001b[39m\u001b[38;5;124mrewritedCode_0\u001b[39m\u001b[38;5;124m\"\u001b[39m], row[\u001b[38;5;124m\"\u001b[39m\u001b[38;5;124mrewritedCode_1\u001b[39m\u001b[38;5;124m\"\u001b[39m], row[\u001b[38;5;124m\"\u001b[39m\u001b[38;5;124mrewritedCode_0\u001b[39m\u001b[38;5;124m\"\u001b[39m], row[\u001b[38;5;124m\"\u001b[39m\u001b[38;5;124mrewritedCode_3\u001b[39m\u001b[38;5;124m\"\u001b[39m]]\n\u001b[0;32m      9\u001b[0m         )\n\u001b[0;32m     10\u001b[0m     \u001b[38;5;28;01mreturn\u001b[39;00m {\u001b[38;5;124m\"\u001b[39m\u001b[38;5;124mscore\u001b[39m\u001b[38;5;124m\"\u001b[39m:score}\n\u001b[1;32m---> 13\u001b[0m AIG_RR \u001b[38;5;241m=\u001b[39m \u001b[43mAIG_R\u001b[49m\u001b[38;5;241;43m.\u001b[39;49m\u001b[43mmap\u001b[49m\u001b[43m(\u001b[49m\u001b[43mevaluation\u001b[49m\u001b[43m)\u001b[49m\n\u001b[0;32m     15\u001b[0m \u001b[38;5;28mprint\u001b[39m(AIG_RR)\n",
      "File \u001b[1;32mc:\\Programmazione\\python\\Lib\\site-packages\\datasets\\arrow_dataset.py:557\u001b[0m, in \u001b[0;36mtransmit_format.<locals>.wrapper\u001b[1;34m(*args, **kwargs)\u001b[0m\n\u001b[0;32m    550\u001b[0m self_format \u001b[38;5;241m=\u001b[39m {\n\u001b[0;32m    551\u001b[0m     \u001b[38;5;124m\"\u001b[39m\u001b[38;5;124mtype\u001b[39m\u001b[38;5;124m\"\u001b[39m: \u001b[38;5;28mself\u001b[39m\u001b[38;5;241m.\u001b[39m_format_type,\n\u001b[0;32m    552\u001b[0m     \u001b[38;5;124m\"\u001b[39m\u001b[38;5;124mformat_kwargs\u001b[39m\u001b[38;5;124m\"\u001b[39m: \u001b[38;5;28mself\u001b[39m\u001b[38;5;241m.\u001b[39m_format_kwargs,\n\u001b[0;32m    553\u001b[0m     \u001b[38;5;124m\"\u001b[39m\u001b[38;5;124mcolumns\u001b[39m\u001b[38;5;124m\"\u001b[39m: \u001b[38;5;28mself\u001b[39m\u001b[38;5;241m.\u001b[39m_format_columns,\n\u001b[0;32m    554\u001b[0m     \u001b[38;5;124m\"\u001b[39m\u001b[38;5;124moutput_all_columns\u001b[39m\u001b[38;5;124m\"\u001b[39m: \u001b[38;5;28mself\u001b[39m\u001b[38;5;241m.\u001b[39m_output_all_columns,\n\u001b[0;32m    555\u001b[0m }\n\u001b[0;32m    556\u001b[0m \u001b[38;5;66;03m# apply actual function\u001b[39;00m\n\u001b[1;32m--> 557\u001b[0m out: Union[\u001b[38;5;124m\"\u001b[39m\u001b[38;5;124mDataset\u001b[39m\u001b[38;5;124m\"\u001b[39m, \u001b[38;5;124m\"\u001b[39m\u001b[38;5;124mDatasetDict\u001b[39m\u001b[38;5;124m\"\u001b[39m] \u001b[38;5;241m=\u001b[39m \u001b[43mfunc\u001b[49m\u001b[43m(\u001b[49m\u001b[38;5;28;43mself\u001b[39;49m\u001b[43m,\u001b[49m\u001b[43m \u001b[49m\u001b[38;5;241;43m*\u001b[39;49m\u001b[43margs\u001b[49m\u001b[43m,\u001b[49m\u001b[43m \u001b[49m\u001b[38;5;241;43m*\u001b[39;49m\u001b[38;5;241;43m*\u001b[39;49m\u001b[43mkwargs\u001b[49m\u001b[43m)\u001b[49m\n\u001b[0;32m    558\u001b[0m datasets: \u001b[38;5;28mlist\u001b[39m[\u001b[38;5;124m\"\u001b[39m\u001b[38;5;124mDataset\u001b[39m\u001b[38;5;124m\"\u001b[39m] \u001b[38;5;241m=\u001b[39m \u001b[38;5;28mlist\u001b[39m(out\u001b[38;5;241m.\u001b[39mvalues()) \u001b[38;5;28;01mif\u001b[39;00m \u001b[38;5;28misinstance\u001b[39m(out, \u001b[38;5;28mdict\u001b[39m) \u001b[38;5;28;01melse\u001b[39;00m [out]\n\u001b[0;32m    559\u001b[0m \u001b[38;5;66;03m# re-apply format to the output\u001b[39;00m\n",
      "File \u001b[1;32mc:\\Programmazione\\python\\Lib\\site-packages\\datasets\\arrow_dataset.py:3079\u001b[0m, in \u001b[0;36mDataset.map\u001b[1;34m(self, function, with_indices, with_rank, input_columns, batched, batch_size, drop_last_batch, remove_columns, keep_in_memory, load_from_cache_file, cache_file_name, writer_batch_size, features, disable_nullable, fn_kwargs, num_proc, suffix_template, new_fingerprint, desc, try_original_type)\u001b[0m\n\u001b[0;32m   3073\u001b[0m \u001b[38;5;28;01mif\u001b[39;00m transformed_dataset \u001b[38;5;129;01mis\u001b[39;00m \u001b[38;5;28;01mNone\u001b[39;00m:\n\u001b[0;32m   3074\u001b[0m     \u001b[38;5;28;01mwith\u001b[39;00m hf_tqdm(\n\u001b[0;32m   3075\u001b[0m         unit\u001b[38;5;241m=\u001b[39m\u001b[38;5;124m\"\u001b[39m\u001b[38;5;124m examples\u001b[39m\u001b[38;5;124m\"\u001b[39m,\n\u001b[0;32m   3076\u001b[0m         total\u001b[38;5;241m=\u001b[39mpbar_total,\n\u001b[0;32m   3077\u001b[0m         desc\u001b[38;5;241m=\u001b[39mdesc \u001b[38;5;129;01mor\u001b[39;00m \u001b[38;5;124m\"\u001b[39m\u001b[38;5;124mMap\u001b[39m\u001b[38;5;124m\"\u001b[39m,\n\u001b[0;32m   3078\u001b[0m     ) \u001b[38;5;28;01mas\u001b[39;00m pbar:\n\u001b[1;32m-> 3079\u001b[0m \u001b[43m        \u001b[49m\u001b[38;5;28;43;01mfor\u001b[39;49;00m\u001b[43m \u001b[49m\u001b[43mrank\u001b[49m\u001b[43m,\u001b[49m\u001b[43m \u001b[49m\u001b[43mdone\u001b[49m\u001b[43m,\u001b[49m\u001b[43m \u001b[49m\u001b[43mcontent\u001b[49m\u001b[43m \u001b[49m\u001b[38;5;129;43;01min\u001b[39;49;00m\u001b[43m \u001b[49m\u001b[43mDataset\u001b[49m\u001b[38;5;241;43m.\u001b[39;49m\u001b[43m_map_single\u001b[49m\u001b[43m(\u001b[49m\u001b[38;5;241;43m*\u001b[39;49m\u001b[38;5;241;43m*\u001b[39;49m\u001b[43mdataset_kwargs\u001b[49m\u001b[43m)\u001b[49m\u001b[43m:\u001b[49m\n\u001b[0;32m   3080\u001b[0m \u001b[43m            \u001b[49m\u001b[38;5;28;43;01mif\u001b[39;49;00m\u001b[43m \u001b[49m\u001b[43mdone\u001b[49m\u001b[43m:\u001b[49m\n\u001b[0;32m   3081\u001b[0m \u001b[43m                \u001b[49m\u001b[43mshards_done\u001b[49m\u001b[43m \u001b[49m\u001b[38;5;241;43m+\u001b[39;49m\u001b[38;5;241;43m=\u001b[39;49m\u001b[43m \u001b[49m\u001b[38;5;241;43m1\u001b[39;49m\n",
      "File \u001b[1;32mc:\\Programmazione\\python\\Lib\\site-packages\\datasets\\arrow_dataset.py:3501\u001b[0m, in \u001b[0;36mDataset._map_single\u001b[1;34m(shard, function, with_indices, with_rank, input_columns, batched, batch_size, drop_last_batch, remove_columns, keep_in_memory, cache_file_name, writer_batch_size, features, disable_nullable, fn_kwargs, new_fingerprint, rank, offset, try_original_type)\u001b[0m\n\u001b[0;32m   3499\u001b[0m \u001b[38;5;28;01mif\u001b[39;00m \u001b[38;5;129;01mnot\u001b[39;00m batched:\n\u001b[0;32m   3500\u001b[0m     _time \u001b[38;5;241m=\u001b[39m time\u001b[38;5;241m.\u001b[39mtime()\n\u001b[1;32m-> 3501\u001b[0m \u001b[43m    \u001b[49m\u001b[38;5;28;43;01mfor\u001b[39;49;00m\u001b[43m \u001b[49m\u001b[43mi\u001b[49m\u001b[43m,\u001b[49m\u001b[43m \u001b[49m\u001b[43mexample\u001b[49m\u001b[43m \u001b[49m\u001b[38;5;129;43;01min\u001b[39;49;00m\u001b[43m \u001b[49m\u001b[43miter_outputs\u001b[49m\u001b[43m(\u001b[49m\u001b[43mshard_iterable\u001b[49m\u001b[43m)\u001b[49m\u001b[43m:\u001b[49m\n\u001b[0;32m   3502\u001b[0m \u001b[43m        \u001b[49m\u001b[38;5;28;43;01mif\u001b[39;49;00m\u001b[43m \u001b[49m\u001b[43mupdate_data\u001b[49m\u001b[43m:\u001b[49m\n\u001b[0;32m   3503\u001b[0m \u001b[43m            \u001b[49m\u001b[38;5;28;43;01mif\u001b[39;49;00m\u001b[43m \u001b[49m\u001b[43mi\u001b[49m\u001b[43m \u001b[49m\u001b[38;5;241;43m==\u001b[39;49m\u001b[43m \u001b[49m\u001b[38;5;241;43m0\u001b[39;49m\u001b[43m:\u001b[49m\n",
      "File \u001b[1;32mc:\\Programmazione\\python\\Lib\\site-packages\\datasets\\arrow_dataset.py:3475\u001b[0m, in \u001b[0;36mDataset._map_single.<locals>.iter_outputs\u001b[1;34m(shard_iterable)\u001b[0m\n\u001b[0;32m   3473\u001b[0m \u001b[38;5;28;01melse\u001b[39;00m:\n\u001b[0;32m   3474\u001b[0m     \u001b[38;5;28;01mfor\u001b[39;00m i, example \u001b[38;5;129;01min\u001b[39;00m shard_iterable:\n\u001b[1;32m-> 3475\u001b[0m         \u001b[38;5;28;01myield\u001b[39;00m i, \u001b[43mapply_function\u001b[49m\u001b[43m(\u001b[49m\u001b[43mexample\u001b[49m\u001b[43m,\u001b[49m\u001b[43m \u001b[49m\u001b[43mi\u001b[49m\u001b[43m,\u001b[49m\u001b[43m \u001b[49m\u001b[43moffset\u001b[49m\u001b[38;5;241;43m=\u001b[39;49m\u001b[43moffset\u001b[49m\u001b[43m)\u001b[49m\n",
      "File \u001b[1;32mc:\\Programmazione\\python\\Lib\\site-packages\\datasets\\arrow_dataset.py:3398\u001b[0m, in \u001b[0;36mDataset._map_single.<locals>.apply_function\u001b[1;34m(pa_inputs, indices, offset)\u001b[0m\n\u001b[0;32m   3396\u001b[0m \u001b[38;5;250m\u001b[39m\u001b[38;5;124;03m\"\"\"Utility to apply the function on a selection of columns.\"\"\"\u001b[39;00m\n\u001b[0;32m   3397\u001b[0m inputs, fn_args, additional_args, fn_kwargs \u001b[38;5;241m=\u001b[39m prepare_inputs(pa_inputs, indices, offset\u001b[38;5;241m=\u001b[39moffset)\n\u001b[1;32m-> 3398\u001b[0m processed_inputs \u001b[38;5;241m=\u001b[39m \u001b[43mfunction\u001b[49m\u001b[43m(\u001b[49m\u001b[38;5;241;43m*\u001b[39;49m\u001b[43mfn_args\u001b[49m\u001b[43m,\u001b[49m\u001b[43m \u001b[49m\u001b[38;5;241;43m*\u001b[39;49m\u001b[43madditional_args\u001b[49m\u001b[43m,\u001b[49m\u001b[43m \u001b[49m\u001b[38;5;241;43m*\u001b[39;49m\u001b[38;5;241;43m*\u001b[39;49m\u001b[43mfn_kwargs\u001b[49m\u001b[43m)\u001b[49m\n\u001b[0;32m   3399\u001b[0m \u001b[38;5;28;01mreturn\u001b[39;00m prepare_outputs(pa_inputs, inputs, processed_inputs)\n",
      "Cell \u001b[1;32mIn[70], line 6\u001b[0m, in \u001b[0;36mevaluation\u001b[1;34m(row)\u001b[0m\n\u001b[0;32m      5\u001b[0m \u001b[38;5;28;01mdef\u001b[39;00m \u001b[38;5;21mevaluation\u001b[39m(row): \n\u001b[1;32m----> 6\u001b[0m     score \u001b[38;5;241m=\u001b[39m \u001b[43mdetect\u001b[49m\u001b[43m(\u001b[49m\n\u001b[0;32m      7\u001b[0m \u001b[43m        \u001b[49m\u001b[43mrow\u001b[49m\u001b[43m[\u001b[49m\u001b[38;5;124;43m\"\u001b[39;49m\u001b[38;5;124;43mcode\u001b[39;49m\u001b[38;5;124;43m\"\u001b[39;49m\u001b[43m]\u001b[49m\u001b[43m,\u001b[49m\u001b[43m \u001b[49m\n\u001b[0;32m      8\u001b[0m \u001b[43m        \u001b[49m\u001b[43m[\u001b[49m\u001b[43mrow\u001b[49m\u001b[43m[\u001b[49m\u001b[38;5;124;43m\"\u001b[39;49m\u001b[38;5;124;43mrewritedCode_0\u001b[39;49m\u001b[38;5;124;43m\"\u001b[39;49m\u001b[43m]\u001b[49m\u001b[43m,\u001b[49m\u001b[43m \u001b[49m\u001b[43mrow\u001b[49m\u001b[43m[\u001b[49m\u001b[38;5;124;43m\"\u001b[39;49m\u001b[38;5;124;43mrewritedCode_1\u001b[39;49m\u001b[38;5;124;43m\"\u001b[39;49m\u001b[43m]\u001b[49m\u001b[43m,\u001b[49m\u001b[43m \u001b[49m\u001b[43mrow\u001b[49m\u001b[43m[\u001b[49m\u001b[38;5;124;43m\"\u001b[39;49m\u001b[38;5;124;43mrewritedCode_0\u001b[39;49m\u001b[38;5;124;43m\"\u001b[39;49m\u001b[43m]\u001b[49m\u001b[43m,\u001b[49m\u001b[43m \u001b[49m\u001b[43mrow\u001b[49m\u001b[43m[\u001b[49m\u001b[38;5;124;43m\"\u001b[39;49m\u001b[38;5;124;43mrewritedCode_3\u001b[39;49m\u001b[38;5;124;43m\"\u001b[39;49m\u001b[43m]\u001b[49m\u001b[43m]\u001b[49m\n\u001b[0;32m      9\u001b[0m \u001b[43m        \u001b[49m\u001b[43m)\u001b[49m\n\u001b[0;32m     10\u001b[0m     \u001b[38;5;28;01mreturn\u001b[39;00m {\u001b[38;5;124m\"\u001b[39m\u001b[38;5;124mscore\u001b[39m\u001b[38;5;124m\"\u001b[39m:score}\n",
      "Cell \u001b[1;32mIn[68], line 59\u001b[0m, in \u001b[0;36mdetect\u001b[1;34m(original_code, rewrites)\u001b[0m\n\u001b[0;32m     57\u001b[0m embs \u001b[38;5;241m=\u001b[39m encode_codes(original_code, rewrites)\n\u001b[0;32m     58\u001b[0m e0, eR \u001b[38;5;241m=\u001b[39m embs[\u001b[38;5;241m0\u001b[39m:\u001b[38;5;241m1\u001b[39m], embs[\u001b[38;5;241m1\u001b[39m:]\n\u001b[1;32m---> 59\u001b[0m sims \u001b[38;5;241m=\u001b[39m F\u001b[38;5;241m.\u001b[39mcosine_similarity(eR, \u001b[43me0\u001b[49m\u001b[38;5;241;43m.\u001b[39;49m\u001b[43mexpand_as\u001b[49m(eR), dim\u001b[38;5;241m=\u001b[39m\u001b[38;5;241m-\u001b[39m\u001b[38;5;241m1\u001b[39m)\u001b[38;5;241m.\u001b[39mnumpy()\n\u001b[0;32m     60\u001b[0m score \u001b[38;5;241m=\u001b[39m \u001b[38;5;28mfloat\u001b[39m(sims\u001b[38;5;241m.\u001b[39mmean()) \u001b[38;5;28;01mif\u001b[39;00m \u001b[38;5;28mlen\u001b[39m(sims) \u001b[38;5;28;01melse\u001b[39;00m \u001b[38;5;28mfloat\u001b[39m(\u001b[38;5;124m\"\u001b[39m\u001b[38;5;124mnan\u001b[39m\u001b[38;5;124m\"\u001b[39m)\n\u001b[0;32m     61\u001b[0m \u001b[38;5;28;01mreturn\u001b[39;00m score\n",
      "\u001b[1;31mAttributeError\u001b[0m: 'tuple' object has no attribute 'expand_as'"
     ]
    }
   ],
   "source": [
    "from datasets import load_from_disk\n",
    "ds2 = load_from_disk(\"./Dataset/AIGCodeSet\")\n",
    "\n",
    "\n",
    "def evaluation(row): \n",
    "    score = detect(\n",
    "        row[\"code\"], \n",
    "        [row[\"rewritedCode_0\"], row[\"rewritedCode_1\"], row[\"rewritedCode_0\"], row[\"rewritedCode_3\"]]\n",
    "        )\n",
    "    return {\"score\":score}\n",
    "    \n",
    "\n",
    "AIG_RR = AIG_R.map(evaluation)\n",
    "\n",
    "print(AIG_RR)"
   ]
  }
 ],
 "metadata": {
  "kernelspec": {
   "display_name": "Python 3",
   "language": "python",
   "name": "python3"
  },
  "language_info": {
   "codemirror_mode": {
    "name": "ipython",
    "version": 3
   },
   "file_extension": ".py",
   "mimetype": "text/x-python",
   "name": "python",
   "nbconvert_exporter": "python",
   "pygments_lexer": "ipython3",
   "version": "3.12.6"
  }
 },
 "nbformat": 4,
 "nbformat_minor": 5
}
