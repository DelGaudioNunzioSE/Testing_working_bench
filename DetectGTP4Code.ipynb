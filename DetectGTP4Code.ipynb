{
 "cells": [
  {
   "cell_type": "markdown",
   "id": "5bc9c59b",
   "metadata": {},
   "source": [
    "![Total](Methods/Code_detection/img/total.jpg)"
   ]
  },
  {
   "cell_type": "code",
   "execution_count": 3,
   "id": "d4a73b46",
   "metadata": {},
   "outputs": [],
   "source": [
    "import torch\n",
    "\n",
    "DEVICE = \"cuda\" if torch.cuda.is_available() else \"cpu\""
   ]
  },
  {
   "cell_type": "markdown",
   "id": "a28bf702",
   "metadata": {},
   "source": [
    "## Dataset Preprocessing "
   ]
  },
  {
   "cell_type": "markdown",
   "id": "3ca6b3c7",
   "metadata": {},
   "source": [
    "Change dataset format"
   ]
  },
  {
   "cell_type": "code",
   "execution_count": 1,
   "id": "2e917939",
   "metadata": {},
   "outputs": [],
   "source": [
    "import pandas as pd\n",
    "import json\n",
    "\n",
    "def csv_to_jsonl_split(input_path: str, \n",
    "                       output_human_path: str, \n",
    "                       output_llm_path: str):\n",
    "    '''\n",
    "    \n",
    "    '''\n",
    "    ds = pd.read_csv(input_path)\n",
    "\n",
    "    # colonna da tenere\n",
    "    CODE_CONLUMN = \"cleared_code\"       # <-- la feature che vuoi salvare\n",
    "    SPLIT = \"LLM\"        # <-- la colonna che decide dove va il sample\n",
    "    target = \"Human\"              # <-- valore discriminante\n",
    "\n",
    "    ds = pd.read_csv(input_path)\n",
    "\n",
    "    # split dataset\n",
    "    dataset_match = ds[ds[SPLIT] == target]\n",
    "    dataset_other = ds[ds[SPLIT] != target]\n",
    "\n",
    "    # salva human.jsonl\n",
    "    with open(output_human_path, \"w\", encoding=\"utf-8\") as f:\n",
    "        for _, row in dataset_match.iterrows():\n",
    "            f.write(json.dumps(row.to_dict(), ensure_ascii=False) + \"\\n\")\n",
    "\n",
    "    # salva llm.jsonl\n",
    "    with open(output_llm_path, \"w\", encoding=\"utf-8\") as f:\n",
    "        for _, row in dataset_other.iterrows():\n",
    "            f.write(json.dumps(row.to_dict(), ensure_ascii=False) + \"\\n\")\n"
   ]
  },
  {
   "cell_type": "code",
   "execution_count": null,
   "id": "6c4a0675",
   "metadata": {},
   "outputs": [],
   "source": [
    "INPUT_PATH = './Dataset/AIGCodeSet.csv'\n",
    "HUMAN_PATH = \"./Methods/DetectGPT4Code/results/AIGCodeSethuman.json\"\n",
    "LLM_PATH = \"./Methods/DetectGPT4Code/results/AIGCodeSetllm.json\""
   ]
  },
  {
   "cell_type": "code",
   "execution_count": 3,
   "id": "cd4a920e",
   "metadata": {},
   "outputs": [],
   "source": [
    "csv_to_jsonl_split(input_path = INPUT_PATH, \n",
    "                    output_human_path = HUMAN_PATH, \n",
    "                    output_llm_path = LLM_PATH)"
   ]
  },
  {
   "cell_type": "markdown",
   "id": "068bd655",
   "metadata": {},
   "source": [
    "![FIM](Methods/Code_detection/img/FIM.jpg)"
   ]
  },
  {
   "cell_type": "code",
   "execution_count": null,
   "id": "f52cc5e2",
   "metadata": {},
   "outputs": [],
   "source": [
    "from transformers import AutoModelForCausalLM, AutoTokenizer\n",
    "import torch, json\n",
    "import random, os\n",
    "from Methods.DetectGPT4Code.utils_batch import InfillingModel\n",
    "import tqdm\n",
    "\n",
    "def run_fill_in_the_middle(\n",
    "    input_path,                # es: \"gpt4_python_codecontest.jsonl\"\n",
    "    output_path=\"./Methods/DetectGPT4Code/results/fim.josnl\", \n",
    "    batch_size=20,\n",
    "    mask_lines=1,\n",
    "    model_name=\"facebook/incoder-6B\",\n",
    "    code_lable = 'cleared_code',\n",
    "    device = DEVICE\n",
    "):\n",
    "    \"\"\"\n",
    "    input_path: must be a .jsonl\n",
    "    Esegue la perturbazione FIM su un dataset JSONL con campo 'code_lable'.\n",
    "    Salva un nuovo JSONL con campo 'fill_in_middle_gold'.\n",
    "    \"\"\"\n",
    "    \n",
    "\n",
    "\n",
    "    # half precision solo per incoder-6B\n",
    "    half = True if model_name == \"facebook/incoder-6B\" else False\n",
    "    \n",
    "    infilling_model = InfillingModel(model_name=model_name, cuda=True, half=half, device=device, quantization = \"nf4\")\n",
    "\n",
    "    # upload dataset\n",
    "    with open(input_path, 'r', encoding=\"utf-8\") as f:\n",
    "        dataset = [json.loads(line) for line in f.readlines()]\n",
    "\n",
    "    # support functions\n",
    "    def find_all(substring, string):\n",
    "        start = 0\n",
    "        while True:\n",
    "            start = string.find(substring, start)\n",
    "            if start == -1: return\n",
    "            yield start\n",
    "            start += len(substring)\n",
    "\n",
    "    def mask_code(parsed_code, mask_lines=mask_lines):\n",
    "        for _ in range(mask_lines):\n",
    "            positions = list(find_all(substring='\\n', string=parsed_code))\n",
    "            if positions == []:\n",
    "                positions = list(find_all(substring=':', string=parsed_code))\n",
    "            if len(positions) < 2:\n",
    "                continue\n",
    "            mask_start = random.choice(range(len(positions)-1))\n",
    "            mask_start_position = positions[mask_start]\n",
    "            mask_end_position = positions[mask_start+1]\n",
    "            parsed_code = parsed_code[:mask_start_position] + '<insert>' + parsed_code[mask_end_position:]\n",
    "        return parsed_code\n",
    "\n",
    "    def norm_inserts_num(parsed_code_norm):\n",
    "        max_num = 0\n",
    "        for i, x in enumerate(parsed_code_norm):\n",
    "            if len(list(find_all('<insert>', x))) > max_num:\n",
    "                max_num = len(list(find_all('<insert>', x)))\n",
    "                id = i\n",
    "\n",
    "        new_res = []\n",
    "        for x in parsed_code_norm:\n",
    "            if len(list(find_all('<insert>', x))) < max_num:\n",
    "                new_res.append(parsed_code_norm[id])\n",
    "            else:\n",
    "                new_res.append(x)\n",
    "        return new_res\n",
    "    ## end support function\n",
    "    \n",
    "\n",
    "    # output check\n",
    "    if os.path.exists(output_path):\n",
    "        with open(output_path, 'r') as f:\n",
    "            finished = [json.loads(line) for line in f.readlines()]\n",
    "        dataset = dataset[len(finished):]\n",
    "\n",
    "\n",
    "    # MAIN CYCLE\n",
    "    for idx, ins in tqdm.tqdm(enumerate(dataset), total=len(dataset)):\n",
    "        code_lable_all = []\n",
    "        if len(ins[code_lable]) < 2500:\n",
    "            for _ in range(batch_size):\n",
    "                gold_codes_masked = mask_code(ins[code_lable], mask_lines=mask_lines)\n",
    "                code_lable_all.append(gold_codes_masked[:2500])\n",
    "\n",
    "            code_lable_all = norm_inserts_num(code_lable_all)\n",
    "            parts_batch = [example.split(\"<insert>\") for example in code_lable_all]\n",
    "            fill_in_middle_gold = infilling_model.batched_infill(\n",
    "                parts_batch, max_to_generate=16*mask_lines, temperature=0.7\n",
    "            )\n",
    "            ins['fill_in_middle_gold'] = fill_in_middle_gold\n",
    "        else:\n",
    "            ins['fill_in_middle_gold'] = ['token exceeds 2500']\n",
    "\n",
    "        with open(output_path, 'a') as f:\n",
    "            f.write(json.dumps(ins) + '\\n')\n",
    "    \n",
    "\n",
    "    return output_path\n"
   ]
  },
  {
   "cell_type": "code",
   "execution_count": null,
   "id": "60e089ab",
   "metadata": {},
   "outputs": [],
   "source": [
    "HUMANfim = \"./Methods/DetectGPT4Code/results/8HUMANfim.jsonl\"\n",
    "LLMfim = \"./Methods/DetectGPT4Code/results/8LLMfim.jsonl\"\n",
    "fim_model = \"facebook/incoder-1B\"\n",
    "code_conlumn = 'cleared_code'  "
   ]
  },
  {
   "cell_type": "code",
   "execution_count": null,
   "id": "2b642e4b",
   "metadata": {},
   "outputs": [],
   "source": [
    "run_fill_in_the_middle(\n",
    "    input_path = HUMAN_PATH,\n",
    "    output_path = HUMANfim, \n",
    "    batch_size =10,\n",
    "    mask_lines =8,\n",
    "    model_name = fim_model,\n",
    "    code_lable = code_conlumn,\n",
    "    device = DEVICE\n",
    ")"
   ]
  },
  {
   "cell_type": "code",
   "execution_count": null,
   "id": "9f32c71c",
   "metadata": {},
   "outputs": [],
   "source": [
    "run_fill_in_the_middle(\n",
    "    input_path = LLM_PATH,\n",
    "    output_path = LLMfim, \n",
    "    batch_size =10,\n",
    "    mask_lines =8,\n",
    "    model_name = fim_model,\n",
    "    code_lable = code_conlumn,\n",
    "    device = DEVICE\n",
    ")"
   ]
  },
  {
   "cell_type": "markdown",
   "id": "57486dd2",
   "metadata": {},
   "source": [
    "## Testing"
   ]
  },
  {
   "cell_type": "markdown",
   "id": "7372a516",
   "metadata": {},
   "source": [
    "![Grafico dei risultati](Methods/Code_detection/img/PolyCoder.jpg)"
   ]
  },
  {
   "cell_type": "code",
   "execution_count": 1,
   "id": "56f1382f",
   "metadata": {},
   "outputs": [
    {
     "name": "stdout",
     "output_type": "stream",
     "text": [
      "max length: 2048\n"
     ]
    }
   ],
   "source": [
    "from transformers import AutoConfig, AutoModelForCausalLM, AutoTokenizer\n",
    "import torch\n",
    "\n",
    "DEVICE = \"cuda\" if torch.cuda.is_available() else \"cpu\"\n",
    "\n",
    "model_name = 'NinedayWang/PolyCoder-160M'\n",
    "PyCodeGPT = AutoModelForCausalLM.from_pretrained(model_name).to(DEVICE)\n",
    "PyCodeGPT_tokenizer = AutoTokenizer.from_pretrained( model_name )\n",
    "\n",
    "CONFIG = AutoConfig.from_pretrained(model_name)\n",
    "# Get the default max_length\n",
    "MAX_LENGTH = CONFIG.max_position_embeddings\n",
    "print(f\"max length: {MAX_LENGTH}\")\n",
    "\n",
    "\n",
    "HUMAN = \"./Methods/DetectGPT4Code/results/8HUMANfim.jsonl\""
   ]
  },
  {
   "cell_type": "code",
   "execution_count": 2,
   "id": "78056d20",
   "metadata": {},
   "outputs": [],
   "source": [
    "import numpy as np\n",
    "from torch.nn.functional import log_softmax\n",
    "\n",
    "inputs = 'this is a test'\n",
    "truncate_ratio=0.9\n",
    "def get_logprob(inputs, \n",
    "                tokenizer = PyCodeGPT_tokenizer, \n",
    "                model = PyCodeGPT, \n",
    "                max_length=MAX_LENGTH, \n",
    "                device = DEVICE \n",
    "                ):\n",
    "    '''\n",
    "    '''\n",
    "\n",
    "    input_ids = tokenizer.encode(inputs, return_tensors='pt').to(DEVICE)\n",
    "    input_ids = input_ids[:, :max_length]\n",
    "\n",
    "    with torch.no_grad():\n",
    "        output = model(input_ids)\n",
    "    logits = output[0]\n",
    "\n",
    "    # Assuming the `logits` tensor contains the output from the model\n",
    "    log_probs = log_softmax(logits, dim=-1)\n",
    "    # Select the log probabilities for the specific tokens in the input\n",
    "    input_log_probs = log_probs[0, torch.arange(log_probs.size(1)), input_ids[0]]\n",
    "    # Multiply by -1 to get the negative log probabilities\n",
    "    neg_log_probs = -input_log_probs\n",
    "    neg_log_probs = neg_log_probs.cpu().numpy().tolist()\n",
    "    return np.average( neg_log_probs[int( truncate_ratio*len(neg_log_probs)): ] ), neg_log_probs"
   ]
  },
  {
   "cell_type": "code",
   "execution_count": 3,
   "id": "f7e6bfa5",
   "metadata": {},
   "outputs": [
    {
     "data": {
      "text/plain": [
       "np.float64(6.511268615722656)"
      ]
     },
     "execution_count": 3,
     "metadata": {},
     "output_type": "execute_result"
    }
   ],
   "source": [
    "avg_neg_log_probs, neg_log_probs = get_logprob('this is a test')\n",
    "neg_log_probs[-500:]\n",
    "avg_neg_log_probs"
   ]
  },
  {
   "cell_type": "markdown",
   "id": "14ce644a",
   "metadata": {},
   "source": [
    "data"
   ]
  },
  {
   "cell_type": "code",
   "execution_count": 4,
   "id": "6749909c",
   "metadata": {},
   "outputs": [],
   "source": [
    "import json\n",
    "\n",
    "def read_jsonl_selected(path_jsonl, keys_to_keep=None):\n",
    "    \"\"\"\n",
    "    Legge un file JSONL e restituisce una lista di dict contenenti \n",
    "    solo le chiavi specificate in keys_to_keep.\n",
    "    Se keys_to_keep è None, restituisce l'intero dict.\n",
    "    \"\"\"\n",
    "    data = []\n",
    "    with open(path_jsonl, \"r\", encoding=\"utf-8\") as f:\n",
    "        for line in f:\n",
    "            line = line.strip()\n",
    "            if not line:\n",
    "                continue\n",
    "            obj = json.loads(line)\n",
    "            if keys_to_keep is not None:\n",
    "                filtered = {k: obj[k] for k in keys_to_keep if k in obj}\n",
    "                data.append(filtered)\n",
    "            else:\n",
    "                data.append(obj)\n",
    "    return data\n",
    "\n",
    "\n"
   ]
  },
  {
   "cell_type": "code",
   "execution_count": 29,
   "id": "9f276bb5",
   "metadata": {},
   "outputs": [
    {
     "name": "stdout",
     "output_type": "stream",
     "text": [
      "{'cleared_code': 'import sys\\nimport numpy as np\\nn, t = map(int, input().split())\\nknapsack = np.zeros(t, dtype=np.int64)\\ncuisines = [tuple(map(int, line.split())) for line in sys.stdin]\\ncuisines.sort()\\ntmp_ans = 0\\nfor a, b in cuisines:\\n    tmp_ans = max(tmp_ans, knapsack.max() + b)\\n    knapsack[a:] = np.maximum(knapsack[a:], knapsack[:-a] + b)\\nprint(max(tmp_ans, knapsack.max()))\\n', 'fill_in_middle_gold': [{'text': 'import sys\\nt = int(sys.argv[1])\\nknapsack = np.zeros(t, dtype=np.int64)\\ncuisines = sorted(set(cuisines))\\ncuisines.sort()\\nfor cuisine in cuisines:\\n    mask = cuisines == cuisine\\n    knapsack[mask] += t[mask]\\n\\nprint knapsack\\n\\n<|/ file source=github filename=knapsack.py \\n', 'parts': ['import sys', '', '\\nknapsack = np.zeros(t, dtype=np.int64)', '\\ncuisines.sort()', '', '', '', '\\n'], 'infills': ['\\nt = int(', 'sys.argv[1])', '\\ncuisines = sorted(set(cuisines))', '\\nfor cuisine in cuisines:\\n', '    mask = cuisines == cuisine\\n    knapsack[mask] += t[mask]\\n\\nprint ', 'knapsack\\n\\n<|/ file source=github filename=knapsack.py ', ''], 'retries_attempted': 1, 'completed': True}, {'text': 'import sys\\n\\nknapsack = sys.argv[1]\\nt = int(sys.argv[2])\\ncuisines = []\\nwith open(knapsack) as f:\\nknapsack = np.zeros(t, dtype=np.int64)\\nfor line in f:\\n    line = line.strip()\\n    line = line.split()\\n    cuisines.append(line[0])\\n    weights.append(int(line[1]))\\n    capacity = int(line[2])\\ncuisines.sort()\\nweights = np.array(weights, dtype=np.int64)\\ncapacity = capacity/weights[0]\\ncuisines = np.array(cuisines, dtype=np.int64)\\ncapacity = capacity/weights[0]\\n\\nfor cuisine in cuisines:\\n    \\n        \\n<|/ file source=github \\n', 'parts': ['import sys', '', '\\nknapsack = np.zeros(t, dtype=np.int64)', '\\ncuisines.sort()', '', '', '', '\\n'], 'infills': ['\\n\\nknapsack = sys.argv[1]\\nt = int(sys.argv[2])', '\\ncuisines = []\\nwith open(knapsack) as f:', '\\nfor line in f:\\n    line = line.strip()\\n    line = line.split()\\n    cuisines.append(line[0])\\n    weights.append(int(line[1]))\\n    capacity = int(line[2])', '\\nweights = np.array(weights, dtype=np.int64)\\ncapacity = capacity', '/weight', 's[0]\\ncuisines = np.array(cuisines, dtype=np.int64)\\ncapacity = capacity/weights[0]\\n\\nfor cuisine in cuisines:\\n    ', '\\n        \\n<|/ file source=github '], 'retries_attempted': 1, 'completed': True}, {'text': \"import sys\\nknapsack = np.genfromtxt(sys.argv[1], delimiter=',')\\nprint knapsack\\n</code>\\n<|/ a dscore=0 |>\\nknapsack = np.zeros(t, dtype=np.int64)\\ncuisines = ['Burgers', 'Coffee', 'Pizza', 'Soda', 'Noodles']\\ncuisines.sort()\\n\\nfor t in range(len(knapsack)):\\n    if cuisines[knapsack[t]-1] == 'Pizza':\\n        knapsack[t] = int(knapsack[t]) + int(knapsack[t+1]) + int(knapsack[t+2])\\nprint knapsack\\n</code>\\n\", 'parts': ['import sys', '', '\\nknapsack = np.zeros(t, dtype=np.int64)', '\\ncuisines.sort()', '', '', '', '\\n'], 'infills': [\"\\nknapsack = np.genfromtxt(sys.argv[1], delimiter=',')\\nprint knapsack\\n</code>\", '\\n<|/ a dscore=0 |>', \"\\ncuisines = ['Burgers', 'Coffee', 'Pizza', 'Soda', 'Noodles']\", '\\n\\nfor t in range(len(knapsack)):\\n', \"    if cuisines[knapsack[t]-1] == 'Pizza':\\n        knapsack[t] = int(\", '', 'knapsack[t]) + int(knapsack[t+1]) + int(knapsack[t+2])\\nprint knapsack\\n</code>'], 'retries_attempted': 1, 'completed': True}, {'text': 'import sys\\ncuisines = sys.stdin.readlines()\\nknapsack = np.zeros(t, dtype=np.int64)\\nknapsack[0] = -1\\nknapsack[1] = 0\\nfor i in cuisines:\\n    i, j = i.split()\\n    knapsack[int(i)+1] = knapsack[int(i)+1] + int(j)\\nprint(knapsack[knapsack.argmax()])\\n</cell>\\n<cell>\\ncuisines.sort()\\nprint(cuisines)\\n</cell>\\n<|/ file source=github |>\\n', 'parts': ['import sys', '', '\\nknapsack = np.zeros(t, dtype=np.int64)', '\\ncuisines.sort()', '', '', '', '\\n'], 'infills': ['\\n', 'cuisines = sys.stdin.readlines()', '\\nknapsack[0] = -1\\nknapsack[1] = 0\\nfor i in cuisines:\\n    i, j = i.split()\\n    knapsack[int(i)+1] = knapsack[int(i)+1] + int(j)\\nprint(knapsack[knapsack.argmax()])\\n</cell>\\n<cell>', '\\nprint(cuisines)\\n</cell>\\n', '<|/ file source=github |>', '', ''], 'retries_attempted': 1, 'completed': True}, {'text': 'import sys\\n    \\nknapsack = np.zeros(t, dtype=np.int64)\\ncuisines = [\\n    \"italian\",\\n    \"chinese\",\\n    \"korean\",\\n    \"french\",\\n    \"german\",\\n    \"spanish\",\\n]\\ncuisines.sort()\\nfor city in cuisines:\\n    weights = load_weights(city)\\n    print(city)\\n    for t in range(t):\\n        knapsack[t] = knapsack[t-1] + weights[t-1]\\nprint(knapsack[-1])\\n\\n<|/ file filename=main.py source=\\n', 'parts': ['import sys', '', '\\nknapsack = np.zeros(t, dtype=np.int64)', '\\ncuisines.sort()', '', '', '', '\\n'], 'infills': ['\\n    ', '', '\\ncuisines = [\\n    \"italian\",\\n    \"chinese\",\\n    \"korean\",\\n    \"french\",\\n    \"german\",\\n    \"spanish\",\\n]', '\\n', 'for city in cuisines:\\n    weights = load_weights(city)\\n    print(', 'city)\\n    for t in range(t):\\n        ', 'knapsack[t] = knapsack[t-1] + weights[t-1]\\nprint(knapsack[-1])\\n\\n<|/ file filename=main.py source='], 'retries_attempted': 1, 'completed': True}, {'text': \"import sys\\nsys.path.append('../')\\nfrom problem_2.knapsack import knapsack\\nknapsack = np.zeros(t, dtype=np.int64)\\ncuisines = ['Italian', 'Chinese', 'Mexican', 'American', 'Indian']\\nknapsack = knapsack\\ncuisines.sort()\\ncuisines = np.array(cuisines)\\n\\n<|/ file ext=.py filename=problem_\\n\", 'parts': ['import sys', '', '\\nknapsack = np.zeros(t, dtype=np.int64)', '\\ncuisines.sort()', '', '', '', '\\n'], 'infills': [\"\\nsys.path.append('../')\\nfrom problem_2.\", 'knapsack import knapsack', \"\\ncuisines = ['Italian', 'Chinese', 'Mexican', 'American', 'Indian']\\nknapsack = knapsack\", '\\ncuisines = np.array(cuisines)', '\\n\\n<|/ file ext=.py filename=', 'problem_', ''], 'retries_attempted': 1, 'completed': True}, {'text': \"import sys\\nt = sys.maxsize\\nknapsack = np.zeros(t, dtype=np.int64)\\nfor cuisine in cuisines:\\n    if cuisine == 0:\\n        continue\\n    knapsack[cuisine] = sum(knapsack[:cuisine])\\n    \\ncuisines.sort()\\nprint(knapsack[-1])\\n</cell>\\n<text>\\nConclusions\\nThis took about 1 minute on my laptop, which is quite slow. I think it's possible to reduce it to about 6 seconds by using Cython (not really sure how to do that though).\\n\\n\\n</text>\\n<|/ file filename=knapsack_solution.ipynb ext=.ipynb:python dstars=1 source=github \\n\", 'parts': ['import sys', '', '\\nknapsack = np.zeros(t, dtype=np.int64)', '\\ncuisines.sort()', '', '', '', '\\n'], 'infills': ['\\n', 't = sys.maxsize', '\\nfor cuisine in cuisines:\\n    if cuisine == 0:\\n        continue\\n    knapsack[cuisine] = sum(knapsack[:cuisine])\\n    ', '\\nprint(knapsack[-1])\\n</cell>\\n<text>\\nConclusions\\nThis took about 1 minute on my laptop, which is quite ', \"slow. I think it's possible to reduce it to about 6 seconds by using Cython (not really sure how to do that though).\\n\\n\\n</text>\\n<|/ file filename=knapsack_solution.ipynb \", 'ext=.ipynb:python dstars=1 ', 'source=github '], 'retries_attempted': 1, 'completed': True}, {'text': 'import sys\\nt = int(sys.argv[1])\\ncuisines = sys.argv[2:]\\nknapsack = np.zeros(t, dtype=np.int64)\\nfor cuisine in cuisines:\\n    weights = [int(x) for x in cuisine.split()]\\n    weights.append(0)\\n    cuisines.append(weights)\\nknapsack = knapsack + cuisines[-1]\\ncuisines = cuisines[:-1]\\ncuisines.sort()\\ncuisines = np.array(cuisines, dtype=np.int64)\\n</code>\\n<|/ a |>\\n', 'parts': ['import sys', '', '\\nknapsack = np.zeros(t, dtype=np.int64)', '\\ncuisines.sort()', '', '', '', '\\n'], 'infills': ['\\n', 't = int(sys.argv[1])\\ncuisines = sys.argv[2:]', '\\nfor cuisine in cuisines:\\n    weights = [int(x) for x in cuisine.split()]\\n    weights.append(0)\\n    cuisines.append(weights)\\nknapsack = knapsack + cuisines[-1]\\ncuisines = cuisines[:-1]', '\\ncuisine', 's = np.array(cuisines, dtype=np.int64)\\n</code>\\n<|/ a |>', '', ''], 'retries_attempted': 1, 'completed': True}, {'text': 'import sys\\nknapsack = np.zeros(t, dtype=np.int64)\\ncuisines.sort()\\nfor i in cuisines:\\n    knapsack[i] = 0\\n    \\nknapsack[cuisines] = max_weight\\nknapsack = np.zeros(t, dtype=np.int64)\\ncuisines.sort()\\nfor i in cuisines:\\n    knapsack[i] = 0\\n    \\nknapsack[cuisines] = max_weight\\n</cell>\\n<cell>\\nknapsack\\n</cell>\\n<cell>\\nt\\ncuisines.sort()\\n</cell>\\n<cell>\\n\\n</cell>\\n<|/ file dstars=1 |>\\n', 'parts': ['import sys', '', '\\nknapsack = np.zeros(t, dtype=np.int64)', '\\ncuisines.sort()', '', '', '', '\\n'], 'infills': ['\\nknapsack = np.zeros(t, dtype=np.int64)\\ncuisines.sort()\\nfor i in cuisines:\\n    knapsack[i] = 0\\n    \\nknapsack[', 'cuisines] = max_weight', '\\ncuisines.sort()\\nfor i in cuisines:\\n    knapsack[i] = 0\\n    \\nknapsack[cuisines] = max_weight\\n</cell>\\n<cell>\\nknapsack\\n</cell>\\n<cell>\\nt', '\\n</cell>\\n<cell>\\n\\n</cell>\\n<|/ file dstars=1 ', '|>', '', ''], 'retries_attempted': 1, 'completed': True}, {'text': 'import sys\\nt = int(input())\\ncuisines = list(map(int, input().split()))\\nknapsack = np.zeros(t, dtype=np.int64)\\nfor _ in range(t):\\n    item, weight, knapsack = input().split()\\n    knapsack[int(item)] += int(weight)\\ncuisines.sort()\\ncuisines.sort()\\n\\n<|/ file source=github filename=1185.py ext=\\n', 'parts': ['import sys', '', '\\nknapsack = np.zeros(t, dtype=np.int64)', '\\ncuisines.sort()', '', '', '', '\\n'], 'infills': ['\\nt = ', 'int(input())\\ncuisines = list(map(int, input().split()))', '\\nfor _ in range(t):\\n    item, weight, knapsack = input().split()\\n    knapsack[int(item)] += int(weight)\\ncuisines.sort()', '\\n\\n', '<|/ file source=github ', 'filename=1185.py ext', '='], 'retries_attempted': 1, 'completed': True}, {'text': 'import sys\\nif len(sys.argv) < 2:\\n    filename = sys.stdin\\nknapsack = np.zeros(t, dtype=np.int64)\\n\\nfor line in sys.stdin:\\n    cuisines, _, value = line.rstrip().split()\\n    knapsack[cuisines] += int(value)\\n\\nres = np.argpartition(knapsack, cuisines.index(\"Italian\"))[:\\ncuisines.sort()\\nprint(cuisines[res])\\n</code>\\n<|/ a dscore=1 \\n', 'parts': ['import sys', '', '\\nknapsack = np.zeros(t, dtype=np.int64)', '\\ncuisines.sort()', '', '', '', '\\n'], 'infills': ['\\nif len(sys.argv) < 2:\\n    filename = sys.stdin', '', '\\n\\nfor line in sys.stdin:\\n    cuisines, _, value = line.rstrip().split()\\n    knapsack[cuisines] += int(value)\\n\\nres = np.argpartition(knapsack, cuisines.index(\"Italian\"))[:', '\\nprint(cuisines[res])\\n</code>', '\\n<|/ a d', 'score=1 ', ''], 'retries_attempted': 1, 'completed': True}, {'text': \"import sys\\nt = sys.maxsize\\nknapsack = np.zeros(t, dtype=np.int64)\\ncuisines.sort()\\ncuisines.reverse()\\nprint(cuisines)\\nprint(cuisines.count(1))\\ncuisines.sort()\\ncuisines.reverse()\\nprint(cuisines)\\nprint(cuisines.count(1))\\nprint(cuisines.count(2))\\n</code>\\n<|/ a tags=python,list dscore=1 |>\\n<| c |>\\nThanks for the answer! But I guess it's not the best solution since it creates another list just to sort it. Any other suggestions?\\n<|/ c |>\\n<| c |>\\nIt is a O(n*log(n)) solution.  If you want the shortest path then you need to use dynamic programming.  You can find details on wikipedia for it https://en.wikipedia.org/wiki/Dijkstra%27s_algorithm\\n<|/ c |>\\n<| c |>\\nThanks for the help!\\n<|/ c |>\\n\", 'parts': ['import sys', '', '\\nknapsack = np.zeros(t, dtype=np.int64)', '\\ncuisines.sort()', '', '', '', '\\n'], 'infills': ['\\n', 't = sys.maxsize', '\\ncuisines.sort()\\ncuisines.reverse()\\nprint(cuisines)\\nprint(cuisines.count(1))', \"\\ncuisines.reverse()\\nprint(cuisines)\\nprint(cuisines.count(1))\\nprint(cuisines.count(2))\\n</code>\\n<|/ a tags=python,list dscore=1 |>\\n<| c |>\\nThanks for the answer! But I guess it's not the best solution since it creates another list just to sort it. Any other suggestions?\\n<|/ c |>\\n<| c |>\\nIt is a O(n*log(n)) solution.  If you want the shortest path then you need to use dynamic programming.  You can find details on wikipedia for it https://en.wikipedia.org/wiki/Dijkstra%27s_algorithm\\n<|/ c |>\", '\\n<| c |>', '\\nThanks for the help!\\n<|/ c |>', ''], 'retries_attempted': 1, 'completed': False}, {'text': 'import sys\\nt = int(sys.stdin.readline())\\ncuisines = []\\nknapsack = np.zeros(t, dtype=np.int64)\\nfor i in xrange(t):\\n\\tn = int(sys.stdin.readline())\\n\\tcuisines.append(sys.stdin.readline().strip())\\n\\t\\nfor i,c in enumerate(cuisines):\\n\\tknapsack[i] = knapsack[i-1] + int(c) if int(c) < knapsack[i-1] else knapsack[i-1]\\ncuisines.sort()\\nprint knapsack[-1]\\n\\n<|/ file source=github |>\\n', 'parts': ['import sys', '', '\\nknapsack = np.zeros(t, dtype=np.int64)', '\\ncuisines.sort()', '', '', '', '\\n'], 'infills': ['\\nt = ', 'int(sys.stdin.readline())\\ncuisines = []', '\\nfor i in xrange(t):\\n\\tn = int(sys.stdin.readline())\\n\\tcuisines.append(sys.stdin.readline().strip())\\n\\t\\nfor i,c in enumerate(cuisines):\\n\\tknapsack[i] = knapsack[i-1] + int(c) if int(c) < knapsack[i-1] else knapsack[i-1]', '\\nprint ', 'knapsack[-1]\\n\\n<|/ file source=', 'github |>', ''], 'retries_attempted': 1, 'completed': True}, {'text': 'import sys\\ncuisines = sys.stdin.readline().strip().split()\\nknapsack = np.zeros(t, dtype=np.int64)\\nfor cuisine in cuisines:\\n    knapsack[cuisine-1] += 1\\ncuisines.sort()\\nprint(knapsack)\\n</code>\\n<|/ a dscore=0 |>\\n', 'parts': ['import sys', '', '\\nknapsack = np.zeros(t, dtype=np.int64)', '\\ncuisines.sort()', '', '', '', '\\n'], 'infills': ['\\n', 'cuisines = sys.stdin.readline().strip().split()', '\\nfor cuisine in cuisines:\\n    knapsack[cuisine-1] += 1', '\\nprint(', 'knapsack)', '\\n</code>\\n<|/ a d', 'score=0 |>'], 'retries_attempted': 1, 'completed': True}, {'text': \"import sys\\nt = sys.maxint\\nknapsack = np.zeros(t, dtype=np.int64)\\ncuisines = cuisines.split('|')\\ncuisines.sort()\\nknapsack[cuisines] += 1\\n\\n<|/ file ext=.ipynb:python dstars=1 source=github filename=Knapsack.ipynb \\n\", 'parts': ['import sys', '', '\\nknapsack = np.zeros(t, dtype=np.int64)', '\\ncuisines.sort()', '', '', '', '\\n'], 'infills': ['\\nt = ', 'sys.maxint', \"\\ncuisines = cuisines.split('|')\", '\\n', 'knapsack[cuisines] += 1\\n\\n', '<|/', ' file ext=.ipynb:python dstars=1 source=github filename=Knapsack.ipynb '], 'retries_attempted': 1, 'completed': True}, {'text': \"import sys\\nif len(sys.argv) != 2:\\n    sys.stderr.write('Usage: %s filename\\\\n' % sys.argv[0])\\n    sys.exit(1)\\n\\nfilename = sys.argv[1]\\nwith open(filename) as file:\\n    lines = file.readlines()\\n\\nn = int(lines[0])\\nt = int(lines[1])\\nknapsack = np.zeros(t, dtype=np.int64)\\ncuisines = lines[2]\\ncuisines = cuisines.split()\\ncuisines.sort()\\n\\nfor i in range(len(cuisines)):\\n    cuisine = cuisines[i]\\n    idx = cuisines.index(cuisine)\\n    knapsack[idx] += 1\\n\\nfor i in range(len(knapsack)):\\n    print(i, knapsack[i])\\n\\n<|/ file filename=knapsack.py d\\n\", 'parts': ['import sys', '', '\\nknapsack = np.zeros(t, dtype=np.int64)', '\\ncuisines.sort()', '', '', '', '\\n'], 'infills': [\"\\nif len(sys.argv) != 2:\\n    sys.stderr.write('Usage: %s filename\\\\n' % sys.argv[0])\\n    sys.exit(1)\\n\\nfilename = sys.argv[1]\\nwith open(filename) as file:\\n    lines = file.readlines()\\n\\n\", 'n = int(lines[0])\\nt = int(lines[1])', '\\ncuisines = lines[2]\\ncuisines = cuisines.split()', '\\n\\nfor i in range(len(cuisines)):\\n    cuisine = cuisines[i]\\n    idx = ', 'cuisines.index(cuisine)\\n    knapsack[idx] += 1\\n\\nfor i in range(len(knapsack)):\\n    print(i, knapsack[i])\\n\\n<|/ file filename=', 'knapsack.py d', ''], 'retries_attempted': 1, 'completed': True}, {'text': \"import sys\\nprint(sys.version.split('.'))\\n</code>\\n<|/ a dscore=0 |>\\nknapsack = np.zeros(t, dtype=np.int64)\\ncuisines = ['Italian','Italian Sandwich','Italian Fries','Italian Special','Italian Steak','Italian Sandwich','Italian Salad','Italian Burger','Italian Fries','Italian Special','Italian Sandwich','Italian Salad','Italian Burger','Italian Fries','Italian Special','Italian Sandwich','Italian Salad','Italian Burger','Italian Fries','Italian \\ncuisines.sort()\\nfor i in cuisines:\\n    knapsack[i] = knapsack[i-1] + cuisines[i]\\nprint(knapsack[knapsack > 50])\\n</code>\\n<|/ a tag\\n\", 'parts': ['import sys', '', '\\nknapsack = np.zeros(t, dtype=np.int64)', '\\ncuisines.sort()', '', '', '', '\\n'], 'infills': [\"\\nprint(sys.version.split('\", \".'))\\n</code>\\n<|/ a dscore=0 |>\", \"\\ncuisines = ['Italian','Italian Sandwich','Italian Fries','Italian Special','Italian Steak','Italian Sandwich','Italian Salad','Italian Burger','Italian Fries','Italian Special','Italian Sandwich','Italian Salad','Italian Burger','Italian Fries','Italian Special','Italian Sandwich','Italian Salad','Italian Burger','Italian Fries','Italian \", '\\nfor i in cuisines:\\n    knapsack[i] = knapsack[i-1] + cuisine', 's[i]', '\\nprint(knapsack[knapsack > 50])', '\\n</code>\\n<|/ a tag'], 'retries_attempted': 1, 'completed': False}, {'text': 'import sys\\nimport numpy as np\\nknapsack = knapsack(item_list, item_weight, t)\\nknapsack = np.zeros(t, dtype=np.int64)\\nfor i in item_list:\\ncuisines.sort()\\nfor i in cuisines:\\n    knapsack[i] = item_weight[i]\\nprint(knapsack)\\n</cell>\\n<|/ file filename=knapsack.ipynb \\n', 'parts': ['import sys', '', '\\nknapsack = np.zeros(t, dtype=np.int64)', '\\ncuisines.sort()', '', '', '', '\\n'], 'infills': ['\\nimport numpy as np', '\\nknapsack = knapsack(item_list, item_weight, t)', '\\nfor i in item_list:', '\\nfor i in cuisines:\\n', '    knapsack[i] = item_weight[i]\\nprint(knapsack)\\n</cell>', '\\n<|/ file filename=knapsack.ipynb ', ''], 'retries_attempted': 1, 'completed': True}, {'text': 'import sys\\nt = sys.getsizeof(cuisines)\\nprint(t)\\nknapsack = np.zeros(t, dtype=np.int64)\\nfor cuisine in cuisines:\\n    count = 0\\n    for d in cuisine:\\n        count += knapsack\\ncuisines.sort()\\nprint(cuisines)\\nprint(count)\\n</code>\\n<|/ a tags=python,numpy,list,arrays |>\\n<| c |>\\nIf it works for you, please accept the answer :) !\\n<|/ c \\n', 'parts': ['import sys', '', '\\nknapsack = np.zeros(t, dtype=np.int64)', '\\ncuisines.sort()', '', '', '', '\\n'], 'infills': ['\\nt = sys.getsizeof(cuisines)\\nprint(', 't)', '\\nfor cuisine in cuisines:\\n    count = 0\\n    for d in cuisine:\\n        count += knapsack', '\\nprint(cuisines)\\nprint(count)', '\\n</code>\\n<|/ a tags=python,numpy,list,arrays |>', '\\n<| c |>\\nIf it works for you, please accept the answer :) !\\n<|/ c ', ''], 'retries_attempted': 1, 'completed': True}, {'text': 'import sys\\nfrom timeit import default_timer as timer\\nknapsack = np.zeros(t, dtype=np.int64)\\ncuisines = np.arange(0, t+1)\\nknapsack[0] = 0\\nknapsack[1] = 1\\ncuisines.sort()\\nprint(cuisines)\\nprint(knapsack)\\n<|/ file filename=knapsack.py ext=.py \\n', 'parts': ['import sys', '', '\\nknapsack = np.zeros(t, dtype=np.int64)', '\\ncuisines.sort()', '', '', '', '\\n'], 'infills': ['\\nfrom timeit import default_timer as timer', '', '\\ncuisines = np.arange(0, t+1)\\nknapsack[0] = 0\\nknapsack[1] = 1', '\\nprint(cuisines)\\nprint(knapsack)\\n<|/ file filename=', 'knapsack.py ext=.py ', '', ''], 'retries_attempted': 1, 'completed': True}]}\n"
     ]
    }
   ],
   "source": [
    "rows_HUMAN = read_jsonl_selected('./Methods/DetectGPT4Code/results/8HUMANfim.jsonl', keys_to_keep=[\"cleared_code\", \"fill_in_middle_gold\"])\n",
    "rows_LLM = read_jsonl_selected('./Methods/DetectGPT4Code/results/8LLMfim.jsonl', keys_to_keep=[\"cleared_code\", \"fill_in_middle_gold\"])\n",
    "\n",
    "print(rows_HUMAN[0])"
   ]
  },
  {
   "cell_type": "code",
   "execution_count": 35,
   "id": "e6eb9202",
   "metadata": {},
   "outputs": [
    {
     "name": "stdout",
     "output_type": "stream",
     "text": [
      "am ok\n"
     ]
    }
   ],
   "source": [
    "### TEST\n",
    "def γ_application(s: str, γ: float = 90) -> str:\n",
    "    total = 1-γ\n",
    "    if not s:  # stringa vuota\n",
    "        return \"\"\n",
    "    n = max(5, len(s) // total)  # almeno 1 carattere\n",
    "    return s[-n:]\n",
    "\n",
    "print(γ_application(\"hello world, how are you? i am ok\", γ=99))"
   ]
  },
  {
   "cell_type": "code",
   "execution_count": 45,
   "id": "a56bb12d",
   "metadata": {},
   "outputs": [],
   "source": [
    "import tqdm\n",
    "\n",
    "\n",
    "def prob_difference(rows: dict, γ: float = 90) -> list:\n",
    "\n",
    "    '''\n",
    "    '''\n",
    "    def γ_application(s: str, γ: float = 90) -> str:\n",
    "        total = 1-γ\n",
    "        if not s:  # stringa vuota\n",
    "            return \"\"\n",
    "        n = max(5, len(s) // total)  # almeno 1 carattere\n",
    "        return s[-n:]\n",
    "\n",
    "    gold_prob_all = []\n",
    "    no_dict = 0\n",
    "    no_code = 0\n",
    "    no_fill_in_middle = 0\n",
    "    no_fill_completed = 0\n",
    "\n",
    "    print(\"Starting processing...\")\n",
    "    print(f\"Total rows: {len(rows)}\")\n",
    "\n",
    "    for i, row in tqdm.tqdm(enumerate(rows), total=len(rows)):\n",
    "\n",
    "        # prendi l'originale: preferisci cleared_code, altrimenti code\n",
    "        if not isinstance(row, dict):\n",
    "            no_dict += 1\n",
    "            continue\n",
    "\n",
    "\n",
    "\n",
    "        gold = row.get(\"cleared_code\") or row.get(\"code\")\n",
    "        gold = γ_application(gold)\n",
    "        if not gold:\n",
    "            no_code += 1\n",
    "            continue\n",
    "\n",
    "        if not row.get(\"fill_in_middle_gold\"):\n",
    "            no_fill_in_middle += 1\n",
    "            continue\n",
    "\n",
    "        # THE MAIN PART\n",
    "        fim_completed = [γ_application(f.get(\"text\"), γ=γ) for f in row.get(\"fill_in_middle_gold\") \n",
    "                            if isinstance(f, dict) and f.get(\"completed\", False) and \"text\" in f]\n",
    "\n",
    "        if len(fim_completed) < 8 or fim_completed is None:\n",
    "            no_fill_completed += 1\n",
    "            continue\n",
    "\n",
    "        # stesso schema: score originale - media(score perturbazioni)\n",
    "        original_score = get_logprob(gold)[0]\n",
    "\n",
    "        miu_scores = [get_logprob(text)[0] for text in fim_completed]\n",
    "        miu_scores_average_score = float(np.mean(miu_scores))\n",
    "\n",
    "        gold_prob_all.append(original_score - miu_scores_average_score)\n",
    "\n",
    "    print(f\"Processed | no_dict: {no_dict}, no_code: {no_code}, no_fill_in_middle: {no_fill_in_middle}, no_fill_completed: {no_fill_completed}\")\n",
    "\n",
    "    return gold_prob_all \n",
    "\n",
    "\n"
   ]
  },
  {
   "cell_type": "code",
   "execution_count": 46,
   "id": "b2720155",
   "metadata": {},
   "outputs": [
    {
     "name": "stdout",
     "output_type": "stream",
     "text": [
      "Starting processing...\n",
      "Total rows: 249\n"
     ]
    },
    {
     "name": "stderr",
     "output_type": "stream",
     "text": [
      "100%|██████████| 249/249 [00:08<00:00, 28.13it/s]\n"
     ]
    },
    {
     "name": "stdout",
     "output_type": "stream",
     "text": [
      "Processed | no_dict: 0, no_code: 0, no_fill_in_middle: 0, no_fill_completed: 141\n",
      "Starting processing...\n",
      "Total rows: 747\n"
     ]
    },
    {
     "name": "stderr",
     "output_type": "stream",
     "text": [
      "100%|██████████| 747/747 [00:28<00:00, 26.62it/s]"
     ]
    },
    {
     "name": "stdout",
     "output_type": "stream",
     "text": [
      "Processed | no_dict: 0, no_code: 0, no_fill_in_middle: 0, no_fill_completed: 386\n",
      "-0.2909950886642246\n",
      "-0.24633107770586354\n"
     ]
    },
    {
     "name": "stderr",
     "output_type": "stream",
     "text": [
      "\n"
     ]
    }
   ],
   "source": [
    "prob_HUMAN = prob_difference(rows_HUMAN, γ=95)\n",
    "prob_LLM = prob_difference(rows_LLM,γ=95)\n",
    "\n",
    "print(float(np.mean(prob_HUMAN)))\n",
    "print(float(np.mean(prob_LLM)))"
   ]
  },
  {
   "cell_type": "code",
   "execution_count": 47,
   "id": "223cd73d",
   "metadata": {},
   "outputs": [
    {
     "name": "stdout",
     "output_type": "stream",
     "text": [
      "[np.float64(-1.566263688935174), np.float64(0.0), np.float64(0.0), np.float64(0.0), np.float64(-0.3875662922859191), np.float64(-2.562360498640272), np.float64(0.0), np.float64(-1.753874349594116), np.float64(0.0), np.float64(-0.44921538829803476), np.float64(0.0), np.float64(0.0), np.float64(0.0), np.float64(0.0), np.float64(-1.1544365485509238), np.float64(0.0), np.float64(0.0), np.float64(0.0), np.float64(-1.0925505995750426), np.float64(0.0), np.float64(-0.9182751655578612), np.float64(0.0), np.float64(-0.45068889194064665), np.float64(-1.592025566101074), np.float64(0.0), np.float64(-0.5066150695085527), np.float64(0.0), np.float64(0.0), np.float64(0.0), np.float64(0.0), np.float64(0.0), np.float64(0.0), np.float64(0.0), np.float64(0.0), np.float64(0.0), np.float64(0.0), np.float64(0.0), np.float64(0.0), np.float64(0.0), np.float64(0.0), np.float64(-0.33357482486300993), np.float64(0.05563492178916929), np.float64(-1.38081271648407), np.float64(0.0), np.float64(0.0), np.float64(0.0), np.float64(0.0), np.float64(0.0), np.float64(-0.08415735960006732), np.float64(-0.990413212776184), np.float64(-0.5422918200492859), np.float64(0.0), np.float64(-1.7609410285949707), np.float64(-0.6265437006950378), np.float64(0.0), np.float64(0.0), np.float64(0.0), np.float64(0.0), np.float64(0.0), np.float64(0.0), np.float64(0.0), np.float64(0.0), np.float64(0.0), np.float64(0.0), np.float64(0.0), np.float64(-0.5810344457626342), np.float64(-0.6799531459808348), np.float64(0.0), np.float64(0.0), np.float64(0.0), np.float64(-0.5568794846534728), np.float64(-1.5602272868156435), np.float64(-1.6154736412896051), np.float64(-0.1917877197265625), np.float64(0.0), np.float64(-1.3645052671432496), np.float64(0.0), np.float64(0.0), np.float64(0.0), np.float64(0.0), np.float64(0.0), np.float64(0.0), np.float64(-1.046873617172241), np.float64(0.0), np.float64(0.0), np.float64(0.0), np.float64(0.0), np.float64(-0.6759699285030365), np.float64(0.0), np.float64(-0.7939349280463324), np.float64(-0.6981829669740467), np.float64(0.0), np.float64(0.0), np.float64(0.0), np.float64(-0.9503846433427601), np.float64(0.0), np.float64(0.0), np.float64(0.0), np.float64(0.0), np.float64(0.0), np.float64(0.0), np.float64(0.0), np.float64(0.0), np.float64(0.0), np.float64(-1.0695797072516546), np.float64(0.0), np.float64(-1.5457109928131105), np.float64(0.0)]\n"
     ]
    },
    {
     "data": {
      "image/png": "[encoded data removed]",
      "text/plain": [
       "<Figure size 640x480 with 1 Axes>"
      ]
     },
     "metadata": {},
     "output_type": "display_data"
    }
   ],
   "source": [
    "import matplotlib.pyplot as plt\n",
    "\n",
    "print(prob_HUMAN)\n",
    "plt.figure()\n",
    "plt.plot(np.arange(len(prob_HUMAN)), prob_HUMAN)\n",
    "plt.plot(np.arange(len(prob_LLM)), prob_LLM)\n",
    "plt.ylim(0, 0.4)               # scala verticale 0–1\n",
    "plt.xlabel(\"Indice\")\n",
    "plt.ylabel(\"Probabilità\")\n",
    "plt.title('Hi')\n",
    "plt.grid(True)\n",
    "plt.show()"
   ]
  },
  {
   "cell_type": "code",
   "execution_count": 60,
   "id": "f8ae4fb5",
   "metadata": {},
   "outputs": [
    {
     "name": "stdout",
     "output_type": "stream",
     "text": [
      "469 469\n"
     ]
    },
    {
     "data": {
      "image/png": "[encoded data removed]",
      "text/plain": [
       "<Figure size 600x600 with 1 Axes>"
      ]
     },
     "metadata": {},
     "output_type": "display_data"
    }
   ],
   "source": [
    "# pseudo classification \n",
    "from sklearn.metrics import auc, roc_curve\n",
    "\n",
    "\n",
    "k = -0.26\n",
    "TP = sum(x > k for x in prob_HUMAN)\n",
    "FP = sum(x <= k for x in prob_LLM)\n",
    "\n",
    "TN = sum(x > k for x in prob_LLM)\n",
    "FN = sum(x <= k for x in prob_HUMAN)\n",
    "\n",
    "\n",
    "\n",
    "ones = [1] * len(prob_HUMAN)\n",
    "zero = [0] * len(prob_LLM)\n",
    "\n",
    "\n",
    "y_true = ones + zero\n",
    "y_scores  = prob_HUMAN + prob_LLM\n",
    "\n",
    "print(len(y_true), len(y_scores))\n",
    "\n",
    "\n",
    "\n",
    "\n",
    "# Calcolo ROC\n",
    "fpr, tpr, soglie = roc_curve(y_true, y_scores)\n",
    "roc_auc = auc(fpr, tpr)\n",
    "\n",
    "# Disegno\n",
    "plt.figure(figsize=(6,6))\n",
    "plt.plot(fpr, tpr, color=\"darkorange\", lw=2, label=f\"ROC curve (area = {roc_auc:.2f})\")\n",
    "plt.plot([0, 1], [0, 1], color=\"navy\", lw=2, linestyle=\"--\")\n",
    "plt.xlabel(\"False Positive Rate\")\n",
    "plt.ylabel(\"True Positive Rate\")\n",
    "plt.title(\"ROC Curve\")\n",
    "plt.legend(loc=\"lower right\")\n",
    "plt.show()\n",
    "\n"
   ]
  }
 ],
 "metadata": {
  "kernelspec": {
   "display_name": "Python 3",
   "language": "python",
   "name": "python3"
  },
  "language_info": {
   "codemirror_mode": {
    "name": "ipython",
    "version": 3
   },
   "file_extension": ".py",
   "mimetype": "text/x-python",
   "name": "python",
   "nbconvert_exporter": "python",
   "pygments_lexer": "ipython3",
   "version": "3.12.6"
  }
 },
 "nbformat": 4,
 "nbformat_minor": 5
}
