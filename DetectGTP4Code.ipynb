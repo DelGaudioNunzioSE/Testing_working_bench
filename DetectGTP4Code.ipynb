{
 "cells": [
  {
   "cell_type": "markdown",
   "id": "5bc9c59b",
   "metadata": {},
   "source": [
    "![Total](Methods/Code_detection/img/total.jpg)"
   ]
  },
  {
   "cell_type": "code",
   "execution_count": 17,
   "id": "d4a73b46",
   "metadata": {},
   "outputs": [],
   "source": [
    "import torch\n",
    "\n",
    "DEVICE = \"cuda\" if torch.cuda.is_available() else \"cpu\""
   ]
  },
  {
   "cell_type": "markdown",
   "id": "a28bf702",
   "metadata": {},
   "source": [
    "## Dataset Preprocessing "
   ]
  },
  {
   "cell_type": "markdown",
   "id": "3ca6b3c7",
   "metadata": {},
   "source": [
    "Change dataset format"
   ]
  },
  {
   "cell_type": "code",
   "execution_count": 10,
   "id": "2e917939",
   "metadata": {},
   "outputs": [],
   "source": [
    "import pandas as pd\n",
    "import json\n",
    "\n",
    "def csv_to_jsonl_split(input_path: str, \n",
    "                       output_human_path: str, \n",
    "                       output_llm_path: str):\n",
    "    '''\n",
    "    \n",
    "    '''\n",
    "    ds = pd.read_csv(input_path)\n",
    "\n",
    "    # colonna da tenere\n",
    "    CODE_CONLUMN = \"cleared_code\"       # <-- la feature che vuoi salvare\n",
    "    SPLIT = \"LLM\"        # <-- la colonna che decide dove va il sample\n",
    "    target = \"Human\"              # <-- valore discriminante\n",
    "\n",
    "    ds = pd.read_csv(input_path)\n",
    "\n",
    "    # split dataset\n",
    "    dataset_match = ds[ds[SPLIT] == target]\n",
    "    dataset_other = ds[ds[SPLIT] != target]\n",
    "\n",
    "    # salva human.jsonl\n",
    "    with open(output_human_path, \"w\", encoding=\"utf-8\") as f:\n",
    "        for _, row in dataset_match.iterrows():\n",
    "            f.write(json.dumps(row.to_dict(), ensure_ascii=False) + \"\\n\")\n",
    "\n",
    "    # salva llm.jsonl\n",
    "    with open(output_llm_path, \"w\", encoding=\"utf-8\") as f:\n",
    "        for _, row in dataset_other.iterrows():\n",
    "            f.write(json.dumps(row.to_dict(), ensure_ascii=False) + \"\\n\")\n"
   ]
  },
  {
   "cell_type": "code",
   "execution_count": 11,
   "id": "6c4a0675",
   "metadata": {},
   "outputs": [],
   "source": [
    "INPUT_PATH = './Dataset/AIGCodeSet.csv'\n",
    "HUMAN_PATH = \"./Methods/DetectGPT4Code/results/AIGCodeSethuman.json\"\n",
    "LLM_PATH = \"./Methods/DetectGPT4Code/results/AIGCodeSetllm.json\""
   ]
  },
  {
   "cell_type": "code",
   "execution_count": 12,
   "id": "cd4a920e",
   "metadata": {},
   "outputs": [],
   "source": [
    "csv_to_jsonl_split(input_path = INPUT_PATH, \n",
    "                    output_human_path = HUMAN_PATH, \n",
    "                    output_llm_path = LLM_PATH)"
   ]
  },
  {
   "cell_type": "markdown",
   "id": "068bd655",
   "metadata": {},
   "source": [
    "![FIM](Methods/Code_detection/img/FIM.jpg)"
   ]
  },
  {
   "cell_type": "code",
   "execution_count": 13,
   "id": "f52cc5e2",
   "metadata": {},
   "outputs": [],
   "source": [
    "from transformers import AutoModelForCausalLM, AutoTokenizer\n",
    "import torch, json\n",
    "import random, os\n",
    "from Methods.DetectGPT4Code.utils_batch import InfillingModel\n",
    "import tqdm\n",
    "\n",
    "def run_fill_in_the_middle(\n",
    "    input_path,                # es: \"gpt4_python_codecontest.jsonl\"\n",
    "    output_path=\"./Methods/DetectGPT4Code/results/fim.josnl\", \n",
    "    batch_size=20,\n",
    "    mask_lines=1,\n",
    "    model_name=\"facebook/incoder-6B\",\n",
    "    code_lable = 'cleared_code',\n",
    "    device = DEVICE\n",
    "):\n",
    "    \"\"\"\n",
    "    input_path: must be a .jsonl\n",
    "    Esegue la perturbazione FIM su un dataset JSONL con campo 'code_lable'.\n",
    "    Salva un nuovo JSONL con campo 'fill_in_middle_gold'.\n",
    "    \"\"\"\n",
    "    \n",
    "\n",
    "\n",
    "    # half precision solo per incoder-6B\n",
    "    half = True if model_name == \"facebook/incoder-6B\" else False\n",
    "    \n",
    "    infilling_model = InfillingModel(model_name=model_name, cuda=True, half=half, device=device, quantization = \"nf4\")\n",
    "\n",
    "    # upload dataset\n",
    "    with open(input_path, 'r', encoding=\"utf-8\") as f:\n",
    "        dataset = [json.loads(line) for line in f.readlines()]\n",
    "\n",
    "    # support functions\n",
    "    def find_all(substring, string):\n",
    "        start = 0\n",
    "        while True:\n",
    "            start = string.find(substring, start)\n",
    "            if start == -1: return\n",
    "            yield start\n",
    "            start += len(substring)\n",
    "\n",
    "    def mask_code(parsed_code, mask_lines=mask_lines):\n",
    "        for _ in range(mask_lines):\n",
    "            positions = list(find_all(substring='\\n', string=parsed_code))\n",
    "            if positions == []:\n",
    "                positions = list(find_all(substring=':', string=parsed_code))\n",
    "            if len(positions) < 2:\n",
    "                continue\n",
    "            mask_start = random.choice(range(len(positions)-1))\n",
    "            mask_start_position = positions[mask_start]\n",
    "            mask_end_position = positions[mask_start+1]\n",
    "            parsed_code = parsed_code[:mask_start_position] + '<insert>' + parsed_code[mask_end_position:]\n",
    "        return parsed_code\n",
    "\n",
    "    def norm_inserts_num(parsed_code_norm):\n",
    "        max_num = 0\n",
    "        for i, x in enumerate(parsed_code_norm):\n",
    "            if len(list(find_all('<insert>', x))) > max_num:\n",
    "                max_num = len(list(find_all('<insert>', x)))\n",
    "                id = i\n",
    "\n",
    "        new_res = []\n",
    "        for x in parsed_code_norm:\n",
    "            if len(list(find_all('<insert>', x))) < max_num:\n",
    "                new_res.append(parsed_code_norm[id])\n",
    "            else:\n",
    "                new_res.append(x)\n",
    "        return new_res\n",
    "    ## end support function\n",
    "    \n",
    "\n",
    "    # output check\n",
    "    if os.path.exists(output_path):\n",
    "        with open(output_path, 'r') as f:\n",
    "            finished = [json.loads(line) for line in f.readlines()]\n",
    "        dataset = dataset[len(finished):]\n",
    "\n",
    "\n",
    "    # MAIN CYCLE\n",
    "    for idx, ins in tqdm.tqdm(enumerate(dataset), total=len(dataset)):\n",
    "        code_lable_all = []\n",
    "        if len(ins[code_lable]) < 2500:\n",
    "            for _ in range(batch_size):\n",
    "                gold_codes_masked = mask_code(ins[code_lable], mask_lines=mask_lines)\n",
    "                code_lable_all.append(gold_codes_masked[:2500])\n",
    "\n",
    "            code_lable_all = norm_inserts_num(code_lable_all)\n",
    "            parts_batch = [example.split(\"<insert>\") for example in code_lable_all]\n",
    "            fill_in_middle_gold = infilling_model.batched_infill(\n",
    "                parts_batch, max_to_generate=16*mask_lines, temperature=0.7\n",
    "            )\n",
    "            ins['fill_in_middle_gold'] = fill_in_middle_gold\n",
    "        else:\n",
    "            ins['fill_in_middle_gold'] = ['token exceeds 2500']\n",
    "\n",
    "        with open(output_path, 'a') as f:\n",
    "            f.write(json.dumps(ins) + '\\n')\n",
    "    \n",
    "\n",
    "    return output_path\n"
   ]
  },
  {
   "cell_type": "code",
   "execution_count": 14,
   "id": "60e089ab",
   "metadata": {},
   "outputs": [],
   "source": [
    "HUMANfim = \"./Methods/DetectGPT4Code/results/8HUMANfim.jsonl\"\n",
    "LLMfim = \"./Methods/DetectGPT4Code/results/8LLMfim.jsonl\"\n",
    "fim_model = \"facebook/incoder-1B\"\n",
    "code_conlumn = 'cleared_code'  "
   ]
  },
  {
   "cell_type": "code",
   "execution_count": 15,
   "id": "2b642e4b",
   "metadata": {},
   "outputs": [
    {
     "name": "stdout",
     "output_type": "stream",
     "text": [
      "loading model\n"
     ]
    },
    {
     "ename": "AttributeError",
     "evalue": "function 'cquantize_blockwise_fp16_nf4' not found",
     "output_type": "error",
     "traceback": [
      "\u001b[1;31m---------------------------------------------------------------------------\u001b[0m",
      "\u001b[1;31mAttributeError\u001b[0m                            Traceback (most recent call last)",
      "Cell \u001b[1;32mIn[15], line 1\u001b[0m\n\u001b[1;32m----> 1\u001b[0m \u001b[43mrun_fill_in_the_middle\u001b[49m\u001b[43m(\u001b[49m\n\u001b[0;32m      2\u001b[0m \u001b[43m    \u001b[49m\u001b[43minput_path\u001b[49m\u001b[43m \u001b[49m\u001b[38;5;241;43m=\u001b[39;49m\u001b[43m \u001b[49m\u001b[43mHUMAN_PATH\u001b[49m\u001b[43m,\u001b[49m\n\u001b[0;32m      3\u001b[0m \u001b[43m    \u001b[49m\u001b[43moutput_path\u001b[49m\u001b[43m \u001b[49m\u001b[38;5;241;43m=\u001b[39;49m\u001b[43m \u001b[49m\u001b[43mHUMANfim\u001b[49m\u001b[43m,\u001b[49m\u001b[43m \u001b[49m\n\u001b[0;32m      4\u001b[0m \u001b[43m    \u001b[49m\u001b[43mbatch_size\u001b[49m\u001b[43m \u001b[49m\u001b[38;5;241;43m=\u001b[39;49m\u001b[38;5;241;43m10\u001b[39;49m\u001b[43m,\u001b[49m\n\u001b[0;32m      5\u001b[0m \u001b[43m    \u001b[49m\u001b[43mmask_lines\u001b[49m\u001b[43m \u001b[49m\u001b[38;5;241;43m=\u001b[39;49m\u001b[38;5;241;43m8\u001b[39;49m\u001b[43m,\u001b[49m\n\u001b[0;32m      6\u001b[0m \u001b[43m    \u001b[49m\u001b[43mmodel_name\u001b[49m\u001b[43m \u001b[49m\u001b[38;5;241;43m=\u001b[39;49m\u001b[43m \u001b[49m\u001b[43mfim_model\u001b[49m\u001b[43m,\u001b[49m\n\u001b[0;32m      7\u001b[0m \u001b[43m    \u001b[49m\u001b[43mcode_lable\u001b[49m\u001b[43m \u001b[49m\u001b[38;5;241;43m=\u001b[39;49m\u001b[43m \u001b[49m\u001b[43mcode_conlumn\u001b[49m\u001b[43m,\u001b[49m\n\u001b[0;32m      8\u001b[0m \u001b[43m    \u001b[49m\u001b[43mdevice\u001b[49m\u001b[43m \u001b[49m\u001b[38;5;241;43m=\u001b[39;49m\u001b[43m \u001b[49m\u001b[43mDEVICE\u001b[49m\n\u001b[0;32m      9\u001b[0m \u001b[43m)\u001b[49m\n",
      "Cell \u001b[1;32mIn[13], line 27\u001b[0m, in \u001b[0;36mrun_fill_in_the_middle\u001b[1;34m(input_path, output_path, batch_size, mask_lines, model_name, code_lable, device)\u001b[0m\n\u001b[0;32m     24\u001b[0m \u001b[38;5;66;03m# half precision solo per incoder-6B\u001b[39;00m\n\u001b[0;32m     25\u001b[0m half \u001b[38;5;241m=\u001b[39m \u001b[38;5;28;01mTrue\u001b[39;00m \u001b[38;5;28;01mif\u001b[39;00m model_name \u001b[38;5;241m==\u001b[39m \u001b[38;5;124m\"\u001b[39m\u001b[38;5;124mfacebook/incoder-6B\u001b[39m\u001b[38;5;124m\"\u001b[39m \u001b[38;5;28;01melse\u001b[39;00m \u001b[38;5;28;01mFalse\u001b[39;00m\n\u001b[1;32m---> 27\u001b[0m infilling_model \u001b[38;5;241m=\u001b[39m \u001b[43mInfillingModel\u001b[49m\u001b[43m(\u001b[49m\u001b[43mmodel_name\u001b[49m\u001b[38;5;241;43m=\u001b[39;49m\u001b[43mmodel_name\u001b[49m\u001b[43m,\u001b[49m\u001b[43m \u001b[49m\u001b[43mcuda\u001b[49m\u001b[38;5;241;43m=\u001b[39;49m\u001b[38;5;28;43;01mTrue\u001b[39;49;00m\u001b[43m,\u001b[49m\u001b[43m \u001b[49m\u001b[43mhalf\u001b[49m\u001b[38;5;241;43m=\u001b[39;49m\u001b[43mhalf\u001b[49m\u001b[43m,\u001b[49m\u001b[43m \u001b[49m\u001b[43mdevice\u001b[49m\u001b[38;5;241;43m=\u001b[39;49m\u001b[43mdevice\u001b[49m\u001b[43m,\u001b[49m\u001b[43m \u001b[49m\u001b[43mquantization\u001b[49m\u001b[43m \u001b[49m\u001b[38;5;241;43m=\u001b[39;49m\u001b[43m \u001b[49m\u001b[38;5;124;43m\"\u001b[39;49m\u001b[38;5;124;43mnf4\u001b[39;49m\u001b[38;5;124;43m\"\u001b[39;49m\u001b[43m)\u001b[49m\n\u001b[0;32m     29\u001b[0m \u001b[38;5;66;03m# upload dataset\u001b[39;00m\n\u001b[0;32m     30\u001b[0m \u001b[38;5;28;01mwith\u001b[39;00m \u001b[38;5;28mopen\u001b[39m(input_path, \u001b[38;5;124m'\u001b[39m\u001b[38;5;124mr\u001b[39m\u001b[38;5;124m'\u001b[39m, encoding\u001b[38;5;241m=\u001b[39m\u001b[38;5;124m\"\u001b[39m\u001b[38;5;124mutf-8\u001b[39m\u001b[38;5;124m\"\u001b[39m) \u001b[38;5;28;01mas\u001b[39;00m f:\n",
      "File \u001b[1;32mc:\\Users\\tanat\\OneDrive\\Desktop\\Git\\testing_working_bench\\Methods\\DetectGPT4Code\\utils_batch.py:138\u001b[0m, in \u001b[0;36mInfillingModel.__init__\u001b[1;34m(self, model_name, cuda, device, tokenizer, half, model, quantization)\u001b[0m\n\u001b[0;32m    136\u001b[0m \u001b[38;5;28;01mif\u001b[39;00m model \u001b[38;5;129;01mis\u001b[39;00m \u001b[38;5;28;01mNone\u001b[39;00m:\n\u001b[0;32m    137\u001b[0m     \u001b[38;5;28mprint\u001b[39m(\u001b[38;5;124m\"\u001b[39m\u001b[38;5;124mloading model\u001b[39m\u001b[38;5;124m\"\u001b[39m)\n\u001b[1;32m--> 138\u001b[0m     model \u001b[38;5;241m=\u001b[39m \u001b[43mAutoModelForCausalLM\u001b[49m\u001b[38;5;241;43m.\u001b[39;49m\u001b[43mfrom_pretrained\u001b[49m\u001b[43m(\u001b[49m\u001b[43mmodel_name\u001b[49m\u001b[43m,\u001b[49m\u001b[43m \u001b[49m\u001b[38;5;241;43m*\u001b[39;49m\u001b[38;5;241;43m*\u001b[39;49m\u001b[43mkwargs\u001b[49m\u001b[43m)\u001b[49m\n\u001b[0;32m    139\u001b[0m \u001b[38;5;28;01mif\u001b[39;00m tokenizer \u001b[38;5;129;01mis\u001b[39;00m \u001b[38;5;28;01mNone\u001b[39;00m:\n\u001b[0;32m    140\u001b[0m     \u001b[38;5;28mprint\u001b[39m(\u001b[38;5;124m\"\u001b[39m\u001b[38;5;124mloading tokenizer\u001b[39m\u001b[38;5;124m\"\u001b[39m)\n",
      "File \u001b[1;32mc:\\Programmazione\\python\\Lib\\site-packages\\transformers\\models\\auto\\auto_factory.py:564\u001b[0m, in \u001b[0;36m_BaseAutoModelClass.from_pretrained\u001b[1;34m(cls, pretrained_model_name_or_path, *model_args, **kwargs)\u001b[0m\n\u001b[0;32m    562\u001b[0m \u001b[38;5;28;01melif\u001b[39;00m \u001b[38;5;28mtype\u001b[39m(config) \u001b[38;5;129;01min\u001b[39;00m \u001b[38;5;28mcls\u001b[39m\u001b[38;5;241m.\u001b[39m_model_mapping\u001b[38;5;241m.\u001b[39mkeys():\n\u001b[0;32m    563\u001b[0m     model_class \u001b[38;5;241m=\u001b[39m _get_model_class(config, \u001b[38;5;28mcls\u001b[39m\u001b[38;5;241m.\u001b[39m_model_mapping)\n\u001b[1;32m--> 564\u001b[0m     \u001b[38;5;28;01mreturn\u001b[39;00m \u001b[43mmodel_class\u001b[49m\u001b[38;5;241;43m.\u001b[39;49m\u001b[43mfrom_pretrained\u001b[49m\u001b[43m(\u001b[49m\n\u001b[0;32m    565\u001b[0m \u001b[43m        \u001b[49m\u001b[43mpretrained_model_name_or_path\u001b[49m\u001b[43m,\u001b[49m\u001b[43m \u001b[49m\u001b[38;5;241;43m*\u001b[39;49m\u001b[43mmodel_args\u001b[49m\u001b[43m,\u001b[49m\u001b[43m \u001b[49m\u001b[43mconfig\u001b[49m\u001b[38;5;241;43m=\u001b[39;49m\u001b[43mconfig\u001b[49m\u001b[43m,\u001b[49m\u001b[43m \u001b[49m\u001b[38;5;241;43m*\u001b[39;49m\u001b[38;5;241;43m*\u001b[39;49m\u001b[43mhub_kwargs\u001b[49m\u001b[43m,\u001b[49m\u001b[43m \u001b[49m\u001b[38;5;241;43m*\u001b[39;49m\u001b[38;5;241;43m*\u001b[39;49m\u001b[43mkwargs\u001b[49m\n\u001b[0;32m    566\u001b[0m \u001b[43m    \u001b[49m\u001b[43m)\u001b[49m\n\u001b[0;32m    567\u001b[0m \u001b[38;5;28;01mraise\u001b[39;00m \u001b[38;5;167;01mValueError\u001b[39;00m(\n\u001b[0;32m    568\u001b[0m     \u001b[38;5;124mf\u001b[39m\u001b[38;5;124m\"\u001b[39m\u001b[38;5;124mUnrecognized configuration class \u001b[39m\u001b[38;5;132;01m{\u001b[39;00mconfig\u001b[38;5;241m.\u001b[39m\u001b[38;5;18m__class__\u001b[39m\u001b[38;5;132;01m}\u001b[39;00m\u001b[38;5;124m for this kind of AutoModel: \u001b[39m\u001b[38;5;132;01m{\u001b[39;00m\u001b[38;5;28mcls\u001b[39m\u001b[38;5;241m.\u001b[39m\u001b[38;5;18m__name__\u001b[39m\u001b[38;5;132;01m}\u001b[39;00m\u001b[38;5;124m.\u001b[39m\u001b[38;5;130;01m\\n\u001b[39;00m\u001b[38;5;124m\"\u001b[39m\n\u001b[0;32m    569\u001b[0m     \u001b[38;5;124mf\u001b[39m\u001b[38;5;124m\"\u001b[39m\u001b[38;5;124mModel type should be one of \u001b[39m\u001b[38;5;132;01m{\u001b[39;00m\u001b[38;5;124m'\u001b[39m\u001b[38;5;124m, \u001b[39m\u001b[38;5;124m'\u001b[39m\u001b[38;5;241m.\u001b[39mjoin(c\u001b[38;5;241m.\u001b[39m\u001b[38;5;18m__name__\u001b[39m\u001b[38;5;250m \u001b[39m\u001b[38;5;28;01mfor\u001b[39;00m\u001b[38;5;250m \u001b[39mc\u001b[38;5;250m \u001b[39m\u001b[38;5;129;01min\u001b[39;00m\u001b[38;5;250m \u001b[39m\u001b[38;5;28mcls\u001b[39m\u001b[38;5;241m.\u001b[39m_model_mapping\u001b[38;5;241m.\u001b[39mkeys())\u001b[38;5;132;01m}\u001b[39;00m\u001b[38;5;124m.\u001b[39m\u001b[38;5;124m\"\u001b[39m\n\u001b[0;32m    570\u001b[0m )\n",
      "File \u001b[1;32mc:\\Programmazione\\python\\Lib\\site-packages\\transformers\\modeling_utils.py:4014\u001b[0m, in \u001b[0;36mPreTrainedModel.from_pretrained\u001b[1;34m(cls, pretrained_model_name_or_path, config, cache_dir, ignore_mismatched_sizes, force_download, local_files_only, token, revision, use_safetensors, *model_args, **kwargs)\u001b[0m\n\u001b[0;32m   4004\u001b[0m     \u001b[38;5;28;01mif\u001b[39;00m dtype_orig \u001b[38;5;129;01mis\u001b[39;00m \u001b[38;5;129;01mnot\u001b[39;00m \u001b[38;5;28;01mNone\u001b[39;00m:\n\u001b[0;32m   4005\u001b[0m         torch\u001b[38;5;241m.\u001b[39mset_default_dtype(dtype_orig)\n\u001b[0;32m   4007\u001b[0m     (\n\u001b[0;32m   4008\u001b[0m         model,\n\u001b[0;32m   4009\u001b[0m         missing_keys,\n\u001b[0;32m   4010\u001b[0m         unexpected_keys,\n\u001b[0;32m   4011\u001b[0m         mismatched_keys,\n\u001b[0;32m   4012\u001b[0m         offload_index,\n\u001b[0;32m   4013\u001b[0m         error_msgs,\n\u001b[1;32m-> 4014\u001b[0m     ) \u001b[38;5;241m=\u001b[39m \u001b[38;5;28;43mcls\u001b[39;49m\u001b[38;5;241;43m.\u001b[39;49m\u001b[43m_load_pretrained_model\u001b[49m\u001b[43m(\u001b[49m\n\u001b[0;32m   4015\u001b[0m \u001b[43m        \u001b[49m\u001b[43mmodel\u001b[49m\u001b[43m,\u001b[49m\n\u001b[0;32m   4016\u001b[0m \u001b[43m        \u001b[49m\u001b[43mstate_dict\u001b[49m\u001b[43m,\u001b[49m\n\u001b[0;32m   4017\u001b[0m \u001b[43m        \u001b[49m\u001b[43mloaded_state_dict_keys\u001b[49m\u001b[43m,\u001b[49m\u001b[43m  \u001b[49m\u001b[38;5;66;43;03m# XXX: rename?\u001b[39;49;00m\n\u001b[0;32m   4018\u001b[0m \u001b[43m        \u001b[49m\u001b[43mresolved_archive_file\u001b[49m\u001b[43m,\u001b[49m\n\u001b[0;32m   4019\u001b[0m \u001b[43m        \u001b[49m\u001b[43mpretrained_model_name_or_path\u001b[49m\u001b[43m,\u001b[49m\n\u001b[0;32m   4020\u001b[0m \u001b[43m        \u001b[49m\u001b[43mignore_mismatched_sizes\u001b[49m\u001b[38;5;241;43m=\u001b[39;49m\u001b[43mignore_mismatched_sizes\u001b[49m\u001b[43m,\u001b[49m\n\u001b[0;32m   4021\u001b[0m \u001b[43m        \u001b[49m\u001b[43msharded_metadata\u001b[49m\u001b[38;5;241;43m=\u001b[39;49m\u001b[43msharded_metadata\u001b[49m\u001b[43m,\u001b[49m\n\u001b[0;32m   4022\u001b[0m \u001b[43m        \u001b[49m\u001b[43m_fast_init\u001b[49m\u001b[38;5;241;43m=\u001b[39;49m\u001b[43m_fast_init\u001b[49m\u001b[43m,\u001b[49m\n\u001b[0;32m   4023\u001b[0m \u001b[43m        \u001b[49m\u001b[43mlow_cpu_mem_usage\u001b[49m\u001b[38;5;241;43m=\u001b[39;49m\u001b[43mlow_cpu_mem_usage\u001b[49m\u001b[43m,\u001b[49m\n\u001b[0;32m   4024\u001b[0m \u001b[43m        \u001b[49m\u001b[43mdevice_map\u001b[49m\u001b[38;5;241;43m=\u001b[39;49m\u001b[43mdevice_map\u001b[49m\u001b[43m,\u001b[49m\n\u001b[0;32m   4025\u001b[0m \u001b[43m        \u001b[49m\u001b[43moffload_folder\u001b[49m\u001b[38;5;241;43m=\u001b[39;49m\u001b[43moffload_folder\u001b[49m\u001b[43m,\u001b[49m\n\u001b[0;32m   4026\u001b[0m \u001b[43m        \u001b[49m\u001b[43moffload_state_dict\u001b[49m\u001b[38;5;241;43m=\u001b[39;49m\u001b[43moffload_state_dict\u001b[49m\u001b[43m,\u001b[49m\n\u001b[0;32m   4027\u001b[0m \u001b[43m        \u001b[49m\u001b[43mdtype\u001b[49m\u001b[38;5;241;43m=\u001b[39;49m\u001b[43mtorch_dtype\u001b[49m\u001b[43m,\u001b[49m\n\u001b[0;32m   4028\u001b[0m \u001b[43m        \u001b[49m\u001b[43mhf_quantizer\u001b[49m\u001b[38;5;241;43m=\u001b[39;49m\u001b[43mhf_quantizer\u001b[49m\u001b[43m,\u001b[49m\n\u001b[0;32m   4029\u001b[0m \u001b[43m        \u001b[49m\u001b[43mkeep_in_fp32_modules\u001b[49m\u001b[38;5;241;43m=\u001b[39;49m\u001b[43mkeep_in_fp32_modules\u001b[49m\u001b[43m,\u001b[49m\n\u001b[0;32m   4030\u001b[0m \u001b[43m        \u001b[49m\u001b[43mgguf_path\u001b[49m\u001b[38;5;241;43m=\u001b[39;49m\u001b[43mgguf_path\u001b[49m\u001b[43m,\u001b[49m\n\u001b[0;32m   4031\u001b[0m \u001b[43m    \u001b[49m\u001b[43m)\u001b[49m\n\u001b[0;32m   4033\u001b[0m \u001b[38;5;66;03m# make sure token embedding weights are still tied if needed\u001b[39;00m\n\u001b[0;32m   4034\u001b[0m model\u001b[38;5;241m.\u001b[39mtie_weights()\n",
      "File \u001b[1;32mc:\\Programmazione\\python\\Lib\\site-packages\\transformers\\modeling_utils.py:4502\u001b[0m, in \u001b[0;36mPreTrainedModel._load_pretrained_model\u001b[1;34m(cls, model, state_dict, loaded_keys, resolved_archive_file, pretrained_model_name_or_path, ignore_mismatched_sizes, sharded_metadata, _fast_init, low_cpu_mem_usage, device_map, offload_folder, offload_state_dict, dtype, hf_quantizer, keep_in_fp32_modules, gguf_path)\u001b[0m\n\u001b[0;32m   4498\u001b[0m                 set_module_tensor_to_device(\n\u001b[0;32m   4499\u001b[0m                     model_to_load, key, \u001b[38;5;124m\"\u001b[39m\u001b[38;5;124mcpu\u001b[39m\u001b[38;5;124m\"\u001b[39m, torch\u001b[38;5;241m.\u001b[39mempty(\u001b[38;5;241m*\u001b[39mparam\u001b[38;5;241m.\u001b[39msize(), dtype\u001b[38;5;241m=\u001b[39mdtype)\n\u001b[0;32m   4500\u001b[0m                 )\n\u001b[0;32m   4501\u001b[0m     \u001b[38;5;28;01melse\u001b[39;00m:\n\u001b[1;32m-> 4502\u001b[0m         new_error_msgs, offload_index, state_dict_index \u001b[38;5;241m=\u001b[39m \u001b[43m_load_state_dict_into_meta_model\u001b[49m\u001b[43m(\u001b[49m\n\u001b[0;32m   4503\u001b[0m \u001b[43m            \u001b[49m\u001b[43mmodel_to_load\u001b[49m\u001b[43m,\u001b[49m\n\u001b[0;32m   4504\u001b[0m \u001b[43m            \u001b[49m\u001b[43mstate_dict\u001b[49m\u001b[43m,\u001b[49m\n\u001b[0;32m   4505\u001b[0m \u001b[43m            \u001b[49m\u001b[43mstart_prefix\u001b[49m\u001b[43m,\u001b[49m\n\u001b[0;32m   4506\u001b[0m \u001b[43m            \u001b[49m\u001b[43mexpected_keys\u001b[49m\u001b[43m,\u001b[49m\n\u001b[0;32m   4507\u001b[0m \u001b[43m            \u001b[49m\u001b[43mdevice_map\u001b[49m\u001b[38;5;241;43m=\u001b[39;49m\u001b[43mdevice_map\u001b[49m\u001b[43m,\u001b[49m\n\u001b[0;32m   4508\u001b[0m \u001b[43m            \u001b[49m\u001b[43moffload_folder\u001b[49m\u001b[38;5;241;43m=\u001b[39;49m\u001b[43moffload_folder\u001b[49m\u001b[43m,\u001b[49m\n\u001b[0;32m   4509\u001b[0m \u001b[43m            \u001b[49m\u001b[43moffload_index\u001b[49m\u001b[38;5;241;43m=\u001b[39;49m\u001b[43moffload_index\u001b[49m\u001b[43m,\u001b[49m\n\u001b[0;32m   4510\u001b[0m \u001b[43m            \u001b[49m\u001b[43mstate_dict_folder\u001b[49m\u001b[38;5;241;43m=\u001b[39;49m\u001b[43mstate_dict_folder\u001b[49m\u001b[43m,\u001b[49m\n\u001b[0;32m   4511\u001b[0m \u001b[43m            \u001b[49m\u001b[43mstate_dict_index\u001b[49m\u001b[38;5;241;43m=\u001b[39;49m\u001b[43mstate_dict_index\u001b[49m\u001b[43m,\u001b[49m\n\u001b[0;32m   4512\u001b[0m \u001b[43m            \u001b[49m\u001b[43mdtype\u001b[49m\u001b[38;5;241;43m=\u001b[39;49m\u001b[43mdtype\u001b[49m\u001b[43m,\u001b[49m\n\u001b[0;32m   4513\u001b[0m \u001b[43m            \u001b[49m\u001b[43mhf_quantizer\u001b[49m\u001b[38;5;241;43m=\u001b[39;49m\u001b[43mhf_quantizer\u001b[49m\u001b[43m,\u001b[49m\n\u001b[0;32m   4514\u001b[0m \u001b[43m            \u001b[49m\u001b[43mis_safetensors\u001b[49m\u001b[38;5;241;43m=\u001b[39;49m\u001b[43mis_safetensors\u001b[49m\u001b[43m,\u001b[49m\n\u001b[0;32m   4515\u001b[0m \u001b[43m            \u001b[49m\u001b[43mkeep_in_fp32_modules\u001b[49m\u001b[38;5;241;43m=\u001b[39;49m\u001b[43mkeep_in_fp32_modules\u001b[49m\u001b[43m,\u001b[49m\n\u001b[0;32m   4516\u001b[0m \u001b[43m            \u001b[49m\u001b[43munexpected_keys\u001b[49m\u001b[38;5;241;43m=\u001b[39;49m\u001b[43munexpected_keys\u001b[49m\u001b[43m,\u001b[49m\n\u001b[0;32m   4517\u001b[0m \u001b[43m        \u001b[49m\u001b[43m)\u001b[49m\n\u001b[0;32m   4518\u001b[0m         error_msgs \u001b[38;5;241m+\u001b[39m\u001b[38;5;241m=\u001b[39m new_error_msgs\n\u001b[0;32m   4519\u001b[0m \u001b[38;5;28;01melse\u001b[39;00m:\n\u001b[0;32m   4520\u001b[0m     \u001b[38;5;66;03m# Sharded checkpoint or whole but low_cpu_mem_usage==True\u001b[39;00m\n",
      "File \u001b[1;32mc:\\Programmazione\\python\\Lib\\site-packages\\transformers\\modeling_utils.py:975\u001b[0m, in \u001b[0;36m_load_state_dict_into_meta_model\u001b[1;34m(model, state_dict, start_prefix, expected_keys, device_map, offload_folder, offload_index, state_dict_folder, state_dict_index, dtype, hf_quantizer, is_safetensors, keep_in_fp32_modules, unexpected_keys, pretrained_model_name_or_path)\u001b[0m\n\u001b[0;32m    973\u001b[0m     set_module_tensor_to_device(model, param_name, param_device, \u001b[38;5;241m*\u001b[39m\u001b[38;5;241m*\u001b[39mset_module_kwargs)\n\u001b[0;32m    974\u001b[0m \u001b[38;5;28;01melse\u001b[39;00m:\n\u001b[1;32m--> 975\u001b[0m     \u001b[43mhf_quantizer\u001b[49m\u001b[38;5;241;43m.\u001b[39;49m\u001b[43mcreate_quantized_param\u001b[49m\u001b[43m(\u001b[49m\u001b[43mmodel\u001b[49m\u001b[43m,\u001b[49m\u001b[43m \u001b[49m\u001b[43mparam\u001b[49m\u001b[43m,\u001b[49m\u001b[43m \u001b[49m\u001b[43mparam_name\u001b[49m\u001b[43m,\u001b[49m\u001b[43m \u001b[49m\u001b[43mparam_device\u001b[49m\u001b[43m,\u001b[49m\u001b[43m \u001b[49m\u001b[43mstate_dict\u001b[49m\u001b[43m,\u001b[49m\u001b[43m \u001b[49m\u001b[43munexpected_keys\u001b[49m\u001b[43m)\u001b[49m\n\u001b[0;32m    976\u001b[0m     \u001b[38;5;66;03m# For quantized modules with FSDP/DeepSpeed Stage 3, we need to quantize the parameter on the GPU\u001b[39;00m\n\u001b[0;32m    977\u001b[0m     \u001b[38;5;66;03m# and then cast it to CPU to avoid excessive memory usage on each GPU\u001b[39;00m\n\u001b[0;32m    978\u001b[0m     \u001b[38;5;66;03m# in comparison to the sharded model across GPUs.\u001b[39;00m\n\u001b[0;32m    979\u001b[0m     \u001b[38;5;28;01mif\u001b[39;00m is_fsdp_enabled() \u001b[38;5;129;01mor\u001b[39;00m is_deepspeed_zero3_enabled():\n",
      "File \u001b[1;32mc:\\Programmazione\\python\\Lib\\site-packages\\transformers\\quantizers\\quantizer_bnb_4bit.py:238\u001b[0m, in \u001b[0;36mBnb4BitHfQuantizer.create_quantized_param\u001b[1;34m(self, model, param_value, param_name, target_device, state_dict, unexpected_keys)\u001b[0m\n\u001b[0;32m    235\u001b[0m         new_value \u001b[38;5;241m=\u001b[39m new_value\u001b[38;5;241m.\u001b[39mT\n\u001b[0;32m    237\u001b[0m     kwargs \u001b[38;5;241m=\u001b[39m old_value\u001b[38;5;241m.\u001b[39m\u001b[38;5;18m__dict__\u001b[39m\n\u001b[1;32m--> 238\u001b[0m     new_value \u001b[38;5;241m=\u001b[39m \u001b[43mbnb\u001b[49m\u001b[38;5;241;43m.\u001b[39;49m\u001b[43mnn\u001b[49m\u001b[38;5;241;43m.\u001b[39;49m\u001b[43mParams4bit\u001b[49m\u001b[43m(\u001b[49m\u001b[43mnew_value\u001b[49m\u001b[43m,\u001b[49m\u001b[43m \u001b[49m\u001b[43mrequires_grad\u001b[49m\u001b[38;5;241;43m=\u001b[39;49m\u001b[38;5;28;43;01mFalse\u001b[39;49;00m\u001b[43m,\u001b[49m\u001b[43m \u001b[49m\u001b[38;5;241;43m*\u001b[39;49m\u001b[38;5;241;43m*\u001b[39;49m\u001b[43mkwargs\u001b[49m\u001b[43m)\u001b[49m\u001b[38;5;241;43m.\u001b[39;49m\u001b[43mto\u001b[49m\u001b[43m(\u001b[49m\u001b[43mtarget_device\u001b[49m\u001b[43m)\u001b[49m\n\u001b[0;32m    240\u001b[0m module\u001b[38;5;241m.\u001b[39m_parameters[tensor_name] \u001b[38;5;241m=\u001b[39m new_value\n",
      "File \u001b[1;32mc:\\Programmazione\\python\\Lib\\site-packages\\bitsandbytes\\nn\\modules.py:332\u001b[0m, in \u001b[0;36mParams4bit.to\u001b[1;34m(self, *args, **kwargs)\u001b[0m\n\u001b[0;32m    329\u001b[0m device, dtype, non_blocking, convert_to_format \u001b[38;5;241m=\u001b[39m torch\u001b[38;5;241m.\u001b[39m_C\u001b[38;5;241m.\u001b[39m_nn\u001b[38;5;241m.\u001b[39m_parse_to(\u001b[38;5;241m*\u001b[39margs, \u001b[38;5;241m*\u001b[39m\u001b[38;5;241m*\u001b[39mkwargs)\n\u001b[0;32m    331\u001b[0m \u001b[38;5;28;01mif\u001b[39;00m device \u001b[38;5;129;01mis\u001b[39;00m \u001b[38;5;129;01mnot\u001b[39;00m \u001b[38;5;28;01mNone\u001b[39;00m \u001b[38;5;129;01mand\u001b[39;00m device\u001b[38;5;241m.\u001b[39mtype \u001b[38;5;241m==\u001b[39m \u001b[38;5;124m\"\u001b[39m\u001b[38;5;124mcuda\u001b[39m\u001b[38;5;124m\"\u001b[39m \u001b[38;5;129;01mand\u001b[39;00m \u001b[38;5;129;01mnot\u001b[39;00m \u001b[38;5;28mself\u001b[39m\u001b[38;5;241m.\u001b[39mbnb_quantized:\n\u001b[1;32m--> 332\u001b[0m     \u001b[38;5;28;01mreturn\u001b[39;00m \u001b[38;5;28;43mself\u001b[39;49m\u001b[38;5;241;43m.\u001b[39;49m\u001b[43m_quantize\u001b[49m\u001b[43m(\u001b[49m\u001b[43mdevice\u001b[49m\u001b[43m)\u001b[49m\n\u001b[0;32m    333\u001b[0m \u001b[38;5;28;01melse\u001b[39;00m:\n\u001b[0;32m    334\u001b[0m     \u001b[38;5;28;01mif\u001b[39;00m \u001b[38;5;28mself\u001b[39m\u001b[38;5;241m.\u001b[39mquant_state \u001b[38;5;129;01mis\u001b[39;00m \u001b[38;5;129;01mnot\u001b[39;00m \u001b[38;5;28;01mNone\u001b[39;00m:\n",
      "File \u001b[1;32mc:\\Programmazione\\python\\Lib\\site-packages\\bitsandbytes\\nn\\modules.py:297\u001b[0m, in \u001b[0;36mParams4bit._quantize\u001b[1;34m(self, device)\u001b[0m\n\u001b[0;32m    295\u001b[0m \u001b[38;5;28;01mdef\u001b[39;00m \u001b[38;5;21m_quantize\u001b[39m(\u001b[38;5;28mself\u001b[39m, device):\n\u001b[0;32m    296\u001b[0m     w \u001b[38;5;241m=\u001b[39m \u001b[38;5;28mself\u001b[39m\u001b[38;5;241m.\u001b[39mdata\u001b[38;5;241m.\u001b[39mcontiguous()\u001b[38;5;241m.\u001b[39mto(device)\n\u001b[1;32m--> 297\u001b[0m     w_4bit, quant_state \u001b[38;5;241m=\u001b[39m \u001b[43mbnb\u001b[49m\u001b[38;5;241;43m.\u001b[39;49m\u001b[43mfunctional\u001b[49m\u001b[38;5;241;43m.\u001b[39;49m\u001b[43mquantize_4bit\u001b[49m\u001b[43m(\u001b[49m\n\u001b[0;32m    298\u001b[0m \u001b[43m        \u001b[49m\u001b[43mw\u001b[49m\u001b[43m,\u001b[49m\n\u001b[0;32m    299\u001b[0m \u001b[43m        \u001b[49m\u001b[43mblocksize\u001b[49m\u001b[38;5;241;43m=\u001b[39;49m\u001b[38;5;28;43mself\u001b[39;49m\u001b[38;5;241;43m.\u001b[39;49m\u001b[43mblocksize\u001b[49m\u001b[43m,\u001b[49m\n\u001b[0;32m    300\u001b[0m \u001b[43m        \u001b[49m\u001b[43mcompress_statistics\u001b[49m\u001b[38;5;241;43m=\u001b[39;49m\u001b[38;5;28;43mself\u001b[39;49m\u001b[38;5;241;43m.\u001b[39;49m\u001b[43mcompress_statistics\u001b[49m\u001b[43m,\u001b[49m\n\u001b[0;32m    301\u001b[0m \u001b[43m        \u001b[49m\u001b[43mquant_type\u001b[49m\u001b[38;5;241;43m=\u001b[39;49m\u001b[38;5;28;43mself\u001b[39;49m\u001b[38;5;241;43m.\u001b[39;49m\u001b[43mquant_type\u001b[49m\u001b[43m,\u001b[49m\n\u001b[0;32m    302\u001b[0m \u001b[43m        \u001b[49m\u001b[43mquant_storage\u001b[49m\u001b[38;5;241;43m=\u001b[39;49m\u001b[38;5;28;43mself\u001b[39;49m\u001b[38;5;241;43m.\u001b[39;49m\u001b[43mquant_storage\u001b[49m\u001b[43m,\u001b[49m\n\u001b[0;32m    303\u001b[0m \u001b[43m    \u001b[49m\u001b[43m)\u001b[49m\n\u001b[0;32m    304\u001b[0m     \u001b[38;5;28mself\u001b[39m\u001b[38;5;241m.\u001b[39mdata \u001b[38;5;241m=\u001b[39m w_4bit\n\u001b[0;32m    305\u001b[0m     \u001b[38;5;28mself\u001b[39m\u001b[38;5;241m.\u001b[39mquant_state \u001b[38;5;241m=\u001b[39m quant_state\n",
      "File \u001b[1;32mc:\\Programmazione\\python\\Lib\\site-packages\\bitsandbytes\\functional.py:1232\u001b[0m, in \u001b[0;36mquantize_4bit\u001b[1;34m(A, absmax, out, blocksize, compress_statistics, quant_type, quant_storage)\u001b[0m\n\u001b[0;32m   1223\u001b[0m         lib\u001b[38;5;241m.\u001b[39mcquantize_blockwise_fp16_fp4(\n\u001b[0;32m   1224\u001b[0m             get_ptr(\u001b[38;5;28;01mNone\u001b[39;00m),\n\u001b[0;32m   1225\u001b[0m             get_ptr(A),\n\u001b[1;32m   (...)\u001b[0m\n\u001b[0;32m   1229\u001b[0m             ct\u001b[38;5;241m.\u001b[39mc_int(n),\n\u001b[0;32m   1230\u001b[0m         )\n\u001b[0;32m   1231\u001b[0m     \u001b[38;5;28;01melse\u001b[39;00m:\n\u001b[1;32m-> 1232\u001b[0m         \u001b[43mlib\u001b[49m\u001b[38;5;241;43m.\u001b[39;49m\u001b[43mcquantize_blockwise_fp16_nf4\u001b[49m(\n\u001b[0;32m   1233\u001b[0m             get_ptr(\u001b[38;5;28;01mNone\u001b[39;00m),\n\u001b[0;32m   1234\u001b[0m             get_ptr(A),\n\u001b[0;32m   1235\u001b[0m             get_ptr(absmax),\n\u001b[0;32m   1236\u001b[0m             get_ptr(out),\n\u001b[0;32m   1237\u001b[0m             ct\u001b[38;5;241m.\u001b[39mc_int32(blocksize),\n\u001b[0;32m   1238\u001b[0m             ct\u001b[38;5;241m.\u001b[39mc_int(n),\n\u001b[0;32m   1239\u001b[0m         )\n\u001b[0;32m   1240\u001b[0m \u001b[38;5;28;01melif\u001b[39;00m A\u001b[38;5;241m.\u001b[39mdtype \u001b[38;5;241m==\u001b[39m torch\u001b[38;5;241m.\u001b[39mbfloat16:\n\u001b[0;32m   1241\u001b[0m     \u001b[38;5;28;01mif\u001b[39;00m quant_type \u001b[38;5;241m==\u001b[39m \u001b[38;5;124m\"\u001b[39m\u001b[38;5;124mfp4\u001b[39m\u001b[38;5;124m\"\u001b[39m:\n",
      "File \u001b[1;32mc:\\Programmazione\\python\\Lib\\site-packages\\bitsandbytes\\cextension.py:68\u001b[0m, in \u001b[0;36mBNBNativeLibrary.__getattr__\u001b[1;34m(self, item)\u001b[0m\n\u001b[0;32m     67\u001b[0m \u001b[38;5;28;01mdef\u001b[39;00m \u001b[38;5;21m__getattr__\u001b[39m(\u001b[38;5;28mself\u001b[39m, item):\n\u001b[1;32m---> 68\u001b[0m     \u001b[38;5;28;01mreturn\u001b[39;00m \u001b[38;5;28;43mgetattr\u001b[39;49m\u001b[43m(\u001b[49m\u001b[38;5;28;43mself\u001b[39;49m\u001b[38;5;241;43m.\u001b[39;49m\u001b[43m_lib\u001b[49m\u001b[43m,\u001b[49m\u001b[43m \u001b[49m\u001b[43mitem\u001b[49m\u001b[43m)\u001b[49m\n",
      "File \u001b[1;32mc:\\Programmazione\\python\\Lib\\ctypes\\__init__.py:392\u001b[0m, in \u001b[0;36mCDLL.__getattr__\u001b[1;34m(self, name)\u001b[0m\n\u001b[0;32m    390\u001b[0m \u001b[38;5;28;01mif\u001b[39;00m name\u001b[38;5;241m.\u001b[39mstartswith(\u001b[38;5;124m'\u001b[39m\u001b[38;5;124m__\u001b[39m\u001b[38;5;124m'\u001b[39m) \u001b[38;5;129;01mand\u001b[39;00m name\u001b[38;5;241m.\u001b[39mendswith(\u001b[38;5;124m'\u001b[39m\u001b[38;5;124m__\u001b[39m\u001b[38;5;124m'\u001b[39m):\n\u001b[0;32m    391\u001b[0m     \u001b[38;5;28;01mraise\u001b[39;00m \u001b[38;5;167;01mAttributeError\u001b[39;00m(name)\n\u001b[1;32m--> 392\u001b[0m func \u001b[38;5;241m=\u001b[39m \u001b[38;5;28;43mself\u001b[39;49m\u001b[38;5;241;43m.\u001b[39;49m\u001b[38;5;21;43m__getitem__\u001b[39;49m\u001b[43m(\u001b[49m\u001b[43mname\u001b[49m\u001b[43m)\u001b[49m\n\u001b[0;32m    393\u001b[0m \u001b[38;5;28msetattr\u001b[39m(\u001b[38;5;28mself\u001b[39m, name, func)\n\u001b[0;32m    394\u001b[0m \u001b[38;5;28;01mreturn\u001b[39;00m func\n",
      "File \u001b[1;32mc:\\Programmazione\\python\\Lib\\ctypes\\__init__.py:397\u001b[0m, in \u001b[0;36mCDLL.__getitem__\u001b[1;34m(self, name_or_ordinal)\u001b[0m\n\u001b[0;32m    396\u001b[0m \u001b[38;5;28;01mdef\u001b[39;00m \u001b[38;5;21m__getitem__\u001b[39m(\u001b[38;5;28mself\u001b[39m, name_or_ordinal):\n\u001b[1;32m--> 397\u001b[0m     func \u001b[38;5;241m=\u001b[39m \u001b[38;5;28;43mself\u001b[39;49m\u001b[38;5;241;43m.\u001b[39;49m\u001b[43m_FuncPtr\u001b[49m\u001b[43m(\u001b[49m\u001b[43m(\u001b[49m\u001b[43mname_or_ordinal\u001b[49m\u001b[43m,\u001b[49m\u001b[43m \u001b[49m\u001b[38;5;28;43mself\u001b[39;49m\u001b[43m)\u001b[49m\u001b[43m)\u001b[49m\n\u001b[0;32m    398\u001b[0m     \u001b[38;5;28;01mif\u001b[39;00m \u001b[38;5;129;01mnot\u001b[39;00m \u001b[38;5;28misinstance\u001b[39m(name_or_ordinal, \u001b[38;5;28mint\u001b[39m):\n\u001b[0;32m    399\u001b[0m         func\u001b[38;5;241m.\u001b[39m\u001b[38;5;18m__name__\u001b[39m \u001b[38;5;241m=\u001b[39m name_or_ordinal\n",
      "\u001b[1;31mAttributeError\u001b[0m: function 'cquantize_blockwise_fp16_nf4' not found"
     ]
    }
   ],
   "source": [
    "run_fill_in_the_middle(\n",
    "    input_path = HUMAN_PATH,\n",
    "    output_path = HUMANfim, \n",
    "    batch_size =10,\n",
    "    mask_lines =8,\n",
    "    model_name = fim_model,\n",
    "    code_lable = code_conlumn,\n",
    "    device = DEVICE\n",
    ")"
   ]
  },
  {
   "cell_type": "code",
   "execution_count": null,
   "id": "9f32c71c",
   "metadata": {},
   "outputs": [],
   "source": [
    "run_fill_in_the_middle(\n",
    "    input_path = LLM_PATH,\n",
    "    output_path = LLMfim, \n",
    "    batch_size =10,\n",
    "    mask_lines =8,\n",
    "    model_name = fim_model,\n",
    "    code_lable = code_conlumn,\n",
    "    device = DEVICE\n",
    ")"
   ]
  },
  {
   "cell_type": "markdown",
   "id": "57486dd2",
   "metadata": {},
   "source": [
    "## Testing"
   ]
  },
  {
   "cell_type": "markdown",
   "id": "7372a516",
   "metadata": {},
   "source": [
    "![Grafico dei risultati](Methods/Code_detection/img/PolyCoder.jpg)"
   ]
  },
  {
   "cell_type": "code",
   "execution_count": 18,
   "id": "56f1382f",
   "metadata": {},
   "outputs": [
    {
     "name": "stdout",
     "output_type": "stream",
     "text": [
      "max length: 2048\n"
     ]
    }
   ],
   "source": [
    "from transformers import AutoConfig, AutoModelForCausalLM, AutoTokenizer\n",
    "import torch\n",
    "\n",
    "DEVICE = \"cuda\" if torch.cuda.is_available() else \"cpu\"\n",
    "\n",
    "model_name = 'NinedayWang/PolyCoder-160M'\n",
    "PyCodeGPT = AutoModelForCausalLM.from_pretrained(model_name).to(DEVICE)\n",
    "PyCodeGPT_tokenizer = AutoTokenizer.from_pretrained( model_name )\n",
    "\n",
    "CONFIG = AutoConfig.from_pretrained(model_name)\n",
    "# Get the default max_length\n",
    "MAX_LENGTH = CONFIG.max_position_embeddings\n",
    "print(f\"max length: {MAX_LENGTH}\")\n",
    "\n",
    "\n",
    "HUMAN = \"./Methods/DetectGPT4Code/results/8HUMANfim.jsonl\""
   ]
  },
  {
   "cell_type": "code",
   "execution_count": 19,
   "id": "78056d20",
   "metadata": {},
   "outputs": [],
   "source": [
    "import numpy as np\n",
    "from torch.nn.functional import log_softmax\n",
    "\n",
    "inputs = 'this is a test'\n",
    "truncate_ratio=0.9\n",
    "def get_logprob(inputs, \n",
    "                tokenizer = PyCodeGPT_tokenizer, \n",
    "                model = PyCodeGPT, \n",
    "                max_length=MAX_LENGTH, \n",
    "                device = DEVICE \n",
    "                ):\n",
    "    '''\n",
    "    '''\n",
    "\n",
    "    input_ids = tokenizer.encode(inputs, return_tensors='pt').to(DEVICE)\n",
    "    input_ids = input_ids[:, :max_length]\n",
    "\n",
    "    with torch.no_grad():\n",
    "        output = model(input_ids)\n",
    "    logits = output[0]\n",
    "\n",
    "    # Assuming the `logits` tensor contains the output from the model\n",
    "    log_probs = log_softmax(logits, dim=-1)\n",
    "    # Select the log probabilities for the specific tokens in the input\n",
    "    input_log_probs = log_probs[0, torch.arange(log_probs.size(1)), input_ids[0]]\n",
    "    # Multiply by -1 to get the negative log probabilities\n",
    "    neg_log_probs = -input_log_probs\n",
    "    neg_log_probs = neg_log_probs.cpu().numpy().tolist()\n",
    "    return np.average( neg_log_probs[int( truncate_ratio*len(neg_log_probs)): ] ), neg_log_probs"
   ]
  },
  {
   "cell_type": "code",
   "execution_count": 20,
   "id": "f7e6bfa5",
   "metadata": {},
   "outputs": [
    {
     "data": {
      "text/plain": [
       "np.float64(6.511268615722656)"
      ]
     },
     "execution_count": 20,
     "metadata": {},
     "output_type": "execute_result"
    }
   ],
   "source": [
    "avg_neg_log_probs, neg_log_probs = get_logprob('this is a test')\n",
    "neg_log_probs[-500:]\n",
    "avg_neg_log_probs"
   ]
  },
  {
   "cell_type": "markdown",
   "id": "14ce644a",
   "metadata": {},
   "source": [
    "data"
   ]
  },
  {
   "cell_type": "code",
   "execution_count": 21,
   "id": "6749909c",
   "metadata": {},
   "outputs": [],
   "source": [
    "import json\n",
    "\n",
    "def read_jsonl_selected(path_jsonl, keys_to_keep=None):\n",
    "    \"\"\"\n",
    "    Legge un file JSONL e restituisce una lista di dict contenenti \n",
    "    solo le chiavi specificate in keys_to_keep.\n",
    "    Se keys_to_keep è None, restituisce l'intero dict.\n",
    "    \"\"\"\n",
    "    data = []\n",
    "    with open(path_jsonl, \"r\", encoding=\"utf-8\") as f:\n",
    "        for line in f:\n",
    "            line = line.strip()\n",
    "            if not line:\n",
    "                continue\n",
    "            obj = json.loads(line)\n",
    "            if keys_to_keep is not None:\n",
    "                filtered = {k: obj[k] for k in keys_to_keep if k in obj}\n",
    "                data.append(filtered)\n",
    "            else:\n",
    "                data.append(obj)\n",
    "    return data\n",
    "\n",
    "\n"
   ]
  },
  {
   "cell_type": "code",
   "execution_count": 22,
   "id": "9f276bb5",
   "metadata": {},
   "outputs": [
    {
     "name": "stdout",
     "output_type": "stream",
     "text": [
      "{'cleared_code': 'import sys\\nimport numpy as np\\nn, t = map(int, input().split())\\nknapsack = np.zeros(t, dtype=np.int64)\\ncuisines = [tuple(map(int, line.split())) for line in sys.stdin]\\ncuisines.sort()\\ntmp_ans = 0\\nfor a, b in cuisines:\\n    tmp_ans = max(tmp_ans, knapsack.max() + b)\\n    knapsack[a:] = np.maximum(knapsack[a:], knapsack[:-a] + b)\\nprint(max(tmp_ans, knapsack.max()))\\n', 'fill_in_middle_gold': [{'text': 'import sys\\nt = int(sys.argv[1])\\nknapsack = np.zeros(t, dtype=np.int64)\\ncuisines = sorted(set(cuisines))\\ncuisines.sort()\\nfor cuisine in cuisines:\\n    mask = cuisines == cuisine\\n    knapsack[mask] += t[mask]\\n\\nprint knapsack\\n\\n<|/ file source=github filename=knapsack.py \\n', 'parts': ['import sys', '', '\\nknapsack = np.zeros(t, dtype=np.int64)', '\\ncuisines.sort()', '', '', '', '\\n'], 'infills': ['\\nt = int(', 'sys.argv[1])', '\\ncuisines = sorted(set(cuisines))', '\\nfor cuisine in cuisines:\\n', '    mask = cuisines == cuisine\\n    knapsack[mask] += t[mask]\\n\\nprint ', 'knapsack\\n\\n<|/ file source=github filename=knapsack.py ', ''], 'retries_attempted': 1, 'completed': True}, {'text': 'import sys\\n\\nknapsack = sys.argv[1]\\nt = int(sys.argv[2])\\ncuisines = []\\nwith open(knapsack) as f:\\nknapsack = np.zeros(t, dtype=np.int64)\\nfor line in f:\\n    line = line.strip()\\n    line = line.split()\\n    cuisines.append(line[0])\\n    weights.append(int(line[1]))\\n    capacity = int(line[2])\\ncuisines.sort()\\nweights = np.array(weights, dtype=np.int64)\\ncapacity = capacity/weights[0]\\ncuisines = np.array(cuisines, dtype=np.int64)\\ncapacity = capacity/weights[0]\\n\\nfor cuisine in cuisines:\\n    \\n        \\n<|/ file source=github \\n', 'parts': ['import sys', '', '\\nknapsack = np.zeros(t, dtype=np.int64)', '\\ncuisines.sort()', '', '', '', '\\n'], 'infills': ['\\n\\nknapsack = sys.argv[1]\\nt = int(sys.argv[2])', '\\ncuisines = []\\nwith open(knapsack) as f:', '\\nfor line in f:\\n    line = line.strip()\\n    line = line.split()\\n    cuisines.append(line[0])\\n    weights.append(int(line[1]))\\n    capacity = int(line[2])', '\\nweights = np.array(weights, dtype=np.int64)\\ncapacity = capacity', '/weight', 's[0]\\ncuisines = np.array(cuisines, dtype=np.int64)\\ncapacity = capacity/weights[0]\\n\\nfor cuisine in cuisines:\\n    ', '\\n        \\n<|/ file source=github '], 'retries_attempted': 1, 'completed': True}, {'text': \"import sys\\nknapsack = np.genfromtxt(sys.argv[1], delimiter=',')\\nprint knapsack\\n</code>\\n<|/ a dscore=0 |>\\nknapsack = np.zeros(t, dtype=np.int64)\\ncuisines = ['Burgers', 'Coffee', 'Pizza', 'Soda', 'Noodles']\\ncuisines.sort()\\n\\nfor t in range(len(knapsack)):\\n    if cuisines[knapsack[t]-1] == 'Pizza':\\n        knapsack[t] = int(knapsack[t]) + int(knapsack[t+1]) + int(knapsack[t+2])\\nprint knapsack\\n</code>\\n\", 'parts': ['import sys', '', '\\nknapsack = np.zeros(t, dtype=np.int64)', '\\ncuisines.sort()', '', '', '', '\\n'], 'infills': [\"\\nknapsack = np.genfromtxt(sys.argv[1], delimiter=',')\\nprint knapsack\\n</code>\", '\\n<|/ a dscore=0 |>', \"\\ncuisines = ['Burgers', 'Coffee', 'Pizza', 'Soda', 'Noodles']\", '\\n\\nfor t in range(len(knapsack)):\\n', \"    if cuisines[knapsack[t]-1] == 'Pizza':\\n        knapsack[t] = int(\", '', 'knapsack[t]) + int(knapsack[t+1]) + int(knapsack[t+2])\\nprint knapsack\\n</code>'], 'retries_attempted': 1, 'completed': True}, {'text': 'import sys\\ncuisines = sys.stdin.readlines()\\nknapsack = np.zeros(t, dtype=np.int64)\\nknapsack[0] = -1\\nknapsack[1] = 0\\nfor i in cuisines:\\n    i, j = i.split()\\n    knapsack[int(i)+1] = knapsack[int(i)+1] + int(j)\\nprint(knapsack[knapsack.argmax()])\\n</cell>\\n<cell>\\ncuisines.sort()\\nprint(cuisines)\\n</cell>\\n<|/ file source=github |>\\n', 'parts': ['import sys', '', '\\nknapsack = np.zeros(t, dtype=np.int64)', '\\ncuisines.sort()', '', '', '', '\\n'], 'infills': ['\\n', 'cuisines = sys.stdin.readlines()', '\\nknapsack[0] = -1\\nknapsack[1] = 0\\nfor i in cuisines:\\n    i, j = i.split()\\n    knapsack[int(i)+1] = knapsack[int(i)+1] + int(j)\\nprint(knapsack[knapsack.argmax()])\\n</cell>\\n<cell>', '\\nprint(cuisines)\\n</cell>\\n', '<|/ file source=github |>', '', ''], 'retries_attempted': 1, 'completed': True}, {'text': 'import sys\\n    \\nknapsack = np.zeros(t, dtype=np.int64)\\ncuisines = [\\n    \"italian\",\\n    \"chinese\",\\n    \"korean\",\\n    \"french\",\\n    \"german\",\\n    \"spanish\",\\n]\\ncuisines.sort()\\nfor city in cuisines:\\n    weights = load_weights(city)\\n    print(city)\\n    for t in range(t):\\n        knapsack[t] = knapsack[t-1] + weights[t-1]\\nprint(knapsack[-1])\\n\\n<|/ file filename=main.py source=\\n', 'parts': ['import sys', '', '\\nknapsack = np.zeros(t, dtype=np.int64)', '\\ncuisines.sort()', '', '', '', '\\n'], 'infills': ['\\n    ', '', '\\ncuisines = [\\n    \"italian\",\\n    \"chinese\",\\n    \"korean\",\\n    \"french\",\\n    \"german\",\\n    \"spanish\",\\n]', '\\n', 'for city in cuisines:\\n    weights = load_weights(city)\\n    print(', 'city)\\n    for t in range(t):\\n        ', 'knapsack[t] = knapsack[t-1] + weights[t-1]\\nprint(knapsack[-1])\\n\\n<|/ file filename=main.py source='], 'retries_attempted': 1, 'completed': True}, {'text': \"import sys\\nsys.path.append('../')\\nfrom problem_2.knapsack import knapsack\\nknapsack = np.zeros(t, dtype=np.int64)\\ncuisines = ['Italian', 'Chinese', 'Mexican', 'American', 'Indian']\\nknapsack = knapsack\\ncuisines.sort()\\ncuisines = np.array(cuisines)\\n\\n<|/ file ext=.py filename=problem_\\n\", 'parts': ['import sys', '', '\\nknapsack = np.zeros(t, dtype=np.int64)', '\\ncuisines.sort()', '', '', '', '\\n'], 'infills': [\"\\nsys.path.append('../')\\nfrom problem_2.\", 'knapsack import knapsack', \"\\ncuisines = ['Italian', 'Chinese', 'Mexican', 'American', 'Indian']\\nknapsack = knapsack\", '\\ncuisines = np.array(cuisines)', '\\n\\n<|/ file ext=.py filename=', 'problem_', ''], 'retries_attempted': 1, 'completed': True}, {'text': \"import sys\\nt = sys.maxsize\\nknapsack = np.zeros(t, dtype=np.int64)\\nfor cuisine in cuisines:\\n    if cuisine == 0:\\n        continue\\n    knapsack[cuisine] = sum(knapsack[:cuisine])\\n    \\ncuisines.sort()\\nprint(knapsack[-1])\\n</cell>\\n<text>\\nConclusions\\nThis took about 1 minute on my laptop, which is quite slow. I think it's possible to reduce it to about 6 seconds by using Cython (not really sure how to do that though).\\n\\n\\n</text>\\n<|/ file filename=knapsack_solution.ipynb ext=.ipynb:python dstars=1 source=github \\n\", 'parts': ['import sys', '', '\\nknapsack = np.zeros(t, dtype=np.int64)', '\\ncuisines.sort()', '', '', '', '\\n'], 'infills': ['\\n', 't = sys.maxsize', '\\nfor cuisine in cuisines:\\n    if cuisine == 0:\\n        continue\\n    knapsack[cuisine] = sum(knapsack[:cuisine])\\n    ', '\\nprint(knapsack[-1])\\n</cell>\\n<text>\\nConclusions\\nThis took about 1 minute on my laptop, which is quite ', \"slow. I think it's possible to reduce it to about 6 seconds by using Cython (not really sure how to do that though).\\n\\n\\n</text>\\n<|/ file filename=knapsack_solution.ipynb \", 'ext=.ipynb:python dstars=1 ', 'source=github '], 'retries_attempted': 1, 'completed': True}, {'text': 'import sys\\nt = int(sys.argv[1])\\ncuisines = sys.argv[2:]\\nknapsack = np.zeros(t, dtype=np.int64)\\nfor cuisine in cuisines:\\n    weights = [int(x) for x in cuisine.split()]\\n    weights.append(0)\\n    cuisines.append(weights)\\nknapsack = knapsack + cuisines[-1]\\ncuisines = cuisines[:-1]\\ncuisines.sort()\\ncuisines = np.array(cuisines, dtype=np.int64)\\n</code>\\n<|/ a |>\\n', 'parts': ['import sys', '', '\\nknapsack = np.zeros(t, dtype=np.int64)', '\\ncuisines.sort()', '', '', '', '\\n'], 'infills': ['\\n', 't = int(sys.argv[1])\\ncuisines = sys.argv[2:]', '\\nfor cuisine in cuisines:\\n    weights = [int(x) for x in cuisine.split()]\\n    weights.append(0)\\n    cuisines.append(weights)\\nknapsack = knapsack + cuisines[-1]\\ncuisines = cuisines[:-1]', '\\ncuisine', 's = np.array(cuisines, dtype=np.int64)\\n</code>\\n<|/ a |>', '', ''], 'retries_attempted': 1, 'completed': True}, {'text': 'import sys\\nknapsack = np.zeros(t, dtype=np.int64)\\ncuisines.sort()\\nfor i in cuisines:\\n    knapsack[i] = 0\\n    \\nknapsack[cuisines] = max_weight\\nknapsack = np.zeros(t, dtype=np.int64)\\ncuisines.sort()\\nfor i in cuisines:\\n    knapsack[i] = 0\\n    \\nknapsack[cuisines] = max_weight\\n</cell>\\n<cell>\\nknapsack\\n</cell>\\n<cell>\\nt\\ncuisines.sort()\\n</cell>\\n<cell>\\n\\n</cell>\\n<|/ file dstars=1 |>\\n', 'parts': ['import sys', '', '\\nknapsack = np.zeros(t, dtype=np.int64)', '\\ncuisines.sort()', '', '', '', '\\n'], 'infills': ['\\nknapsack = np.zeros(t, dtype=np.int64)\\ncuisines.sort()\\nfor i in cuisines:\\n    knapsack[i] = 0\\n    \\nknapsack[', 'cuisines] = max_weight', '\\ncuisines.sort()\\nfor i in cuisines:\\n    knapsack[i] = 0\\n    \\nknapsack[cuisines] = max_weight\\n</cell>\\n<cell>\\nknapsack\\n</cell>\\n<cell>\\nt', '\\n</cell>\\n<cell>\\n\\n</cell>\\n<|/ file dstars=1 ', '|>', '', ''], 'retries_attempted': 1, 'completed': True}, {'text': 'import sys\\nt = int(input())\\ncuisines = list(map(int, input().split()))\\nknapsack = np.zeros(t, dtype=np.int64)\\nfor _ in range(t):\\n    item, weight, knapsack = input().split()\\n    knapsack[int(item)] += int(weight)\\ncuisines.sort()\\ncuisines.sort()\\n\\n<|/ file source=github filename=1185.py ext=\\n', 'parts': ['import sys', '', '\\nknapsack = np.zeros(t, dtype=np.int64)', '\\ncuisines.sort()', '', '', '', '\\n'], 'infills': ['\\nt = ', 'int(input())\\ncuisines = list(map(int, input().split()))', '\\nfor _ in range(t):\\n    item, weight, knapsack = input().split()\\n    knapsack[int(item)] += int(weight)\\ncuisines.sort()', '\\n\\n', '<|/ file source=github ', 'filename=1185.py ext', '='], 'retries_attempted': 1, 'completed': True}, {'text': 'import sys\\nif len(sys.argv) < 2:\\n    filename = sys.stdin\\nknapsack = np.zeros(t, dtype=np.int64)\\n\\nfor line in sys.stdin:\\n    cuisines, _, value = line.rstrip().split()\\n    knapsack[cuisines] += int(value)\\n\\nres = np.argpartition(knapsack, cuisines.index(\"Italian\"))[:\\ncuisines.sort()\\nprint(cuisines[res])\\n</code>\\n<|/ a dscore=1 \\n', 'parts': ['import sys', '', '\\nknapsack = np.zeros(t, dtype=np.int64)', '\\ncuisines.sort()', '', '', '', '\\n'], 'infills': ['\\nif len(sys.argv) < 2:\\n    filename = sys.stdin', '', '\\n\\nfor line in sys.stdin:\\n    cuisines, _, value = line.rstrip().split()\\n    knapsack[cuisines] += int(value)\\n\\nres = np.argpartition(knapsack, cuisines.index(\"Italian\"))[:', '\\nprint(cuisines[res])\\n</code>', '\\n<|/ a d', 'score=1 ', ''], 'retries_attempted': 1, 'completed': True}, {'text': \"import sys\\nt = sys.maxsize\\nknapsack = np.zeros(t, dtype=np.int64)\\ncuisines.sort()\\ncuisines.reverse()\\nprint(cuisines)\\nprint(cuisines.count(1))\\ncuisines.sort()\\ncuisines.reverse()\\nprint(cuisines)\\nprint(cuisines.count(1))\\nprint(cuisines.count(2))\\n</code>\\n<|/ a tags=python,list dscore=1 |>\\n<| c |>\\nThanks for the answer! But I guess it's not the best solution since it creates another list just to sort it. Any other suggestions?\\n<|/ c |>\\n<| c |>\\nIt is a O(n*log(n)) solution.  If you want the shortest path then you need to use dynamic programming.  You can find details on wikipedia for it https://en.wikipedia.org/wiki/Dijkstra%27s_algorithm\\n<|/ c |>\\n<| c |>\\nThanks for the help!\\n<|/ c |>\\n\", 'parts': ['import sys', '', '\\nknapsack = np.zeros(t, dtype=np.int64)', '\\ncuisines.sort()', '', '', '', '\\n'], 'infills': ['\\n', 't = sys.maxsize', '\\ncuisines.sort()\\ncuisines.reverse()\\nprint(cuisines)\\nprint(cuisines.count(1))', \"\\ncuisines.reverse()\\nprint(cuisines)\\nprint(cuisines.count(1))\\nprint(cuisines.count(2))\\n</code>\\n<|/ a tags=python,list dscore=1 |>\\n<| c |>\\nThanks for the answer! But I guess it's not the best solution since it creates another list just to sort it. Any other suggestions?\\n<|/ c |>\\n<| c |>\\nIt is a O(n*log(n)) solution.  If you want the shortest path then you need to use dynamic programming.  You can find details on wikipedia for it https://en.wikipedia.org/wiki/Dijkstra%27s_algorithm\\n<|/ c |>\", '\\n<| c |>', '\\nThanks for the help!\\n<|/ c |>', ''], 'retries_attempted': 1, 'completed': False}, {'text': 'import sys\\nt = int(sys.stdin.readline())\\ncuisines = []\\nknapsack = np.zeros(t, dtype=np.int64)\\nfor i in xrange(t):\\n\\tn = int(sys.stdin.readline())\\n\\tcuisines.append(sys.stdin.readline().strip())\\n\\t\\nfor i,c in enumerate(cuisines):\\n\\tknapsack[i] = knapsack[i-1] + int(c) if int(c) < knapsack[i-1] else knapsack[i-1]\\ncuisines.sort()\\nprint knapsack[-1]\\n\\n<|/ file source=github |>\\n', 'parts': ['import sys', '', '\\nknapsack = np.zeros(t, dtype=np.int64)', '\\ncuisines.sort()', '', '', '', '\\n'], 'infills': ['\\nt = ', 'int(sys.stdin.readline())\\ncuisines = []', '\\nfor i in xrange(t):\\n\\tn = int(sys.stdin.readline())\\n\\tcuisines.append(sys.stdin.readline().strip())\\n\\t\\nfor i,c in enumerate(cuisines):\\n\\tknapsack[i] = knapsack[i-1] + int(c) if int(c) < knapsack[i-1] else knapsack[i-1]', '\\nprint ', 'knapsack[-1]\\n\\n<|/ file source=', 'github |>', ''], 'retries_attempted': 1, 'completed': True}, {'text': 'import sys\\ncuisines = sys.stdin.readline().strip().split()\\nknapsack = np.zeros(t, dtype=np.int64)\\nfor cuisine in cuisines:\\n    knapsack[cuisine-1] += 1\\ncuisines.sort()\\nprint(knapsack)\\n</code>\\n<|/ a dscore=0 |>\\n', 'parts': ['import sys', '', '\\nknapsack = np.zeros(t, dtype=np.int64)', '\\ncuisines.sort()', '', '', '', '\\n'], 'infills': ['\\n', 'cuisines = sys.stdin.readline().strip().split()', '\\nfor cuisine in cuisines:\\n    knapsack[cuisine-1] += 1', '\\nprint(', 'knapsack)', '\\n</code>\\n<|/ a d', 'score=0 |>'], 'retries_attempted': 1, 'completed': True}, {'text': \"import sys\\nt = sys.maxint\\nknapsack = np.zeros(t, dtype=np.int64)\\ncuisines = cuisines.split('|')\\ncuisines.sort()\\nknapsack[cuisines] += 1\\n\\n<|/ file ext=.ipynb:python dstars=1 source=github filename=Knapsack.ipynb \\n\", 'parts': ['import sys', '', '\\nknapsack = np.zeros(t, dtype=np.int64)', '\\ncuisines.sort()', '', '', '', '\\n'], 'infills': ['\\nt = ', 'sys.maxint', \"\\ncuisines = cuisines.split('|')\", '\\n', 'knapsack[cuisines] += 1\\n\\n', '<|/', ' file ext=.ipynb:python dstars=1 source=github filename=Knapsack.ipynb '], 'retries_attempted': 1, 'completed': True}, {'text': \"import sys\\nif len(sys.argv) != 2:\\n    sys.stderr.write('Usage: %s filename\\\\n' % sys.argv[0])\\n    sys.exit(1)\\n\\nfilename = sys.argv[1]\\nwith open(filename) as file:\\n    lines = file.readlines()\\n\\nn = int(lines[0])\\nt = int(lines[1])\\nknapsack = np.zeros(t, dtype=np.int64)\\ncuisines = lines[2]\\ncuisines = cuisines.split()\\ncuisines.sort()\\n\\nfor i in range(len(cuisines)):\\n    cuisine = cuisines[i]\\n    idx = cuisines.index(cuisine)\\n    knapsack[idx] += 1\\n\\nfor i in range(len(knapsack)):\\n    print(i, knapsack[i])\\n\\n<|/ file filename=knapsack.py d\\n\", 'parts': ['import sys', '', '\\nknapsack = np.zeros(t, dtype=np.int64)', '\\ncuisines.sort()', '', '', '', '\\n'], 'infills': [\"\\nif len(sys.argv) != 2:\\n    sys.stderr.write('Usage: %s filename\\\\n' % sys.argv[0])\\n    sys.exit(1)\\n\\nfilename = sys.argv[1]\\nwith open(filename) as file:\\n    lines = file.readlines()\\n\\n\", 'n = int(lines[0])\\nt = int(lines[1])', '\\ncuisines = lines[2]\\ncuisines = cuisines.split()', '\\n\\nfor i in range(len(cuisines)):\\n    cuisine = cuisines[i]\\n    idx = ', 'cuisines.index(cuisine)\\n    knapsack[idx] += 1\\n\\nfor i in range(len(knapsack)):\\n    print(i, knapsack[i])\\n\\n<|/ file filename=', 'knapsack.py d', ''], 'retries_attempted': 1, 'completed': True}, {'text': \"import sys\\nprint(sys.version.split('.'))\\n</code>\\n<|/ a dscore=0 |>\\nknapsack = np.zeros(t, dtype=np.int64)\\ncuisines = ['Italian','Italian Sandwich','Italian Fries','Italian Special','Italian Steak','Italian Sandwich','Italian Salad','Italian Burger','Italian Fries','Italian Special','Italian Sandwich','Italian Salad','Italian Burger','Italian Fries','Italian Special','Italian Sandwich','Italian Salad','Italian Burger','Italian Fries','Italian \\ncuisines.sort()\\nfor i in cuisines:\\n    knapsack[i] = knapsack[i-1] + cuisines[i]\\nprint(knapsack[knapsack > 50])\\n</code>\\n<|/ a tag\\n\", 'parts': ['import sys', '', '\\nknapsack = np.zeros(t, dtype=np.int64)', '\\ncuisines.sort()', '', '', '', '\\n'], 'infills': [\"\\nprint(sys.version.split('\", \".'))\\n</code>\\n<|/ a dscore=0 |>\", \"\\ncuisines = ['Italian','Italian Sandwich','Italian Fries','Italian Special','Italian Steak','Italian Sandwich','Italian Salad','Italian Burger','Italian Fries','Italian Special','Italian Sandwich','Italian Salad','Italian Burger','Italian Fries','Italian Special','Italian Sandwich','Italian Salad','Italian Burger','Italian Fries','Italian \", '\\nfor i in cuisines:\\n    knapsack[i] = knapsack[i-1] + cuisine', 's[i]', '\\nprint(knapsack[knapsack > 50])', '\\n</code>\\n<|/ a tag'], 'retries_attempted': 1, 'completed': False}, {'text': 'import sys\\nimport numpy as np\\nknapsack = knapsack(item_list, item_weight, t)\\nknapsack = np.zeros(t, dtype=np.int64)\\nfor i in item_list:\\ncuisines.sort()\\nfor i in cuisines:\\n    knapsack[i] = item_weight[i]\\nprint(knapsack)\\n</cell>\\n<|/ file filename=knapsack.ipynb \\n', 'parts': ['import sys', '', '\\nknapsack = np.zeros(t, dtype=np.int64)', '\\ncuisines.sort()', '', '', '', '\\n'], 'infills': ['\\nimport numpy as np', '\\nknapsack = knapsack(item_list, item_weight, t)', '\\nfor i in item_list:', '\\nfor i in cuisines:\\n', '    knapsack[i] = item_weight[i]\\nprint(knapsack)\\n</cell>', '\\n<|/ file filename=knapsack.ipynb ', ''], 'retries_attempted': 1, 'completed': True}, {'text': 'import sys\\nt = sys.getsizeof(cuisines)\\nprint(t)\\nknapsack = np.zeros(t, dtype=np.int64)\\nfor cuisine in cuisines:\\n    count = 0\\n    for d in cuisine:\\n        count += knapsack\\ncuisines.sort()\\nprint(cuisines)\\nprint(count)\\n</code>\\n<|/ a tags=python,numpy,list,arrays |>\\n<| c |>\\nIf it works for you, please accept the answer :) !\\n<|/ c \\n', 'parts': ['import sys', '', '\\nknapsack = np.zeros(t, dtype=np.int64)', '\\ncuisines.sort()', '', '', '', '\\n'], 'infills': ['\\nt = sys.getsizeof(cuisines)\\nprint(', 't)', '\\nfor cuisine in cuisines:\\n    count = 0\\n    for d in cuisine:\\n        count += knapsack', '\\nprint(cuisines)\\nprint(count)', '\\n</code>\\n<|/ a tags=python,numpy,list,arrays |>', '\\n<| c |>\\nIf it works for you, please accept the answer :) !\\n<|/ c ', ''], 'retries_attempted': 1, 'completed': True}, {'text': 'import sys\\nfrom timeit import default_timer as timer\\nknapsack = np.zeros(t, dtype=np.int64)\\ncuisines = np.arange(0, t+1)\\nknapsack[0] = 0\\nknapsack[1] = 1\\ncuisines.sort()\\nprint(cuisines)\\nprint(knapsack)\\n<|/ file filename=knapsack.py ext=.py \\n', 'parts': ['import sys', '', '\\nknapsack = np.zeros(t, dtype=np.int64)', '\\ncuisines.sort()', '', '', '', '\\n'], 'infills': ['\\nfrom timeit import default_timer as timer', '', '\\ncuisines = np.arange(0, t+1)\\nknapsack[0] = 0\\nknapsack[1] = 1', '\\nprint(cuisines)\\nprint(knapsack)\\n<|/ file filename=', 'knapsack.py ext=.py ', '', ''], 'retries_attempted': 1, 'completed': True}]}\n"
     ]
    }
   ],
   "source": [
    "rows_HUMAN = read_jsonl_selected('./Methods/DetectGPT4Code/results/8HUMANfim.jsonl', keys_to_keep=[\"cleared_code\", \"fill_in_middle_gold\"])\n",
    "rows_LLM = read_jsonl_selected('./Methods/DetectGPT4Code/results/8LLMfim.jsonl', keys_to_keep=[\"cleared_code\", \"fill_in_middle_gold\"])\n",
    "\n",
    "print(rows_HUMAN[0])"
   ]
  },
  {
   "cell_type": "code",
   "execution_count": 23,
   "id": "e6eb9202",
   "metadata": {},
   "outputs": [
    {
     "name": "stdout",
     "output_type": "stream",
     "text": [
      "am ok\n"
     ]
    }
   ],
   "source": [
    "### TEST\n",
    "def γ_application(s: str, γ: float = 90) -> str:\n",
    "    total = 1-γ\n",
    "    if not s:  # stringa vuota\n",
    "        return \"\"\n",
    "    n = max(5, len(s) // total)  # almeno 1 carattere\n",
    "    return s[-n:]\n",
    "\n",
    "print(γ_application(\"hello world, how are you? i am ok\", γ=99))"
   ]
  },
  {
   "cell_type": "code",
   "execution_count": 24,
   "id": "a56bb12d",
   "metadata": {},
   "outputs": [],
   "source": [
    "import tqdm\n",
    "\n",
    "\n",
    "def prob_difference(rows: dict, γ: float = 90) -> list:\n",
    "\n",
    "    '''\n",
    "    '''\n",
    "    def γ_application(s: str, γ: float = 90) -> str:\n",
    "        total = 1-γ\n",
    "        if not s:  # stringa vuota\n",
    "            return \"\"\n",
    "        n = max(5, len(s) // total)  # almeno 1 carattere\n",
    "        return s[-n:]\n",
    "\n",
    "    gold_prob_all = []\n",
    "    no_dict = 0\n",
    "    no_code = 0\n",
    "    no_fill_in_middle = 0\n",
    "    no_fill_completed = 0\n",
    "\n",
    "    print(\"Starting processing...\")\n",
    "    print(f\"Total rows: {len(rows)}\")\n",
    "\n",
    "    for i, row in tqdm.tqdm(enumerate(rows), total=len(rows)):\n",
    "\n",
    "        # prendi l'originale: preferisci cleared_code, altrimenti code\n",
    "        if not isinstance(row, dict):\n",
    "            no_dict += 1\n",
    "            continue\n",
    "\n",
    "\n",
    "\n",
    "        gold = row.get(\"cleared_code\") or row.get(\"code\")\n",
    "        gold = γ_application(gold)\n",
    "        if not gold:\n",
    "            no_code += 1\n",
    "            continue\n",
    "\n",
    "        if not row.get(\"fill_in_middle_gold\"):\n",
    "            no_fill_in_middle += 1\n",
    "            continue\n",
    "\n",
    "        # THE MAIN PART\n",
    "        fim_completed = [γ_application(f.get(\"text\"), γ=γ) for f in row.get(\"fill_in_middle_gold\") \n",
    "                            if isinstance(f, dict) and f.get(\"completed\", False) and \"text\" in f]\n",
    "\n",
    "        if len(fim_completed) < 8 or fim_completed is None:\n",
    "            no_fill_completed += 1\n",
    "            continue\n",
    "\n",
    "        # stesso schema: score originale - media(score perturbazioni)\n",
    "        original_score = get_logprob(gold)[0]\n",
    "\n",
    "        miu_scores = [get_logprob(text)[0] for text in fim_completed]\n",
    "        miu_scores_average_score = float(np.mean(miu_scores))\n",
    "\n",
    "        gold_prob_all.append(original_score - miu_scores_average_score)\n",
    "\n",
    "    print(f\"Processed | no_dict: {no_dict}, no_code: {no_code}, no_fill_in_middle: {no_fill_in_middle}, no_fill_completed: {no_fill_completed}\")\n",
    "\n",
    "    return gold_prob_all \n",
    "\n",
    "\n"
   ]
  },
  {
   "cell_type": "code",
   "execution_count": 25,
   "id": "b2720155",
   "metadata": {},
   "outputs": [
    {
     "name": "stdout",
     "output_type": "stream",
     "text": [
      "Starting processing...\n",
      "Total rows: 249\n"
     ]
    },
    {
     "name": "stderr",
     "output_type": "stream",
     "text": [
      "100%|██████████| 249/249 [00:07<00:00, 33.51it/s]\n"
     ]
    },
    {
     "name": "stdout",
     "output_type": "stream",
     "text": [
      "Processed | no_dict: 0, no_code: 0, no_fill_in_middle: 0, no_fill_completed: 141\n",
      "Starting processing...\n",
      "Total rows: 747\n"
     ]
    },
    {
     "name": "stderr",
     "output_type": "stream",
     "text": [
      "100%|██████████| 747/747 [00:24<00:00, 30.98it/s]"
     ]
    },
    {
     "name": "stdout",
     "output_type": "stream",
     "text": [
      "Processed | no_dict: 0, no_code: 0, no_fill_in_middle: 0, no_fill_completed: 386\n",
      "-0.2909950886642246\n",
      "-0.24633107770586354\n"
     ]
    },
    {
     "name": "stderr",
     "output_type": "stream",
     "text": [
      "\n"
     ]
    }
   ],
   "source": [
    "prob_HUMAN = prob_difference(rows_HUMAN, γ=95)\n",
    "prob_LLM = prob_difference(rows_LLM,γ=95)\n",
    "\n",
    "print(float(np.mean(prob_HUMAN)))\n",
    "print(float(np.mean(prob_LLM)))"
   ]
  },
  {
   "cell_type": "code",
   "execution_count": 26,
   "id": "223cd73d",
   "metadata": {},
   "outputs": [
    {
     "name": "stdout",
     "output_type": "stream",
     "text": [
      "[np.float64(-1.566263688935174), np.float64(0.0), np.float64(0.0), np.float64(0.0), np.float64(-0.3875662922859191), np.float64(-2.562360498640272), np.float64(0.0), np.float64(-1.753874349594116), np.float64(0.0), np.float64(-0.44921538829803476), np.float64(0.0), np.float64(0.0), np.float64(0.0), np.float64(0.0), np.float64(-1.1544365485509238), np.float64(0.0), np.float64(0.0), np.float64(0.0), np.float64(-1.0925505995750426), np.float64(0.0), np.float64(-0.9182751655578612), np.float64(0.0), np.float64(-0.45068889194064665), np.float64(-1.592025566101074), np.float64(0.0), np.float64(-0.5066150695085527), np.float64(0.0), np.float64(0.0), np.float64(0.0), np.float64(0.0), np.float64(0.0), np.float64(0.0), np.float64(0.0), np.float64(0.0), np.float64(0.0), np.float64(0.0), np.float64(0.0), np.float64(0.0), np.float64(0.0), np.float64(0.0), np.float64(-0.33357482486300993), np.float64(0.05563492178916929), np.float64(-1.38081271648407), np.float64(0.0), np.float64(0.0), np.float64(0.0), np.float64(0.0), np.float64(0.0), np.float64(-0.08415735960006732), np.float64(-0.990413212776184), np.float64(-0.5422918200492859), np.float64(0.0), np.float64(-1.7609410285949707), np.float64(-0.6265437006950378), np.float64(0.0), np.float64(0.0), np.float64(0.0), np.float64(0.0), np.float64(0.0), np.float64(0.0), np.float64(0.0), np.float64(0.0), np.float64(0.0), np.float64(0.0), np.float64(0.0), np.float64(-0.5810344457626342), np.float64(-0.6799531459808348), np.float64(0.0), np.float64(0.0), np.float64(0.0), np.float64(-0.5568794846534728), np.float64(-1.5602272868156435), np.float64(-1.6154736412896051), np.float64(-0.1917877197265625), np.float64(0.0), np.float64(-1.3645052671432496), np.float64(0.0), np.float64(0.0), np.float64(0.0), np.float64(0.0), np.float64(0.0), np.float64(0.0), np.float64(-1.046873617172241), np.float64(0.0), np.float64(0.0), np.float64(0.0), np.float64(0.0), np.float64(-0.6759699285030365), np.float64(0.0), np.float64(-0.7939349280463324), np.float64(-0.6981829669740467), np.float64(0.0), np.float64(0.0), np.float64(0.0), np.float64(-0.9503846433427601), np.float64(0.0), np.float64(0.0), np.float64(0.0), np.float64(0.0), np.float64(0.0), np.float64(0.0), np.float64(0.0), np.float64(0.0), np.float64(0.0), np.float64(-1.0695797072516546), np.float64(0.0), np.float64(-1.5457109928131105), np.float64(0.0)]\n"
     ]
    },
    {
     "data": {
      "image/png": "[encoded data removed]",
      "text/plain": [
       "<Figure size 640x480 with 1 Axes>"
      ]
     },
     "metadata": {},
     "output_type": "display_data"
    }
   ],
   "source": [
    "import matplotlib.pyplot as plt\n",
    "\n",
    "print(prob_HUMAN)\n",
    "plt.figure()\n",
    "plt.plot(np.arange(len(prob_HUMAN)), prob_HUMAN)\n",
    "plt.plot(np.arange(len(prob_LLM)), prob_LLM)\n",
    "plt.ylim(0, 0.4)               # scala verticale 0–1\n",
    "plt.xlabel(\"Indice\")\n",
    "plt.ylabel(\"Probabilità\")\n",
    "plt.title('Hi')\n",
    "plt.grid(True)\n",
    "plt.show()"
   ]
  },
  {
   "cell_type": "code",
   "execution_count": 31,
   "id": "f8ae4fb5",
   "metadata": {},
   "outputs": [
    {
     "data": {
      "image/png": "[encoded data removed]",
      "text/plain": [
       "<Figure size 600x600 with 1 Axes>"
      ]
     },
     "metadata": {},
     "output_type": "display_data"
    }
   ],
   "source": [
    "# pseudo classification \n",
    "from sklearn.metrics import auc, roc_curve\n",
    "\n",
    "\n",
    "k = -0.26\n",
    "TP = sum(x > k for x in prob_HUMAN)\n",
    "FN = sum(x <= k for x in prob_HUMAN)\n",
    "\n",
    "TN = sum(x <= k for x in prob_LLM)\n",
    "FP = sum(x > k for x in prob_LLM)\n",
    "\n",
    "\n",
    "y_true   = [1]*len(prob_HUMAN) + [0]*len(prob_LLM)\n",
    "\n",
    "y_scores = list(prob_HUMAN) + list(prob_LLM)\n",
    "\n",
    "\n",
    "fpr, tpr, soglie = roc_curve(y_true, y_scores)   \n",
    "roc_auc = auc(fpr, tpr)\n",
    "\n",
    "plt.figure(figsize=(6,6))\n",
    "plt.plot(fpr, tpr, lw=2, label=f\"ROC AUC = {roc_auc:.3f}\")\n",
    "plt.plot([0,1],[0,1], linestyle=\"--\")\n",
    "plt.xlabel(\"False Positive Rate\")\n",
    "plt.ylabel(\"True Positive Rate\")\n",
    "plt.title(\"ROC Curve\")\n",
    "plt.legend(loc=\"lower right\")\n",
    "plt.show()\n",
    "\n"
   ]
  }
 ],
 "metadata": {
  "kernelspec": {
   "display_name": "Python 3",
   "language": "python",
   "name": "python3"
  },
  "language_info": {
   "codemirror_mode": {
    "name": "ipython",
    "version": 3
   },
   "file_extension": ".py",
   "mimetype": "text/x-python",
   "name": "python",
   "nbconvert_exporter": "python",
   "pygments_lexer": "ipython3",
   "version": "3.12.6"
  }
 },
 "nbformat": 4,
 "nbformat_minor": 5
}
